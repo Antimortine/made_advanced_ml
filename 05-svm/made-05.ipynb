{
 "cells": [
  {
   "cell_type": "code",
   "execution_count": null,
   "metadata": {},
   "outputs": [],
   "source": [
    "import pandas as pd\n",
    "import numpy as np\n",
    "import pymc3 as pm\n",
    "import matplotlib as mpl\n",
    "import matplotlib.pyplot as plt\n",
    "import seaborn as sns\n",
    "import warnings\n",
    "warnings.filterwarnings('ignore')\n",
    "from collections import OrderedDict\n",
    "from time import time\n",
    "\n",
    "import numpy as np\n",
    "import scipy as sp\n",
    "import pandas as pd\n",
    "\n",
    "from scipy.optimize import fmin_powell\n",
    "from scipy import integrate\n",
    "from scipy import linalg\n",
    "\n",
    "from sklearn.preprocessing import normalize\n",
    "from sklearn import linear_model\n",
    "from sklearn.utils.testing import ignore_warnings\n",
    "from sklearn.exceptions import ConvergenceWarning\n",
    "\n",
    "sns.set_style(\"whitegrid\")\n",
    "sns.set_palette(\"colorblind\")\n",
    "palette = sns.color_palette()\n",
    "figsize = (12,6)\n",
    "legend_fontsize = 16\n",
    "\n",
    "from matplotlib import rc\n",
    "rc('font',**{'family':'sans-serif'})\n",
    "rc('text', usetex=True)\n",
    "rc('text.latex',preamble=r'\\usepackage[utf8]{inputenc}')\n",
    "rc('text.latex',preamble=r'\\usepackage[russian]{babel}')\n",
    "rc('axes', **{'titlesize': '16', 'labelsize': '16'})\n",
    "rc('legend', **{'fontsize': '16'})\n",
    "rc('figure', **{'dpi' : 150})"
   ]
  },
  {
   "cell_type": "markdown",
   "metadata": {},
   "source": [
    "## Метод опорных векторов: линейные SVM"
   ]
  },
  {
   "cell_type": "code",
   "execution_count": null,
   "metadata": {},
   "outputs": [],
   "source": [
    "def sample_mixture(N, pi, mu1, sigma1, mu2, sigma2):\n",
    "    z = np.array( np.random.rand(N) < pi, dtype=int)\n",
    "    res = np.zeros((N, 2))\n",
    "    res[np.where(z == 1)] = np.random.multivariate_normal(mu1, sigma1, np.sum(z))\n",
    "    res[np.where(z == 0)] = np.random.multivariate_normal(mu2, sigma2, N-np.sum(z))\n",
    "    return z, res\n",
    "\n",
    "def sample_two_classes(mu1, sigma1, mu2, sigma2, pi=0.5, N=200, Ntest=None):\n",
    "    z, x = sample_mixture(N, pi, mu1, sigma1, mu2, sigma2)\n",
    "    if Ntest is None:\n",
    "        return z, x\n",
    "    else:\n",
    "        test_z, test_x = sample_mixture(Ntest, pi, mu1, sigma1, mu2, sigma2)\n",
    "        return z, x, test_z, test_x\n",
    "\n",
    "def plot_points(ax, x, z, mu1=None, mu2=None):\n",
    "    ax.scatter(x[np.where(z==1), 0], x[np.where(z==1), 1], marker='.', color='b')\n",
    "    ax.scatter(x[np.where(z==0), 0], x[np.where(z==0), 1], marker='.', color='r')\n",
    "    if mu1 is not None:\n",
    "        if mu1.ndim == 1:\n",
    "            ax.scatter([mu1[0]], [mu1[1]], marker='*', s=120, color='b')\n",
    "        else:\n",
    "            ax.scatter(mu1[:, 0], mu1[:, 1], marker='*', s=120, color='b')\n",
    "    if mu2 is not None:\n",
    "        if mu2.ndim == 1:\n",
    "            ax.scatter([mu2[0]], [mu2[1]], marker='*', s=120, color='r')\n",
    "        else:\n",
    "            ax.scatter(mu2[:, 0], mu2[:, 1], marker='*', s=120, color='r')\n",
    "\n",
    "from matplotlib import colors\n",
    "cmap = colors.LinearSegmentedColormap(\n",
    "    'red_blue_classes',\n",
    "    {'red': [(0, 1, 1), (1, 0.7, 0.7)],\n",
    "     'green': [(0, 0.7, 0.7), (1, 0.7, 0.7)],\n",
    "     'blue': [(0, 0.7, 0.7), (1, 1, 1)]})\n",
    "\n",
    "def plot_ellipse(ax, mu, sigma, color):\n",
    "    v, w = sp.linalg.eigh(sigma)\n",
    "    u = w[0] / sp.linalg.norm(w[0])\n",
    "    angle = np.arctan(u[1] / u[0])\n",
    "    angle = 180 * angle / np.pi\n",
    "    ell = mpl.patches.Ellipse(mu, 2 * v[0] ** 0.5, 2 * v[1] ** 0.5,\n",
    "                              180 + angle, facecolor=color,\n",
    "                              edgecolor='black', linewidth=2)\n",
    "    ell.set_clip_box(ax.bbox)\n",
    "    ell.set_alpha(0.2)\n",
    "    ax.add_artist(ell)\n",
    "    ax.scatter(mu[0], mu[1], marker='+', color=color, s=100)\n",
    "\n",
    "def get_meshgrid(nx=200, ny=200):\n",
    "    x_min, x_max = plt.xlim()\n",
    "    y_min, y_max = plt.ylim()\n",
    "    return np.meshgrid(np.linspace(x_min, x_max, nx), np.linspace(y_min, y_max, ny))\n",
    "\n",
    "def plot_colormesh(ax, model):\n",
    "    xx, yy = get_meshgrid()\n",
    "    Z = model.predict_proba(np.c_[xx.ravel(), yy.ravel()])\n",
    "    Z = Z[:, 1].reshape(xx.shape)\n",
    "    plt.pcolormesh(xx, yy, Z, cmap=cmap,\n",
    "                   norm=colors.Normalize(0., 1.), zorder=0)\n",
    "    plt.contour(xx, yy, Z, [0.5], linewidths=2., colors='white')\n",
    "\n",
    "def plot_colormesh_svm(ax, model):\n",
    "    xx, yy = get_meshgrid()\n",
    "    Z = model.decision_function(np.c_[xx.ravel(), yy.ravel()]).reshape(xx.shape)\n",
    "    ax.pcolormesh(xx, yy, Z, cmap=cmap,\n",
    "                   norm=colors.Normalize(0., 1.), zorder=0)\n",
    "    ax.contour(xx, yy, Z, [-1, 0, 1], linewidths=2., colors='white', linestyles=['--', '-', '--'])\n",
    "\n",
    "def plot_svm_decision(ax, model, xx, yy):\n",
    "    Z = model.decision_function(np.c_[xx.ravel(), yy.ravel()]).reshape(xx.shape)\n",
    "    ax.contour(xx, yy, Z, [0], linewidths=.5, colors='black', linestyles=['-'])\n",
    "\n",
    "def plot_svm_decisions(ax, models):\n",
    "    xx, yy = get_meshgrid()\n",
    "    for model in models:\n",
    "        plot_svm_decision(ax, model, xx, yy)"
   ]
  },
  {
   "cell_type": "code",
   "execution_count": null,
   "metadata": {},
   "outputs": [],
   "source": [
    "mu1, sigma1 = np.array([-1, -.5]), .25*np.array([[1, -.5], [-.5, 2]])\n",
    "mu2, sigma2 = np.array([2.5, 1]), .25*np.array([[2, -1.2], [-1.2, 2.5]])\n",
    "\n",
    "z, x = sample_two_classes(mu1, sigma1, mu2, sigma2)\n",
    "\n",
    "fig = plt.figure(figsize=figsize)\n",
    "ax = fig.add_subplot(111)\n",
    "plot_points(ax, x, z, mu1, mu2)\n",
    "\n",
    "plt.show()"
   ]
  },
  {
   "cell_type": "code",
   "execution_count": null,
   "metadata": {},
   "outputs": [],
   "source": [
    "fig = plt.figure(figsize=figsize)\n",
    "ax = fig.add_subplot(111)\n",
    "plot_points(ax, x, z, mu1, mu2)\n",
    "\n",
    "xs = np.arange(-3, 6)\n",
    "ax.plot(xs, xs*-.75 + 1.2, color=\"black\", linewidth=.75, linestyle=\"--\")\n",
    "ax.plot(xs, xs*-1. + .8, color=\"gray\", linewidth=.5)\n",
    "ax.plot(xs, xs*-20 + 3.8, color=\"gray\", linewidth=.5)\n",
    "ax.plot(xs, xs*-5 + 2.8, color=\"gray\", linewidth=.5)\n",
    "ax.plot(xs, xs*-2.52 + 1.89, color=\"black\", linewidth=1.5)\n",
    "ax.plot(xs, xs*-1.7 + 2, color=\"gray\", linewidth=.5)\n",
    "ax.plot(xs, xs*7.7 - 3.3, color=\"black\", linewidth=.75, linestyle=\"--\")\n",
    "ax.set_xlim((-3, 5))\n",
    "ax.set_ylim((-3, 3))\n",
    "\n",
    "plt.show()"
   ]
  },
  {
   "cell_type": "code",
   "execution_count": null,
   "metadata": {},
   "outputs": [],
   "source": [
    "from sklearn.svm import SVC\n",
    "\n",
    "model = SVC(kernel='linear', C=1E100)\n",
    "model.fit(x, z)"
   ]
  },
  {
   "cell_type": "code",
   "execution_count": null,
   "metadata": {},
   "outputs": [],
   "source": [
    "fig = plt.figure(figsize=figsize)\n",
    "ax = fig.add_subplot(111)\n",
    "print(\"%d опорных векторов\" % model.support_vectors_.shape[0])\n",
    "ax.scatter( model.support_vectors_[:, 0], model.support_vectors_[:, 1], color='white', s=30 )\n",
    "plot_points(ax, x, z, mu1, mu2)\n",
    "plot_colormesh_svm(ax, model)\n",
    "\n",
    "plt.show()"
   ]
  },
  {
   "cell_type": "code",
   "execution_count": null,
   "metadata": {},
   "outputs": [],
   "source": [
    "-model.coef_[0][0] / model.coef_[0][1], -model.intercept_[0] / model.coef_[0][1]"
   ]
  },
  {
   "cell_type": "markdown",
   "metadata": {},
   "source": [
    "## SVM с ошибками и регуляризатором"
   ]
  },
  {
   "cell_type": "code",
   "execution_count": null,
   "metadata": {},
   "outputs": [],
   "source": [
    "z, x = sample_two_classes(mu1, 2*sigma1, mu2, 2*sigma2)"
   ]
  },
  {
   "cell_type": "code",
   "execution_count": null,
   "metadata": {},
   "outputs": [],
   "source": [
    "model = SVC(kernel='linear', C=1E3).fit(x, z)\n",
    "\n",
    "fig = plt.figure(figsize=(15,8))\n",
    "ax = fig.add_subplot(111)\n",
    "print(\"%d опорных векторов\" % model.support_vectors_.shape[0])\n",
    "ax.scatter( model.support_vectors_[:, 0], model.support_vectors_[:, 1], color='white', s=30 )\n",
    "plot_points(ax, x, z, mu1, mu2)\n",
    "plot_colormesh_svm(ax, model)\n",
    "\n",
    "plt.show()"
   ]
  },
  {
   "cell_type": "code",
   "execution_count": null,
   "metadata": {},
   "outputs": [],
   "source": [
    "z, x = sample_two_classes(mu1, 3*sigma1, mu2, 3*sigma2)\n",
    "model = SVC(kernel='linear', C=1E-1).fit(x, z)\n",
    "\n",
    "fig = plt.figure(figsize=(15,8))\n",
    "ax = fig.add_subplot(111)\n",
    "print(\"%d опорных векторов\" % model.support_vectors_.shape[0])\n",
    "ax.scatter( model.support_vectors_[:, 0], model.support_vectors_[:, 1], color='white', s=30 )\n",
    "plot_points(ax, x, z, mu1, mu2)\n",
    "plot_colormesh_svm(ax, model)\n",
    "plt.show()"
   ]
  },
  {
   "cell_type": "code",
   "execution_count": null,
   "metadata": {},
   "outputs": [],
   "source": [
    "sigma_multiplier = 3\n",
    "C = 1E-2\n",
    "models = []\n",
    "for _ in range(50):\n",
    "    z, x = sample_two_classes(mu1, sigma_multiplier*sigma1, mu2, sigma_multiplier*sigma2)\n",
    "    models.append( SVC(kernel='linear', C=C).fit(x, z) )\n",
    "\n",
    "fig = plt.figure(figsize=figsize)\n",
    "ax = fig.add_subplot(111)\n",
    "plot_ellipse(ax, mu1, 2*sigma_multiplier*sigma1, 'r')\n",
    "plot_ellipse(ax, mu2, 2*sigma_multiplier*sigma2, 'b')\n",
    "# plot_points(ax, x, z, mu1, mu2)\n",
    "ax.set_xlim((-2, 4))\n",
    "ax.set_ylim((-2, 4))\n",
    "plot_svm_decisions(ax, models)\n",
    "\n",
    "plt.show()"
   ]
  },
  {
   "cell_type": "markdown",
   "metadata": {},
   "source": [
    "## Kernel trick"
   ]
  },
  {
   "cell_type": "code",
   "execution_count": null,
   "metadata": {},
   "outputs": [],
   "source": [
    "def sample_rings(rad_inner, rad_outer, rad_inner2, rad_outer2, pi=0.5, N=200, Ntest=None):\n",
    "    z = np.array( np.random.rand(N) < pi, dtype=int)\n",
    "    rs = ( rad_inner + (rad_inner - rad_outer) * np.random.rand(np.sum(z)) )\n",
    "    thetas = 2 * np.pi * np.random.rand(np.sum(z))\n",
    "    rs2 = ( rad_inner2 + (rad_inner2 - rad_outer2) * np.random.rand(N - np.sum(z)) )\n",
    "    thetas2 = 2 * np.pi * np.random.rand(N - np.sum(z))\n",
    "    \n",
    "    res = np.zeros((N, 2))\n",
    "    res[np.where(z == 1)] = np.array([ rs * np.cos(thetas), rs * np.sin(thetas) ]).T\n",
    "    res[np.where(z == 0)] = np.array([ rs2 * np.cos(thetas2), rs2 * np.sin(thetas2) ]).T\n",
    "    return z, res\n",
    "\n",
    "def sample_mixture(N, pi, mu1, sigma1, mu2, sigma2):\n",
    "    z = np.array( np.random.rand(N) < pi, dtype=int)\n",
    "    res = np.zeros((N, 2))\n",
    "    res[np.where(z == 1)] = np.random.multivariate_normal(mu1, sigma1, np.sum(z))\n",
    "    res[np.where(z == 0)] = np.random.multivariate_normal(mu2, sigma2, N-np.sum(z))\n",
    "    return z, res\n",
    "\n",
    "def sample_mixtures(mu0=np.array([ [-1,-1], [1,1] ]), sigma0=2, k=5, pi=0.5, df=4, N=200, Ntest=None):\n",
    "    z = np.array( np.random.rand(N) < pi, dtype=int)\n",
    "    res = np.zeros((N, 2))\n",
    "    mus, sigmas = [], []\n",
    "    for i, n in zip(range(2), [N-np.sum(z), np.sum(z)]):\n",
    "        mus.append( np.random.multivariate_normal(mu0[i], sigma0 * np.identity(2), k) )\n",
    "        sigmas.append( sp.stats.invwishart.rvs(df, np.identity(2), size=k) )\n",
    "        mixture_ind = np.random.randint(k, size=n)\n",
    "        cur_res = np.zeros((n, 2))\n",
    "        for j in range(k):\n",
    "            cur_indices = np.where(mixture_ind == j)[0]\n",
    "            cur_res[cur_indices] = np.random.multivariate_normal(mus[-1][j], sigmas[-1][j], len(cur_indices))\n",
    "        res[np.where(z == i)] = cur_res\n",
    "    return z, res, mus, sigmas"
   ]
  },
  {
   "cell_type": "code",
   "execution_count": null,
   "metadata": {},
   "outputs": [],
   "source": [
    "z, x = sample_rings(0, 3, 4, 6)\n",
    "\n",
    "model = SVC(kernel='linear', C=1E-1).fit(x, z)\n",
    "\n",
    "fig = plt.figure(figsize=(8,6))\n",
    "ax = fig.add_subplot(111)\n",
    "plot_points(ax, x, z)\n",
    "plot_colormesh_svm(ax, model)\n",
    "plt.show()"
   ]
  },
  {
   "cell_type": "code",
   "execution_count": null,
   "metadata": {},
   "outputs": [],
   "source": [
    "C = 1e1\n",
    "\n",
    "\n",
    "model = SVC(kernel='poly', degree=2, C=C).fit(x, z)\n",
    "\n",
    "fig = plt.figure(figsize=(8,6))\n",
    "ax = fig.add_subplot(111)\n",
    "print(\"%d опорных векторов\" % model.support_vectors_.shape[0])\n",
    "ax.scatter( model.support_vectors_[:, 0], model.support_vectors_[:, 1], color='white', s=40 )\n",
    "plot_points(ax, x, z)\n",
    "plot_colormesh_svm(ax, model)\n",
    "plt.show()"
   ]
  },
  {
   "cell_type": "code",
   "execution_count": null,
   "metadata": {},
   "outputs": [],
   "source": [
    "z, x, mus, sigmas = sample_mixtures(sigma0=5, N=500)"
   ]
  },
  {
   "cell_type": "code",
   "execution_count": null,
   "metadata": {},
   "outputs": [],
   "source": [
    "C = 1e1\n",
    "model = SVC(kernel='rbf', C=C).fit(x, z)\n",
    "\n",
    "fig = plt.figure(figsize=(15,9))\n",
    "ax = fig.add_subplot(111)\n",
    "print(\"%d опорных векторов\" % model.support_vectors_.shape[0])\n",
    "ax.scatter( model.support_vectors_[:, 0], model.support_vectors_[:, 1], color='white', s=40 )\n",
    "plot_points(ax, x, z, mu1=mus[1], mu2=mus[0])\n",
    "plot_colormesh_svm(ax, model)\n",
    "plt.show()"
   ]
  },
  {
   "cell_type": "code",
   "execution_count": null,
   "metadata": {},
   "outputs": [],
   "source": []
  }
 ],
 "metadata": {
  "kernelspec": {
   "display_name": "Python 3",
   "language": "python",
   "name": "python3"
  },
  "language_info": {
   "codemirror_mode": {
    "name": "ipython",
    "version": 3
   },
   "file_extension": ".py",
   "mimetype": "text/x-python",
   "name": "python",
   "nbconvert_exporter": "python",
   "pygments_lexer": "ipython3",
   "version": "3.6.9"
  }
 },
 "nbformat": 4,
 "nbformat_minor": 1
}
