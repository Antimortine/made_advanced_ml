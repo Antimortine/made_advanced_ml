{
 "cells": [
  {
   "cell_type": "markdown",
   "metadata": {},
   "source": [
    "# Третье домашнее задание\n",
    "https://docs.google.com/document/d/1KYoqG6dbfzcRCEXYWS1iKxQR9hZEHQUThW4moXWwvhk"
   ]
  },
  {
   "cell_type": "code",
   "execution_count": 1,
   "metadata": {},
   "outputs": [],
   "source": [
    "import numpy as np\n",
    "import pandas as pd\n",
    "import pickle\n",
    "import matplotlib.pyplot as plt\n",
    "import seaborn as sns\n",
    "%matplotlib inline\n",
    "\n",
    "sns.set_style(\"whitegrid\")\n",
    "figsize = (12,6)\n",
    "\n",
    "pd.set_option('display.max_columns', 30)"
   ]
  },
  {
   "cell_type": "markdown",
   "metadata": {},
   "source": [
    "## Загружаем данные"
   ]
  },
  {
   "cell_type": "code",
   "execution_count": 2,
   "metadata": {},
   "outputs": [],
   "source": [
    "tournaments = pickle.load(open('data/tournaments.pkl', 'rb'))\n",
    "results = pickle.load(open('data/results.pkl', 'rb'))\n",
    "players = pickle.load(open('data/players.pkl', 'rb'))"
   ]
  },
  {
   "cell_type": "code",
   "execution_count": 3,
   "metadata": {},
   "outputs": [],
   "source": [
    "def parse_tournaments(tournaments, year):\n",
    "    records = []\n",
    "    for t in tournaments.values():\n",
    "        if year is not None and t['dateStart'][:4] != year:\n",
    "            continue\n",
    "        records.append({\n",
    "            'id': t['id'],\n",
    "            'name': t['name'],\n",
    "            'dateStart': t['dateStart'],\n",
    "            'questionQty': sum(t['questionQty'].values())\n",
    "        })\n",
    "    return pd.DataFrame.from_records(records)"
   ]
  },
  {
   "cell_type": "code",
   "execution_count": 4,
   "metadata": {},
   "outputs": [],
   "source": [
    "train_tournaments = parse_tournaments(tournaments, '2019')\n",
    "test_tournaments = parse_tournaments(tournaments, '2020')"
   ]
  },
  {
   "cell_type": "code",
   "execution_count": 5,
   "metadata": {},
   "outputs": [
    {
     "name": "stdout",
     "output_type": "stream",
     "text": [
      "(687, 4)\n"
     ]
    },
    {
     "data": {
      "text/html": [
       "<div>\n",
       "<style scoped>\n",
       "    .dataframe tbody tr th:only-of-type {\n",
       "        vertical-align: middle;\n",
       "    }\n",
       "\n",
       "    .dataframe tbody tr th {\n",
       "        vertical-align: top;\n",
       "    }\n",
       "\n",
       "    .dataframe thead th {\n",
       "        text-align: right;\n",
       "    }\n",
       "</style>\n",
       "<table border=\"1\" class=\"dataframe\">\n",
       "  <thead>\n",
       "    <tr style=\"text-align: right;\">\n",
       "      <th></th>\n",
       "      <th>dateStart</th>\n",
       "      <th>id</th>\n",
       "      <th>name</th>\n",
       "      <th>questionQty</th>\n",
       "    </tr>\n",
       "  </thead>\n",
       "  <tbody>\n",
       "    <tr>\n",
       "      <th>0</th>\n",
       "      <td>2019-01-05T19:00:00+03:00</td>\n",
       "      <td>4772</td>\n",
       "      <td>Синхрон северных стран. Зимний выпуск</td>\n",
       "      <td>36</td>\n",
       "    </tr>\n",
       "    <tr>\n",
       "      <th>1</th>\n",
       "      <td>2019-01-25T19:05:00+03:00</td>\n",
       "      <td>4973</td>\n",
       "      <td>Балтийский Берег. 3 игра</td>\n",
       "      <td>36</td>\n",
       "    </tr>\n",
       "    <tr>\n",
       "      <th>2</th>\n",
       "      <td>2019-03-01T19:05:00+03:00</td>\n",
       "      <td>4974</td>\n",
       "      <td>Балтийский Берег. 4 игра</td>\n",
       "      <td>36</td>\n",
       "    </tr>\n",
       "    <tr>\n",
       "      <th>3</th>\n",
       "      <td>2019-04-05T19:05:00+03:00</td>\n",
       "      <td>4975</td>\n",
       "      <td>Балтийский Берег. 5 игра</td>\n",
       "      <td>36</td>\n",
       "    </tr>\n",
       "    <tr>\n",
       "      <th>4</th>\n",
       "      <td>2019-02-15T20:00:00+03:00</td>\n",
       "      <td>4986</td>\n",
       "      <td>ОВСЧ. 6 этап</td>\n",
       "      <td>36</td>\n",
       "    </tr>\n",
       "  </tbody>\n",
       "</table>\n",
       "</div>"
      ],
      "text/plain": [
       "                   dateStart    id                                   name  \\\n",
       "0  2019-01-05T19:00:00+03:00  4772  Синхрон северных стран. Зимний выпуск   \n",
       "1  2019-01-25T19:05:00+03:00  4973               Балтийский Берег. 3 игра   \n",
       "2  2019-03-01T19:05:00+03:00  4974               Балтийский Берег. 4 игра   \n",
       "3  2019-04-05T19:05:00+03:00  4975               Балтийский Берег. 5 игра   \n",
       "4  2019-02-15T20:00:00+03:00  4986                           ОВСЧ. 6 этап   \n",
       "\n",
       "   questionQty  \n",
       "0           36  \n",
       "1           36  \n",
       "2           36  \n",
       "3           36  \n",
       "4           36  "
      ]
     },
     "execution_count": 5,
     "metadata": {},
     "output_type": "execute_result"
    }
   ],
   "source": [
    "print(train_tournaments.shape)\n",
    "train_tournaments.head()"
   ]
  },
  {
   "cell_type": "code",
   "execution_count": 6,
   "metadata": {},
   "outputs": [
    {
     "name": "stdout",
     "output_type": "stream",
     "text": [
      "(418, 4)\n"
     ]
    },
    {
     "data": {
      "text/html": [
       "<div>\n",
       "<style scoped>\n",
       "    .dataframe tbody tr th:only-of-type {\n",
       "        vertical-align: middle;\n",
       "    }\n",
       "\n",
       "    .dataframe tbody tr th {\n",
       "        vertical-align: top;\n",
       "    }\n",
       "\n",
       "    .dataframe thead th {\n",
       "        text-align: right;\n",
       "    }\n",
       "</style>\n",
       "<table border=\"1\" class=\"dataframe\">\n",
       "  <thead>\n",
       "    <tr style=\"text-align: right;\">\n",
       "      <th></th>\n",
       "      <th>dateStart</th>\n",
       "      <th>id</th>\n",
       "      <th>name</th>\n",
       "      <th>questionQty</th>\n",
       "    </tr>\n",
       "  </thead>\n",
       "  <tbody>\n",
       "    <tr>\n",
       "      <th>0</th>\n",
       "      <td>2020-12-30T16:00:00+03:00</td>\n",
       "      <td>4628</td>\n",
       "      <td>Семь сорок</td>\n",
       "      <td>36</td>\n",
       "    </tr>\n",
       "    <tr>\n",
       "      <th>1</th>\n",
       "      <td>2020-02-21T00:00:00+03:00</td>\n",
       "      <td>4957</td>\n",
       "      <td>Синхрон Биркиркары</td>\n",
       "      <td>39</td>\n",
       "    </tr>\n",
       "    <tr>\n",
       "      <th>2</th>\n",
       "      <td>2020-08-01T14:00:00+03:00</td>\n",
       "      <td>5151</td>\n",
       "      <td>Яровой</td>\n",
       "      <td>36</td>\n",
       "    </tr>\n",
       "    <tr>\n",
       "      <th>3</th>\n",
       "      <td>2020-01-03T19:00:00+03:00</td>\n",
       "      <td>5414</td>\n",
       "      <td>Синхрон северных стран</td>\n",
       "      <td>36</td>\n",
       "    </tr>\n",
       "    <tr>\n",
       "      <th>4</th>\n",
       "      <td>2020-04-18T19:00:00+03:00</td>\n",
       "      <td>5477</td>\n",
       "      <td>Онлайн: Синхрон Урюбджирова</td>\n",
       "      <td>36</td>\n",
       "    </tr>\n",
       "  </tbody>\n",
       "</table>\n",
       "</div>"
      ],
      "text/plain": [
       "                   dateStart    id                         name  questionQty\n",
       "0  2020-12-30T16:00:00+03:00  4628                   Семь сорок           36\n",
       "1  2020-02-21T00:00:00+03:00  4957           Синхрон Биркиркары           39\n",
       "2  2020-08-01T14:00:00+03:00  5151                       Яровой           36\n",
       "3  2020-01-03T19:00:00+03:00  5414       Синхрон северных стран           36\n",
       "4  2020-04-18T19:00:00+03:00  5477  Онлайн: Синхрон Урюбджирова           36"
      ]
     },
     "execution_count": 6,
     "metadata": {},
     "output_type": "execute_result"
    }
   ],
   "source": [
    "print(test_tournaments.shape)\n",
    "test_tournaments.head()"
   ]
  },
  {
   "cell_type": "code",
   "execution_count": 7,
   "metadata": {},
   "outputs": [],
   "source": [
    "mask_translator = str.maketrans('-?', '00', 'X')\n",
    "\n",
    "def fix_mask(mask):\n",
    "    \"\"\"Удаляет снятые вопросы (X) и заменяет не взятые никем вопросы (-) на 0\"\"\"\n",
    "    return mask.translate(mask_translator) if mask else None"
   ]
  },
  {
   "cell_type": "code",
   "execution_count": 8,
   "metadata": {},
   "outputs": [
    {
     "data": {
      "text/plain": [
       "'0001010'"
      ]
     },
     "execution_count": 8,
     "metadata": {},
     "output_type": "execute_result"
    }
   ],
   "source": [
    "fix_mask('00X01-1?')"
   ]
  },
  {
   "cell_type": "code",
   "execution_count": 9,
   "metadata": {},
   "outputs": [],
   "source": [
    "def parse_results(results, ids):\n",
    "    records = []\n",
    "    for id in ids:\n",
    "        result = results[id]\n",
    "        for team in result:\n",
    "            if 'questionsTotal' not in team:\n",
    "                continue\n",
    "            mask = fix_mask(team['mask']) if 'mask' in team else None\n",
    "            for player in team['teamMembers']:\n",
    "                player = player['player']\n",
    "                records.append({\n",
    "                    'tournament_id': id,\n",
    "                    'team_id': team['team']['id'],\n",
    "                    'player_id': player['id'],\n",
    "                    'team_name': team['team']['name'],\n",
    "                    'teamQuestions': team['questionsTotal'],\n",
    "                    'player_name': '{} {} {}'.format(player['surname'], player['name'], player['patronymic']),\n",
    "                    'mask': mask,\n",
    "                    'mask_len': len(mask or '')\n",
    "                })\n",
    "    df = pd.DataFrame.from_records(records)\n",
    "    df = df.merge(df.groupby('tournament_id')['mask_len'].max().rename('max_mask_len'),\n",
    "                  left_on='tournament_id', right_index=True)\n",
    "    # Выбрасываем примеры, в которых нет маски, или её длина не равна максимальной в турнире\n",
    "    df = df[~df['mask'].isnull() & (df['mask_len'] == df['max_mask_len'])].reset_index(drop=True)\n",
    "    df.drop(['max_mask_len'], axis=1, inplace=True)\n",
    "    return df"
   ]
  },
  {
   "cell_type": "code",
   "execution_count": 10,
   "metadata": {},
   "outputs": [
    {
     "name": "stdout",
     "output_type": "stream",
     "text": [
      "414774\n"
     ]
    },
    {
     "data": {
      "text/html": [
       "<div>\n",
       "<style scoped>\n",
       "    .dataframe tbody tr th:only-of-type {\n",
       "        vertical-align: middle;\n",
       "    }\n",
       "\n",
       "    .dataframe tbody tr th {\n",
       "        vertical-align: top;\n",
       "    }\n",
       "\n",
       "    .dataframe thead th {\n",
       "        text-align: right;\n",
       "    }\n",
       "</style>\n",
       "<table border=\"1\" class=\"dataframe\">\n",
       "  <thead>\n",
       "    <tr style=\"text-align: right;\">\n",
       "      <th></th>\n",
       "      <th>mask</th>\n",
       "      <th>mask_len</th>\n",
       "      <th>player_id</th>\n",
       "      <th>player_name</th>\n",
       "      <th>teamQuestions</th>\n",
       "      <th>team_id</th>\n",
       "      <th>team_name</th>\n",
       "      <th>tournament_id</th>\n",
       "    </tr>\n",
       "  </thead>\n",
       "  <tbody>\n",
       "    <tr>\n",
       "      <th>0</th>\n",
       "      <td>111111111011111110111111111100010010</td>\n",
       "      <td>36</td>\n",
       "      <td>6212</td>\n",
       "      <td>Выменец Юрий Яковлевич</td>\n",
       "      <td>28</td>\n",
       "      <td>45556</td>\n",
       "      <td>Рабочее название</td>\n",
       "      <td>4772</td>\n",
       "    </tr>\n",
       "    <tr>\n",
       "      <th>1</th>\n",
       "      <td>111111111011111110111111111100010010</td>\n",
       "      <td>36</td>\n",
       "      <td>18332</td>\n",
       "      <td>Либер Александр Витальевич</td>\n",
       "      <td>28</td>\n",
       "      <td>45556</td>\n",
       "      <td>Рабочее название</td>\n",
       "      <td>4772</td>\n",
       "    </tr>\n",
       "    <tr>\n",
       "      <th>2</th>\n",
       "      <td>111111111011111110111111111100010010</td>\n",
       "      <td>36</td>\n",
       "      <td>18036</td>\n",
       "      <td>Левандовский Михаил Ильич</td>\n",
       "      <td>28</td>\n",
       "      <td>45556</td>\n",
       "      <td>Рабочее название</td>\n",
       "      <td>4772</td>\n",
       "    </tr>\n",
       "    <tr>\n",
       "      <th>3</th>\n",
       "      <td>111111111011111110111111111100010010</td>\n",
       "      <td>36</td>\n",
       "      <td>22799</td>\n",
       "      <td>Николенко Сергей Игоревич</td>\n",
       "      <td>28</td>\n",
       "      <td>45556</td>\n",
       "      <td>Рабочее название</td>\n",
       "      <td>4772</td>\n",
       "    </tr>\n",
       "    <tr>\n",
       "      <th>4</th>\n",
       "      <td>111111111011111110111111111100010010</td>\n",
       "      <td>36</td>\n",
       "      <td>15456</td>\n",
       "      <td>Коновалов Сергей Владимирович</td>\n",
       "      <td>28</td>\n",
       "      <td>45556</td>\n",
       "      <td>Рабочее название</td>\n",
       "      <td>4772</td>\n",
       "    </tr>\n",
       "  </tbody>\n",
       "</table>\n",
       "</div>"
      ],
      "text/plain": [
       "                                   mask  mask_len  player_id  \\\n",
       "0  111111111011111110111111111100010010        36       6212   \n",
       "1  111111111011111110111111111100010010        36      18332   \n",
       "2  111111111011111110111111111100010010        36      18036   \n",
       "3  111111111011111110111111111100010010        36      22799   \n",
       "4  111111111011111110111111111100010010        36      15456   \n",
       "\n",
       "                     player_name  teamQuestions  team_id         team_name  \\\n",
       "0         Выменец Юрий Яковлевич             28    45556  Рабочее название   \n",
       "1     Либер Александр Витальевич             28    45556  Рабочее название   \n",
       "2      Левандовский Михаил Ильич             28    45556  Рабочее название   \n",
       "3      Николенко Сергей Игоревич             28    45556  Рабочее название   \n",
       "4  Коновалов Сергей Владимирович             28    45556  Рабочее название   \n",
       "\n",
       "   tournament_id  \n",
       "0           4772  \n",
       "1           4772  \n",
       "2           4772  \n",
       "3           4772  \n",
       "4           4772  "
      ]
     },
     "execution_count": 10,
     "metadata": {},
     "output_type": "execute_result"
    }
   ],
   "source": [
    "train_results = parse_results(results, train_tournaments.id)\n",
    "print(len(train_results))\n",
    "train_results.head()"
   ]
  },
  {
   "cell_type": "code",
   "execution_count": 11,
   "metadata": {},
   "outputs": [
    {
     "name": "stdout",
     "output_type": "stream",
     "text": [
      "108394\n"
     ]
    },
    {
     "data": {
      "text/html": [
       "<div>\n",
       "<style scoped>\n",
       "    .dataframe tbody tr th:only-of-type {\n",
       "        vertical-align: middle;\n",
       "    }\n",
       "\n",
       "    .dataframe tbody tr th {\n",
       "        vertical-align: top;\n",
       "    }\n",
       "\n",
       "    .dataframe thead th {\n",
       "        text-align: right;\n",
       "    }\n",
       "</style>\n",
       "<table border=\"1\" class=\"dataframe\">\n",
       "  <thead>\n",
       "    <tr style=\"text-align: right;\">\n",
       "      <th></th>\n",
       "      <th>mask</th>\n",
       "      <th>mask_len</th>\n",
       "      <th>player_id</th>\n",
       "      <th>player_name</th>\n",
       "      <th>teamQuestions</th>\n",
       "      <th>team_id</th>\n",
       "      <th>team_name</th>\n",
       "      <th>tournament_id</th>\n",
       "    </tr>\n",
       "  </thead>\n",
       "  <tbody>\n",
       "    <tr>\n",
       "      <th>0</th>\n",
       "      <td>11111101111111011011101111000101010001</td>\n",
       "      <td>38</td>\n",
       "      <td>30152</td>\n",
       "      <td>Сорожкин Артём Сергеевич</td>\n",
       "      <td>26</td>\n",
       "      <td>49804</td>\n",
       "      <td>Борский корабел</td>\n",
       "      <td>4957</td>\n",
       "    </tr>\n",
       "    <tr>\n",
       "      <th>1</th>\n",
       "      <td>11111101111111011011101111000101010001</td>\n",
       "      <td>38</td>\n",
       "      <td>30270</td>\n",
       "      <td>Спешков Сергей Леонидович</td>\n",
       "      <td>26</td>\n",
       "      <td>49804</td>\n",
       "      <td>Борский корабел</td>\n",
       "      <td>4957</td>\n",
       "    </tr>\n",
       "    <tr>\n",
       "      <th>2</th>\n",
       "      <td>11111101111111011011101111000101010001</td>\n",
       "      <td>38</td>\n",
       "      <td>27822</td>\n",
       "      <td>Савченков Михаил Владимирович</td>\n",
       "      <td>26</td>\n",
       "      <td>49804</td>\n",
       "      <td>Борский корабел</td>\n",
       "      <td>4957</td>\n",
       "    </tr>\n",
       "    <tr>\n",
       "      <th>3</th>\n",
       "      <td>11111101111111011011101111000101010001</td>\n",
       "      <td>38</td>\n",
       "      <td>28751</td>\n",
       "      <td>Семушин Иван Николаевич</td>\n",
       "      <td>26</td>\n",
       "      <td>49804</td>\n",
       "      <td>Борский корабел</td>\n",
       "      <td>4957</td>\n",
       "    </tr>\n",
       "    <tr>\n",
       "      <th>4</th>\n",
       "      <td>11111101111111011011101111000101010001</td>\n",
       "      <td>38</td>\n",
       "      <td>27403</td>\n",
       "      <td>Руссо Максим Михайлович</td>\n",
       "      <td>26</td>\n",
       "      <td>49804</td>\n",
       "      <td>Борский корабел</td>\n",
       "      <td>4957</td>\n",
       "    </tr>\n",
       "  </tbody>\n",
       "</table>\n",
       "</div>"
      ],
      "text/plain": [
       "                                     mask  mask_len  player_id  \\\n",
       "0  11111101111111011011101111000101010001        38      30152   \n",
       "1  11111101111111011011101111000101010001        38      30270   \n",
       "2  11111101111111011011101111000101010001        38      27822   \n",
       "3  11111101111111011011101111000101010001        38      28751   \n",
       "4  11111101111111011011101111000101010001        38      27403   \n",
       "\n",
       "                     player_name  teamQuestions  team_id        team_name  \\\n",
       "0       Сорожкин Артём Сергеевич             26    49804  Борский корабел   \n",
       "1      Спешков Сергей Леонидович             26    49804  Борский корабел   \n",
       "2  Савченков Михаил Владимирович             26    49804  Борский корабел   \n",
       "3        Семушин Иван Николаевич             26    49804  Борский корабел   \n",
       "4        Руссо Максим Михайлович             26    49804  Борский корабел   \n",
       "\n",
       "   tournament_id  \n",
       "0           4957  \n",
       "1           4957  \n",
       "2           4957  \n",
       "3           4957  \n",
       "4           4957  "
      ]
     },
     "execution_count": 11,
     "metadata": {},
     "output_type": "execute_result"
    }
   ],
   "source": [
    "test_results = parse_results(results, test_tournaments.id)\n",
    "print(len(test_results))\n",
    "test_results.head()"
   ]
  },
  {
   "cell_type": "code",
   "execution_count": 12,
   "metadata": {},
   "outputs": [
    {
     "data": {
      "text/plain": [
       "(57424, 28996, 22946)"
      ]
     },
     "execution_count": 12,
     "metadata": {},
     "output_type": "execute_result"
    }
   ],
   "source": [
    "train_players = set(train_results.player_id)\n",
    "test_players = set(test_results.player_id)\n",
    "len(train_players), len(test_players), len(train_players & test_players)"
   ]
  },
  {
   "cell_type": "markdown",
   "metadata": {},
   "source": [
    "# Обучаем baseline\n",
    "Делаем ряд наивных предположений:\n",
    "- если команда ответила на вопрос, то каждый её участник ответил\n",
    "- у каждого вопроса своя сложность, и она ни от чего не зависит\n",
    "- вероятность ответа на вопрос игроком моделируется как логистическая регрессия от двух признаков - идентификатора игрока и идентификатора вопроса, соответственно обучаются сила игрока и сложность вопроса\n",
    "\n",
    "Замечания:\n",
    "1. В тестовой выборке есть игроки, которые отсутствовали в обучающей. Для начала можно оценить их силу как среднюю силу по всей обучающей выборке.\n",
    "2. Конечно же мы не должны знать сложностей вопросов в тестовой выборке. Да это и не нужно: поскольку в нашей модели нет межфакторного взаимодействия между силой игрока и сложностью вопроса, можно подставить среднюю сложность по выборке. Разумеется это не даст корректную вероятность ответа на вопрос, но вполне пригодно для ранжирования."
   ]
  },
  {
   "cell_type": "markdown",
   "metadata": {},
   "source": [
    "### Готовим обучающий датасет"
   ]
  },
  {
   "cell_type": "code",
   "execution_count": 13,
   "metadata": {},
   "outputs": [],
   "source": [
    "class PlayerTokenizer(object):\n",
    "    \"\"\"Назначает каждому игроку уникальное натуральное число.\n",
    "    Числа идут подряд начиная с нуля.\"\"\"\n",
    "    def __init__(self):\n",
    "        self.player2token = {}\n",
    "        self.token2player = {}\n",
    "    \n",
    "    def fit(self, results):\n",
    "        player_ids = results.player_id.unique()\n",
    "        self.player2token = {id: i for i, id in enumerate(player_ids)}\n",
    "        self.token2player = {i: id for i, id in enumerate(player_ids)}\n",
    "        return self\n",
    "    \n",
    "    def get_token(self, player_id):\n",
    "        return self.player2token[player_id] if player_id in self.player2token else None\n",
    "    \n",
    "    def get_player(self, token):\n",
    "        return self.token2player[token] if token in self.token2player else None"
   ]
  },
  {
   "cell_type": "code",
   "execution_count": 14,
   "metadata": {},
   "outputs": [],
   "source": [
    "pt = PlayerTokenizer().fit(train_results)"
   ]
  },
  {
   "cell_type": "code",
   "execution_count": 15,
   "metadata": {},
   "outputs": [
    {
     "data": {
      "text/plain": [
       "(9770, 158635)"
      ]
     },
     "execution_count": 15,
     "metadata": {},
     "output_type": "execute_result"
    }
   ],
   "source": [
    "pt.get_token(158635), pt.get_player(pt.get_token(158635))"
   ]
  },
  {
   "cell_type": "code",
   "execution_count": 16,
   "metadata": {},
   "outputs": [],
   "source": [
    "class QuestionTokenizer(object):\n",
    "    \"\"\"Назначает каждому вопросу уникальное натуральное число.\n",
    "    Числа идут подряд начиная с нуля.\"\"\"\n",
    "    def __init__(self):\n",
    "        self.question2token = {}\n",
    "        self.token2question = {}\n",
    "        self.max_token = None\n",
    "    \n",
    "    def fit(self, results):\n",
    "        results = results.drop_duplicates('tournament_id')\n",
    "        last_id = 0\n",
    "        for tournament_id, mask_len in zip(results.tournament_id, results.mask_len):\n",
    "            tournament_tokens = np.arange(last_id, last_id + mask_len)\n",
    "            for i, tokens in enumerate(tournament_tokens):\n",
    "                self.token2question[tokens] = (tournament_id, i)\n",
    "            last_id += mask_len\n",
    "            self.question2token[tournament_id] = tournament_tokens\n",
    "        self.max_token = last_id - 1\n",
    "        return self\n",
    "    \n",
    "    def get_token(self, tournament_id, question_index):\n",
    "        return self.question2token[tournament_id][question_index]\n",
    "    \n",
    "    def get_question(self, token):\n",
    "        return self.token2question[token]"
   ]
  },
  {
   "cell_type": "code",
   "execution_count": 17,
   "metadata": {},
   "outputs": [],
   "source": [
    "qt = QuestionTokenizer().fit(train_results)"
   ]
  },
  {
   "cell_type": "code",
   "execution_count": 18,
   "metadata": {},
   "outputs": [
    {
     "data": {
      "text/plain": [
       "(33302, (6255, 214))"
      ]
     },
     "execution_count": 18,
     "metadata": {},
     "output_type": "execute_result"
    }
   ],
   "source": [
    "qt.get_token(6255, 214), qt.get_question(qt.get_token(6255, 214))"
   ]
  },
  {
   "cell_type": "code",
   "execution_count": 19,
   "metadata": {},
   "outputs": [
    {
     "data": {
      "text/plain": [
       "33302"
      ]
     },
     "execution_count": 19,
     "metadata": {},
     "output_type": "execute_result"
    }
   ],
   "source": [
    "qt.max_token"
   ]
  },
  {
   "cell_type": "code",
   "execution_count": 20,
   "metadata": {},
   "outputs": [],
   "source": [
    "from scipy.sparse import csr_matrix\n",
    "from tqdm import tqdm\n",
    "\n",
    "def to_csr(X, question_max_token=qt.max_token):\n",
    "    \"\"\"Принимает на вход матрицу, имеющую в каждой строке 2 числа - \n",
    "    токен вопроса и токен игрока. Возвращает CSR-матрицу,\n",
    "    строки которой - сконкатенированные one-hot-encoded\n",
    "    представления вопроса и игрока\"\"\"\n",
    "    # В каждой строке есть ровно две единицы - в позиции текущего вопроса и в позиции игрока\n",
    "    x_rows = np.repeat(np.arange(X.shape[0]), 2)\n",
    "\n",
    "    # Номер столбца для первой единицы определяется просто - это токен вопроса\n",
    "    # Номер второго столбца - токен игрока + сдвиг на максимально возможый токен вопроса\n",
    "    x_cols = X.copy()\n",
    "    x_cols[:,1] += question_max_token + 1\n",
    "    x_cols = x_cols.ravel()\n",
    "    # Все значения - единицы, т.к. это one-hot encoding\n",
    "    x_values = np.ones(X.shape[0] * 2, dtype=np.uint8)\n",
    "    csr_x = csr_matrix((x_values, (x_rows, x_cols)), dtype=np.uint8)\n",
    "    return csr_x\n",
    "\n",
    "def make_dataset(results, pt=pt, qt=qt):\n",
    "    \"\"\"Генерирует повопросный датасет. Целевые переменные -\n",
    "    дал игрок корректный ответ (1), или нет (0). Признаки - \n",
    "    токен вопроса и токен игрока, закодированные как CSR-матрица\n",
    "    из сконкатенированных one-hot-представлений токенов\"\"\"\n",
    "    X, y = [], []\n",
    "    for mask, tid, pid in tqdm(zip(results['mask'], results.tournament_id, results.player_id)):\n",
    "        player_token = pt.get_token(pid)\n",
    "        for i, target in enumerate(mask):\n",
    "            assert target in ['0', '1'], f'Got incorrect mask value: {target} (tournament_id={tid}, player_id={pid})'\n",
    "            target = int(target)\n",
    "            question_token = qt.get_token(tid, i)\n",
    "            X.append([question_token, player_token])\n",
    "            y.append(target)\n",
    "    X, y = np.array(X), np.array(y)\n",
    "    X = to_csr(X, qt.max_token)\n",
    "    return X, y"
   ]
  },
  {
   "cell_type": "code",
   "execution_count": 21,
   "metadata": {},
   "outputs": [
    {
     "name": "stderr",
     "output_type": "stream",
     "text": [
      "414774it [00:37, 10971.82it/s]\n"
     ]
    }
   ],
   "source": [
    "train_X, train_y = make_dataset(train_results)"
   ]
  },
  {
   "cell_type": "code",
   "execution_count": 22,
   "metadata": {},
   "outputs": [
    {
     "data": {
      "text/plain": [
       "((17753544, 90727), (17753544,))"
      ]
     },
     "execution_count": 22,
     "metadata": {},
     "output_type": "execute_result"
    }
   ],
   "source": [
    "train_X.shape, train_y.shape"
   ]
  },
  {
   "cell_type": "markdown",
   "metadata": {},
   "source": [
    "### Обучаем модель"
   ]
  },
  {
   "cell_type": "code",
   "execution_count": 23,
   "metadata": {},
   "outputs": [],
   "source": [
    "from sklearn.linear_model import LogisticRegression"
   ]
  },
  {
   "cell_type": "code",
   "execution_count": 24,
   "metadata": {},
   "outputs": [],
   "source": [
    "model = LogisticRegression(penalty='l2', C=10, solver='liblinear').fit(train_X, train_y)"
   ]
  },
  {
   "cell_type": "code",
   "execution_count": 25,
   "metadata": {},
   "outputs": [],
   "source": [
    "def get_player_weights(model, qt=qt):\n",
    "    # В model.coef_ сначала идут обученные сложности вопросов,\n",
    "    # а начиная с позиции (qt.max_token + 1) - силы игроков\n",
    "    return model.coef_[0, qt.max_token + 1:]"
   ]
  },
  {
   "cell_type": "code",
   "execution_count": 26,
   "metadata": {},
   "outputs": [],
   "source": [
    "def sigmoid(x):\n",
    "    return 1 / (1 + np.exp(-x))"
   ]
  },
  {
   "cell_type": "code",
   "execution_count": 27,
   "metadata": {},
   "outputs": [],
   "source": [
    "def get_player_score(player_id, model, pt=pt, qt=qt):\n",
    "    \"\"\"Предсказанная моделью вероятность дачи правильного ответа\n",
    "    игроком player_id на вопрос сложности 0\"\"\"\n",
    "    player_token = pt.get_token(player_id)\n",
    "    player_weights = get_player_weights(model, qt)\n",
    "    # Если в тестовой выборке встретится неизвестный игрок, оценим его силу как среднюю по обученным силам\n",
    "    mean_player_weight = player_weights.mean()\n",
    "    player_weight = player_weights[player_token] if player_token is not None else mean_player_weight\n",
    "    return sigmoid(player_weight + model.intercept_)"
   ]
  },
  {
   "cell_type": "code",
   "execution_count": 28,
   "metadata": {},
   "outputs": [],
   "source": [
    "def get_team_score(player_ids, model, pt=pt):\n",
    "    \"\"\"Вероятность того, что хотя бы один игрок из списка player_ids\n",
    "    даст верный ответ на вопрос сложности 0\"\"\"\n",
    "    scores = np.array([get_player_score(pid, model, pt) for pid in player_ids])\n",
    "    return 1 - np.prod(1 - scores)"
   ]
  },
  {
   "cell_type": "code",
   "execution_count": 29,
   "metadata": {},
   "outputs": [],
   "source": [
    "from scipy.stats import spearmanr, kendalltau\n",
    "\n",
    "def eval_model(model, results, pt=pt, with_tqdm=True):\n",
    "    \"\"\"Считает средние значения Spearman\\'s R и Kendall\\'s Tau по турнирам\"\"\"\n",
    "    spearmanrs = []\n",
    "    kendalltaus = []\n",
    "    iterable = results.groupby('tournament_id')\n",
    "    if with_tqdm:\n",
    "        iterable = tqdm(iterable)\n",
    "    for _, tournament_df in iterable:\n",
    "        # Если в турнире участвовала всего одна команда, то сравнивать нечего\n",
    "        if len(tournament_df.team_id.unique()) == 1:\n",
    "            continue\n",
    "        true_scores = []\n",
    "        pred_scores = []\n",
    "        for _, team_df in tournament_df.groupby('team_id'):\n",
    "            team_players = team_df.player_id.values\n",
    "            team_true_score = team_df.teamQuestions.iloc[0]\n",
    "            team_pred_score = get_team_score(team_players, model, pt)\n",
    "            true_scores.append(team_true_score)\n",
    "            pred_scores.append(team_pred_score)\n",
    "        spearmanrs.append(spearmanr(true_scores, pred_scores).correlation)\n",
    "        kendalltaus.append(kendalltau(true_scores, pred_scores).correlation)\n",
    "    return np.mean(spearmanrs), np.mean(kendalltaus)"
   ]
  },
  {
   "cell_type": "code",
   "execution_count": 30,
   "metadata": {},
   "outputs": [
    {
     "name": "stderr",
     "output_type": "stream",
     "text": [
      "100%|██████████| 173/173 [00:12<00:00, 13.57it/s]"
     ]
    },
    {
     "name": "stdout",
     "output_type": "stream",
     "text": [
      "Spearman's R: 0.7742819352714337\tKendall's Tau: 0.6192701345684648\n"
     ]
    },
    {
     "name": "stderr",
     "output_type": "stream",
     "text": [
      "\n"
     ]
    }
   ],
   "source": [
    "spearman, kendall = eval_model(model, test_results)\n",
    "print(f'Spearman\\'s R: {spearman}\\tKendall\\'s Tau: {kendall}')"
   ]
  },
  {
   "cell_type": "markdown",
   "metadata": {},
   "source": [
    "# Применяем EM-алгоритм\n",
    "Здесь мы избавляемся от предположения о том, что если команда ответила верно, то каждый её участник также верно ответил. Вместо этого делаем другие предположения:  \n",
    "1. Если команда не дала верного ответа, то и ни один из её участников не дал.  \n",
    "2. Если игрок дал верный ответ, то и его команда верно ответила.  \n",
    "\n",
    "Но возникает трудность: в качестве правильного ответа в обучающей выборке должны быть метки для каждого игрока - дал он верный ответ, или же нет. Вместо этого у нас есть подобные метки для команд. Что же делать? Введём скрытые переменные - ответы игроков, ответы же команд будут наблюдаемыми переменными.  \n",
    "\n",
    "Обозначения:  \n",
    "$\\tau$ - индекс турнира  \n",
    "$t$ - индекс команды  \n",
    "$t \\in \\tau$ - команда $t$ участвует в турнире $\\tau$  \n",
    "$p \\in t$ - игрок $p$ играет за команду $t$  \n",
    "$q \\in \\tau$ - вопрос из турнира $\\tau$  \n",
    "$A_t^q \\in \\{0,1\\}$ - ответ команды $t$ на вопрос $q$ ($0$ - неверный ответ, $1$ - верный)  \n",
    "$a_p^q \\in \\{0,1\\}$ - ответ игрока $p$ на вопрос $q$ ($0$ - неверный ответ, $1$ - верный)  \n",
    "\n",
    "Предположения:  \n",
    "$\\forall p \\in t \\quad P(a_p^q=1|A_t^q=0) = 0$  \n",
    "$\\forall p \\in t \\quad P(A_t^q=1|a_p^q=1) = 1$  \n",
    "\n",
    "В качестве параметров модели $\\theta$ по-прежнему будут выступать силы игроков $w_p$, сложности вопросов $w_q$ и свободный член $b$, сама же модель - снова логистическая регрессия. EM-схема выглядит следующим образом:  \n",
    "E-шаг:  \n",
    "- Оцениваем скрытые переменные $a_p^q$ при фиксированных параметрах $\\theta^{(m)}:$  \n",
    "$\\operatorname{E}[a_p^q|A_t^q,\\theta^{(m)}] = P(a_p^q=1|A_t^q,\\theta^{(m)}) = (*)$  \n",
    "Если $A_t^q=0,$ то $(*) = 0$, иначе  \n",
    "$$(*) = P(a_p^q=1|A_t^q=1,\\theta^{(m)}) = \\frac{ P(A_t^q=1|a_p^q=1) P(a_p^q=1 | \\theta^{(m)}) }{ P(A_t^q=1|\\theta^{(m)}) } = \\frac{ P(a_p^q=1 | \\theta^{(m)}) }{ 1 - P(A_t^q=0 | \\theta^{(m)}) } = \\frac{ P(a_p^q=1 | \\theta^{(m)}) }{ 1 - \\prod_{g \\in t}P(a_g^q=0 | \\theta^{(m)}) }$$\n",
    "\n",
    "M-шаг:  \n",
    "- При фиксированных $a_p^q$ (точнее при их ожиданиях при $\\theta^{(m)}$  ) максимизируем правдоподобие $P(A,a|\\theta)$ по параметрам $\\theta,$ то есть просто обучаем логистическую регрессию на целевые переменные $a_p^q$. В результате оптимизации получаем новые параметры $\\theta^{(m+1)}$"
   ]
  },
  {
   "cell_type": "code",
   "execution_count": 31,
   "metadata": {},
   "outputs": [],
   "source": [
    "def make_prediction_meta(results, pt=pt, qt=qt):\n",
    "    \"\"\"В дополнение к матрице признаков и целевому вектору генерирует\n",
    "    датафрейм, позволяющий восстановить токен вопроса и id команды\n",
    "    для каждого объекта выборки\"\"\"\n",
    "    q_tokens, team_ids, y = [], [], []\n",
    "    for mask, tournament_id, team_id in tqdm(zip(results['mask'], results.tournament_id, results.team_id)):\n",
    "        q_tokens.extend([qt.get_token(tournament_id, i) for i in range(len(mask))])\n",
    "        team_ids.extend([team_id] * len(mask))  \n",
    "        y.extend([bool(int(c)) for c in mask])\n",
    "    return pd.DataFrame({'question_token': q_tokens, 'team_id': team_ids, 'team_answered': y})"
   ]
  },
  {
   "cell_type": "code",
   "execution_count": 32,
   "metadata": {},
   "outputs": [
    {
     "name": "stderr",
     "output_type": "stream",
     "text": [
      "414774it [00:12, 33289.80it/s]\n"
     ]
    }
   ],
   "source": [
    "train_prediction_meta = make_prediction_meta(train_results)"
   ]
  },
  {
   "cell_type": "code",
   "execution_count": 33,
   "metadata": {},
   "outputs": [
    {
     "data": {
      "text/html": [
       "<div>\n",
       "<style scoped>\n",
       "    .dataframe tbody tr th:only-of-type {\n",
       "        vertical-align: middle;\n",
       "    }\n",
       "\n",
       "    .dataframe tbody tr th {\n",
       "        vertical-align: top;\n",
       "    }\n",
       "\n",
       "    .dataframe thead th {\n",
       "        text-align: right;\n",
       "    }\n",
       "</style>\n",
       "<table border=\"1\" class=\"dataframe\">\n",
       "  <thead>\n",
       "    <tr style=\"text-align: right;\">\n",
       "      <th></th>\n",
       "      <th>question_token</th>\n",
       "      <th>team_id</th>\n",
       "      <th>team_answered</th>\n",
       "    </tr>\n",
       "  </thead>\n",
       "  <tbody>\n",
       "    <tr>\n",
       "      <th>0</th>\n",
       "      <td>0</td>\n",
       "      <td>45556</td>\n",
       "      <td>True</td>\n",
       "    </tr>\n",
       "    <tr>\n",
       "      <th>1</th>\n",
       "      <td>1</td>\n",
       "      <td>45556</td>\n",
       "      <td>True</td>\n",
       "    </tr>\n",
       "    <tr>\n",
       "      <th>2</th>\n",
       "      <td>2</td>\n",
       "      <td>45556</td>\n",
       "      <td>True</td>\n",
       "    </tr>\n",
       "    <tr>\n",
       "      <th>3</th>\n",
       "      <td>3</td>\n",
       "      <td>45556</td>\n",
       "      <td>True</td>\n",
       "    </tr>\n",
       "    <tr>\n",
       "      <th>4</th>\n",
       "      <td>4</td>\n",
       "      <td>45556</td>\n",
       "      <td>True</td>\n",
       "    </tr>\n",
       "  </tbody>\n",
       "</table>\n",
       "</div>"
      ],
      "text/plain": [
       "   question_token  team_id  team_answered\n",
       "0               0    45556           True\n",
       "1               1    45556           True\n",
       "2               2    45556           True\n",
       "3               3    45556           True\n",
       "4               4    45556           True"
      ]
     },
     "execution_count": 33,
     "metadata": {},
     "output_type": "execute_result"
    }
   ],
   "source": [
    "assert train_y.shape[0] == train_prediction_meta.shape[0]\n",
    "train_prediction_meta.head()"
   ]
  },
  {
   "cell_type": "code",
   "execution_count": 34,
   "metadata": {},
   "outputs": [],
   "source": [
    "def e_step(model, X, meta):\n",
    "    \"\"\"Вычисляет матожидания ответов игроков при условии ответов команд и текущих параметров модели.\n",
    "    А именно:\n",
    "    1. Если команда дала верный ответ, нормирует выход модели на вероятность ответа команды \n",
    "    для каждого вопроса и для каждой команды\n",
    "    2. Если команда не дала верного ответа, возвращает 0\"\"\"\n",
    "    meta = meta.copy()\n",
    "    pred = model.predict_proba(X)\n",
    "    if len(pred.shape) == 2:\n",
    "        pred = pred[:,1] if pred.shape[1] == 2 else pred.ravel()\n",
    "    meta['pred'] = pred\n",
    "    meta['player_fail_proba'] = 1 - pred\n",
    "    team_fail_proba = meta.groupby(['question_token', 'team_id'])['player_fail_proba'].prod().rename('team_fail_proba')\n",
    "    meta = meta.merge(team_fail_proba, left_on=['question_token', 'team_id'], right_index=True)\n",
    "    meta['team_success_proba'] = 1 - meta['team_fail_proba']\n",
    "    meta['normalized_pred'] = meta.pred / meta['team_success_proba']\n",
    "    meta['expected_player_answers'] = np.where(meta.team_answered, meta.normalized_pred, 0)\n",
    "    return meta.expected_player_answers.values"
   ]
  },
  {
   "cell_type": "code",
   "execution_count": 35,
   "metadata": {},
   "outputs": [],
   "source": [
    "import torch\n",
    "\n",
    "def to_tensors(X, y=None):\n",
    "    assert type(X) == csr_matrix\n",
    "    coo_X = X.tocoo()\n",
    "    tensor_X = torch.sparse.FloatTensor(torch.LongTensor([coo_X.row.tolist(), coo_X.col.tolist()]),\n",
    "                              torch.FloatTensor(coo_X.data))\n",
    "    tensor_y = torch.as_tensor(y) if y is not None else None\n",
    "    return tensor_X, tensor_y"
   ]
  },
  {
   "cell_type": "code",
   "execution_count": 36,
   "metadata": {},
   "outputs": [],
   "source": [
    "from copy import deepcopy\n",
    "\n",
    "class LogisticModel(torch.nn.Module):\n",
    "    def __init__(self, n_features):\n",
    "        super(LogisticModel, self).__init__()\n",
    "        self.linear = torch.nn.Linear(n_features, 1)\n",
    "        \n",
    "    def forward(self, x):\n",
    "        y_pred = torch.sigmoid(self.linear(x))\n",
    "        return y_pred\n",
    "\n",
    "class SoftLabelClassifier(object):\n",
    "    \"\"\"Классификатор, допускающий \"мягкие\" (из интервала [0,1]) целевые переменные \"\"\"\n",
    "    \n",
    "    def __init__(self, coef_, intercept_, lr=1.5, epochs=25):\n",
    "        n_features = coef_.shape[1]\n",
    "        self.model = LogisticModel(n_features)\n",
    "        self.model.linear.weight = torch.nn.parameter.Parameter(torch.as_tensor(model.coef_, dtype=torch.float32))\n",
    "        self.model.linear.bias.data.fill_(intercept_[0])\n",
    "        self.criterion = torch.nn.BCELoss()\n",
    "        self.optimizer = torch.optim.Adam(self.model.parameters(), lr=lr, amsgrad=True)\n",
    "        self.epochs = epochs\n",
    "    \n",
    "    def fit(self, X, y, with_tqdm=True):\n",
    "        X, y = to_tensors(X, y)\n",
    "        y = y.unsqueeze(1)\n",
    "        epochs = range(self.epochs)\n",
    "        if with_tqdm:\n",
    "            epochs = tqdm(epochs, leave=True, position=0, desc='Epoch')\n",
    "        for epoch in epochs:\n",
    "            self.model.train()\n",
    "            self.optimizer.zero_grad()\n",
    "            y_pred = self.model(X)\n",
    "            loss = self.criterion(y_pred, y)\n",
    "            loss.backward()\n",
    "            self.optimizer.step()\n",
    "        return self\n",
    "    \n",
    "    def predict_proba(self, X):\n",
    "        X, _ = to_tensors(X, None)\n",
    "        self.model.eval()\n",
    "        with torch.no_grad():\n",
    "            return self.model(X).detach().numpy()\n",
    "    \n",
    "    def get_state(self):\n",
    "        return deepcopy(self.model.state_dict())\n",
    "    \n",
    "    def set_state(self, state):\n",
    "        self.model.load_state_dict(deepcopy(state))\n",
    "    \n",
    "    @property\n",
    "    def coef_(self): \n",
    "        return self.model.linear.weight.detach().numpy()\n",
    "    \n",
    "    @property\n",
    "    def intercept_(self): \n",
    "        return np.array([self.model.linear.bias.item()])"
   ]
  },
  {
   "cell_type": "code",
   "execution_count": 37,
   "metadata": {},
   "outputs": [],
   "source": [
    "def m_step(model, X, expected_player_probas):\n",
    "    model_new = model.fit(X, expected_player_probas)\n",
    "    return model_new"
   ]
  },
  {
   "cell_type": "code",
   "execution_count": 38,
   "metadata": {},
   "outputs": [],
   "source": [
    "def em_algo(X, y, meta, test_results, init_model=None, model=None, n_iter=10, with_tqdm=True, **kwargs):\n",
    "    if model is not None:\n",
    "        pass\n",
    "    elif init_model is None:\n",
    "        model = SoftLabelClassifier(**kwargs)\n",
    "    else:\n",
    "        model = SoftLabelClassifier(coef_=init_model.coef_, intercept_=init_model.intercept_, **kwargs)\n",
    "    best_model_state = model.get_state()\n",
    "    best_model_spearman = -1\n",
    "    best_model_kendall = -1\n",
    "    iterable = tqdm(range(n_iter), leave=True, position=0, desc='EM iter') if with_tqdm else range(n_iter)\n",
    "    for i in iterable:\n",
    "        print(f'Iteration #{i}')\n",
    "        print(f'E-step')\n",
    "        expected_player_probas = e_step(model, X, meta)\n",
    "        print(f'M-step')\n",
    "        model = m_step(model, X, expected_player_probas)\n",
    "        print(f'Evaluation')\n",
    "        spearman, kendall = eval_model(model, test_results, with_tqdm=False)\n",
    "        if kendall > best_model_kendall:\n",
    "            best_model_kendall = kendall\n",
    "            best_model_spearman = spearman\n",
    "            best_model_state = model.get_state()\n",
    "        print(f'Spearman\\'s R: {spearman}\\tKendall\\'s Tau: {kendall}')\n",
    "        print('\\n')\n",
    "    model.set_state(best_model_state)\n",
    "    return model, (best_model_spearman, best_model_kendall)"
   ]
  },
  {
   "cell_type": "code",
   "execution_count": 39,
   "metadata": {
    "scrolled": true
   },
   "outputs": [
    {
     "name": "stderr",
     "output_type": "stream",
     "text": [
      "\r",
      "EM iter:   0%|          | 0/10 [00:00<?, ?it/s]"
     ]
    },
    {
     "name": "stdout",
     "output_type": "stream",
     "text": [
      "Iteration #0\n",
      "E-step\n",
      "M-step\n"
     ]
    },
    {
     "name": "stderr",
     "output_type": "stream",
     "text": [
      "Epoch: 100%|██████████| 25/25 [00:53<00:00,  2.08s/it]\n"
     ]
    },
    {
     "name": "stdout",
     "output_type": "stream",
     "text": [
      "Evaluation\n"
     ]
    },
    {
     "name": "stderr",
     "output_type": "stream",
     "text": [
      "\r",
      "EM iter:  10%|█         | 1/10 [01:23<12:35, 83.96s/it]"
     ]
    },
    {
     "name": "stdout",
     "output_type": "stream",
     "text": [
      "Spearman's R: 0.7904559783369134\tKendall's Tau: 0.6344682638519015\n",
      "\n",
      "\n",
      "Iteration #1\n",
      "E-step\n",
      "M-step\n"
     ]
    },
    {
     "name": "stderr",
     "output_type": "stream",
     "text": [
      "Epoch: 100%|██████████| 25/25 [00:47<00:00,  1.90s/it]\n"
     ]
    },
    {
     "name": "stdout",
     "output_type": "stream",
     "text": [
      "Evaluation\n"
     ]
    },
    {
     "name": "stderr",
     "output_type": "stream",
     "text": [
      "\r",
      "EM iter:  20%|██        | 2/10 [02:41<10:57, 82.17s/it]"
     ]
    },
    {
     "name": "stdout",
     "output_type": "stream",
     "text": [
      "Spearman's R: 0.798509338479078\tKendall's Tau: 0.6424403022204492\n",
      "\n",
      "\n",
      "Iteration #2\n",
      "E-step\n",
      "M-step\n"
     ]
    },
    {
     "name": "stderr",
     "output_type": "stream",
     "text": [
      "Epoch: 100%|██████████| 25/25 [00:47<00:00,  1.88s/it]\n"
     ]
    },
    {
     "name": "stdout",
     "output_type": "stream",
     "text": [
      "Evaluation\n"
     ]
    },
    {
     "name": "stderr",
     "output_type": "stream",
     "text": [
      "\r",
      "EM iter:  30%|███       | 3/10 [03:59<09:25, 80.85s/it]"
     ]
    },
    {
     "name": "stdout",
     "output_type": "stream",
     "text": [
      "Spearman's R: 0.7975671937103684\tKendall's Tau: 0.6398514426608239\n",
      "\n",
      "\n",
      "Iteration #3\n",
      "E-step\n",
      "M-step\n"
     ]
    },
    {
     "name": "stderr",
     "output_type": "stream",
     "text": [
      "Epoch: 100%|██████████| 25/25 [00:47<00:00,  1.90s/it]\n"
     ]
    },
    {
     "name": "stdout",
     "output_type": "stream",
     "text": [
      "Evaluation\n"
     ]
    },
    {
     "name": "stderr",
     "output_type": "stream",
     "text": [
      "\r",
      "EM iter:  40%|████      | 4/10 [05:17<07:58, 79.80s/it]"
     ]
    },
    {
     "name": "stdout",
     "output_type": "stream",
     "text": [
      "Spearman's R: 0.7964344281231127\tKendall's Tau: 0.6383364584772426\n",
      "\n",
      "\n",
      "Iteration #4\n",
      "E-step\n",
      "M-step\n"
     ]
    },
    {
     "name": "stderr",
     "output_type": "stream",
     "text": [
      "Epoch: 100%|██████████| 25/25 [00:47<00:00,  1.86s/it]\n"
     ]
    },
    {
     "name": "stdout",
     "output_type": "stream",
     "text": [
      "Evaluation\n"
     ]
    },
    {
     "name": "stderr",
     "output_type": "stream",
     "text": [
      "\r",
      "EM iter:  50%|█████     | 5/10 [06:34<06:35, 79.03s/it]"
     ]
    },
    {
     "name": "stdout",
     "output_type": "stream",
     "text": [
      "Spearman's R: 0.7943473351339093\tKendall's Tau: 0.6359901591990529\n",
      "\n",
      "\n",
      "Iteration #5\n",
      "E-step\n",
      "M-step\n"
     ]
    },
    {
     "name": "stderr",
     "output_type": "stream",
     "text": [
      "Epoch: 100%|██████████| 25/25 [00:46<00:00,  1.90s/it]\n"
     ]
    },
    {
     "name": "stdout",
     "output_type": "stream",
     "text": [
      "Evaluation\n"
     ]
    },
    {
     "name": "stderr",
     "output_type": "stream",
     "text": [
      "\r",
      "EM iter:  60%|██████    | 6/10 [07:51<05:13, 78.36s/it]"
     ]
    },
    {
     "name": "stdout",
     "output_type": "stream",
     "text": [
      "Spearman's R: 0.7906871464132671\tKendall's Tau: 0.6329283122288007\n",
      "\n",
      "\n",
      "Iteration #6\n",
      "E-step\n",
      "M-step\n"
     ]
    },
    {
     "name": "stderr",
     "output_type": "stream",
     "text": [
      "Epoch: 100%|██████████| 25/25 [00:47<00:00,  1.91s/it]\n"
     ]
    },
    {
     "name": "stdout",
     "output_type": "stream",
     "text": [
      "Evaluation\n"
     ]
    },
    {
     "name": "stderr",
     "output_type": "stream",
     "text": [
      "\r",
      "EM iter:  70%|███████   | 7/10 [09:08<03:54, 78.05s/it]"
     ]
    },
    {
     "name": "stdout",
     "output_type": "stream",
     "text": [
      "Spearman's R: 0.7904014944110439\tKendall's Tau: 0.6327528667817114\n",
      "\n",
      "\n",
      "Iteration #7\n",
      "E-step\n",
      "M-step\n"
     ]
    },
    {
     "name": "stderr",
     "output_type": "stream",
     "text": [
      "Epoch: 100%|██████████| 25/25 [00:50<00:00,  2.09s/it]\n"
     ]
    },
    {
     "name": "stdout",
     "output_type": "stream",
     "text": [
      "Evaluation\n"
     ]
    },
    {
     "name": "stderr",
     "output_type": "stream",
     "text": [
      "\r",
      "EM iter:  80%|████████  | 8/10 [10:31<02:38, 79.46s/it]"
     ]
    },
    {
     "name": "stdout",
     "output_type": "stream",
     "text": [
      "Spearman's R: 0.7896944868518246\tKendall's Tau: 0.6318227038104502\n",
      "\n",
      "\n",
      "Iteration #8\n",
      "E-step\n",
      "M-step\n"
     ]
    },
    {
     "name": "stderr",
     "output_type": "stream",
     "text": [
      "Epoch: 100%|██████████| 25/25 [00:47<00:00,  1.89s/it]\n"
     ]
    },
    {
     "name": "stdout",
     "output_type": "stream",
     "text": [
      "Evaluation\n"
     ]
    },
    {
     "name": "stderr",
     "output_type": "stream",
     "text": [
      "\r",
      "EM iter:  90%|█████████ | 9/10 [11:49<01:19, 79.09s/it]"
     ]
    },
    {
     "name": "stdout",
     "output_type": "stream",
     "text": [
      "Spearman's R: 0.7900004631012589\tKendall's Tau: 0.632005574459734\n",
      "\n",
      "\n",
      "Iteration #9\n",
      "E-step\n",
      "M-step\n"
     ]
    },
    {
     "name": "stderr",
     "output_type": "stream",
     "text": [
      "Epoch: 100%|██████████| 25/25 [00:47<00:00,  1.88s/it]\n"
     ]
    },
    {
     "name": "stdout",
     "output_type": "stream",
     "text": [
      "Evaluation\n"
     ]
    },
    {
     "name": "stderr",
     "output_type": "stream",
     "text": [
      "\r",
      "EM iter: 100%|██████████| 10/10 [13:06<00:00, 78.61s/it]"
     ]
    },
    {
     "name": "stdout",
     "output_type": "stream",
     "text": [
      "Spearman's R: 0.7899567493286501\tKendall's Tau: 0.6319023667347948\n",
      "\n",
      "\n"
     ]
    },
    {
     "name": "stderr",
     "output_type": "stream",
     "text": [
      "\n"
     ]
    }
   ],
   "source": [
    "em_model, _ = em_algo(train_X, train_y, train_prediction_meta, test_results, init_model=model)"
   ]
  },
  {
   "cell_type": "code",
   "execution_count": 40,
   "metadata": {},
   "outputs": [
    {
     "name": "stderr",
     "output_type": "stream",
     "text": [
      "100%|██████████| 173/173 [00:15<00:00, 10.98it/s]"
     ]
    },
    {
     "name": "stdout",
     "output_type": "stream",
     "text": [
      "Spearman's R: 0.798509338479078\tKendall's Tau: 0.6424403022204492\n"
     ]
    },
    {
     "name": "stderr",
     "output_type": "stream",
     "text": [
      "\n"
     ]
    }
   ],
   "source": [
    "spearman, kendall = eval_model(em_model, test_results)\n",
    "print(f'Spearman\\'s R: {spearman}\\tKendall\\'s Tau: {kendall}')"
   ]
  },
  {
   "cell_type": "markdown",
   "metadata": {},
   "source": [
    "Метрики подросли, но уже после двух итераций модель переобучается"
   ]
  },
  {
   "cell_type": "markdown",
   "metadata": {},
   "source": [
    "## Рейтинг турниров по сложности вопросов"
   ]
  },
  {
   "cell_type": "code",
   "execution_count": 41,
   "metadata": {},
   "outputs": [],
   "source": [
    "question_ratings = em_model.coef_[0, :qt.max_token+1]"
   ]
  },
  {
   "cell_type": "code",
   "execution_count": 42,
   "metadata": {},
   "outputs": [],
   "source": [
    "# Перебираем все пары (id турнира, список его вопросов) и считаем среднюю сложность турнира как средний вес вопроса\n",
    "# Домножаем на -1, потому что чем ниже коэффициент в модели, тем ниже шансы игроков дать верный ответ\n",
    "tournament_difficulties = pd.Series({tid: -question_ratings[questions].mean()\n",
    "           for tid, questions in qt.question2token.items()}, name='difficulty')"
   ]
  },
  {
   "cell_type": "code",
   "execution_count": 43,
   "metadata": {},
   "outputs": [],
   "source": [
    "train_tournaments = train_tournaments.merge(tournament_difficulties, left_on='id', right_index=True)"
   ]
  },
  {
   "cell_type": "markdown",
   "metadata": {},
   "source": [
    "#### Самые сложные турниры по версии модели:"
   ]
  },
  {
   "cell_type": "code",
   "execution_count": 44,
   "metadata": {},
   "outputs": [
    {
     "data": {
      "text/html": [
       "<div>\n",
       "<style scoped>\n",
       "    .dataframe tbody tr th:only-of-type {\n",
       "        vertical-align: middle;\n",
       "    }\n",
       "\n",
       "    .dataframe tbody tr th {\n",
       "        vertical-align: top;\n",
       "    }\n",
       "\n",
       "    .dataframe thead th {\n",
       "        text-align: right;\n",
       "    }\n",
       "</style>\n",
       "<table border=\"1\" class=\"dataframe\">\n",
       "  <thead>\n",
       "    <tr style=\"text-align: right;\">\n",
       "      <th></th>\n",
       "      <th>dateStart</th>\n",
       "      <th>id</th>\n",
       "      <th>name</th>\n",
       "      <th>questionQty</th>\n",
       "      <th>difficulty</th>\n",
       "    </tr>\n",
       "  </thead>\n",
       "  <tbody>\n",
       "    <tr>\n",
       "      <th>674</th>\n",
       "      <td>2019-10-13T00:00:00+03:00</td>\n",
       "      <td>6149</td>\n",
       "      <td>Чемпионат Санкт-Петербурга. Первая лига</td>\n",
       "      <td>180</td>\n",
       "      <td>12.762155</td>\n",
       "    </tr>\n",
       "    <tr>\n",
       "      <th>549</th>\n",
       "      <td>2019-11-21T14:00:00+03:00</td>\n",
       "      <td>5928</td>\n",
       "      <td>Угрюмый Ёрш</td>\n",
       "      <td>45</td>\n",
       "      <td>1.531286</td>\n",
       "    </tr>\n",
       "    <tr>\n",
       "      <th>375</th>\n",
       "      <td>2019-06-14T19:00:00+03:00</td>\n",
       "      <td>5684</td>\n",
       "      <td>Синхрон высшей лиги Москвы</td>\n",
       "      <td>36</td>\n",
       "      <td>1.298623</td>\n",
       "    </tr>\n",
       "    <tr>\n",
       "      <th>650</th>\n",
       "      <td>2019-12-05T00:01:00+03:00</td>\n",
       "      <td>6101</td>\n",
       "      <td>Воображаемый музей</td>\n",
       "      <td>36</td>\n",
       "      <td>1.253255</td>\n",
       "    </tr>\n",
       "    <tr>\n",
       "      <th>43</th>\n",
       "      <td>2019-08-09T19:30:00+03:00</td>\n",
       "      <td>5159</td>\n",
       "      <td>Первенство правого полушария</td>\n",
       "      <td>36</td>\n",
       "      <td>1.226727</td>\n",
       "    </tr>\n",
       "    <tr>\n",
       "      <th>26</th>\n",
       "      <td>2019-01-04T14:00:00+03:00</td>\n",
       "      <td>5083</td>\n",
       "      <td>Ускользающая сова</td>\n",
       "      <td>36</td>\n",
       "      <td>1.130865</td>\n",
       "    </tr>\n",
       "    <tr>\n",
       "      <th>288</th>\n",
       "      <td>2019-04-13T12:00:00+03:00</td>\n",
       "      <td>5587</td>\n",
       "      <td>Записки охотника</td>\n",
       "      <td>36</td>\n",
       "      <td>1.125726</td>\n",
       "    </tr>\n",
       "    <tr>\n",
       "      <th>383</th>\n",
       "      <td>2019-08-16T19:00:00+03:00</td>\n",
       "      <td>5693</td>\n",
       "      <td>Знание – Сила VI</td>\n",
       "      <td>36</td>\n",
       "      <td>1.090563</td>\n",
       "    </tr>\n",
       "    <tr>\n",
       "      <th>562</th>\n",
       "      <td>2019-09-07T17:00:00+03:00</td>\n",
       "      <td>5943</td>\n",
       "      <td>Чемпионат Мира. Этап 2 Группа С</td>\n",
       "      <td>30</td>\n",
       "      <td>1.068909</td>\n",
       "    </tr>\n",
       "    <tr>\n",
       "      <th>226</th>\n",
       "      <td>2019-02-25T19:00:00+03:00</td>\n",
       "      <td>5515</td>\n",
       "      <td>Чемпионат Минска. Лига А. Тур четвёртый</td>\n",
       "      <td>36</td>\n",
       "      <td>1.017050</td>\n",
       "    </tr>\n",
       "    <tr>\n",
       "      <th>551</th>\n",
       "      <td>2019-10-11T14:00:00+03:00</td>\n",
       "      <td>5930</td>\n",
       "      <td>Зеркало мемориала памяти Михаила Басса</td>\n",
       "      <td>36</td>\n",
       "      <td>1.014484</td>\n",
       "    </tr>\n",
       "    <tr>\n",
       "      <th>13</th>\n",
       "      <td>2019-03-29T19:00:00+03:00</td>\n",
       "      <td>5025</td>\n",
       "      <td>Кубок городов</td>\n",
       "      <td>48</td>\n",
       "      <td>1.006638</td>\n",
       "    </tr>\n",
       "    <tr>\n",
       "      <th>130</th>\n",
       "      <td>2019-04-19T19:00:00+03:00</td>\n",
       "      <td>5412</td>\n",
       "      <td>Серия Premier. Седьмая печать</td>\n",
       "      <td>36</td>\n",
       "      <td>0.968658</td>\n",
       "    </tr>\n",
       "    <tr>\n",
       "      <th>603</th>\n",
       "      <td>2019-11-07T19:00:00+03:00</td>\n",
       "      <td>5996</td>\n",
       "      <td>Тихий Донец: омут первый</td>\n",
       "      <td>36</td>\n",
       "      <td>0.961653</td>\n",
       "    </tr>\n",
       "    <tr>\n",
       "      <th>561</th>\n",
       "      <td>2019-09-07T17:00:00+03:00</td>\n",
       "      <td>5942</td>\n",
       "      <td>Чемпионат Мира. Этап 2. Группа В</td>\n",
       "      <td>30</td>\n",
       "      <td>0.935451</td>\n",
       "    </tr>\n",
       "    <tr>\n",
       "      <th>138</th>\n",
       "      <td>2019-02-01T20:00:00+03:00</td>\n",
       "      <td>5421</td>\n",
       "      <td>Львов зимой. Адвокат</td>\n",
       "      <td>36</td>\n",
       "      <td>0.929830</td>\n",
       "    </tr>\n",
       "    <tr>\n",
       "      <th>49</th>\n",
       "      <td>2019-02-22T19:00:00+03:00</td>\n",
       "      <td>5186</td>\n",
       "      <td>VERSUS: Коробейников vs. Матвеев</td>\n",
       "      <td>36</td>\n",
       "      <td>0.922013</td>\n",
       "    </tr>\n",
       "    <tr>\n",
       "      <th>569</th>\n",
       "      <td>2019-09-08T15:30:00+03:00</td>\n",
       "      <td>5950</td>\n",
       "      <td>Чемпионат Мира. Финал. Группа С</td>\n",
       "      <td>30</td>\n",
       "      <td>0.906196</td>\n",
       "    </tr>\n",
       "    <tr>\n",
       "      <th>179</th>\n",
       "      <td>2019-05-18T12:00:00+03:00</td>\n",
       "      <td>5465</td>\n",
       "      <td>Чемпионат России</td>\n",
       "      <td>90</td>\n",
       "      <td>0.895059</td>\n",
       "    </tr>\n",
       "    <tr>\n",
       "      <th>566</th>\n",
       "      <td>2019-09-08T11:00:00+03:00</td>\n",
       "      <td>5947</td>\n",
       "      <td>Чемпионат Мира. Этап 3. Группа С</td>\n",
       "      <td>30</td>\n",
       "      <td>0.874738</td>\n",
       "    </tr>\n",
       "  </tbody>\n",
       "</table>\n",
       "</div>"
      ],
      "text/plain": [
       "                     dateStart    id                                     name  \\\n",
       "674  2019-10-13T00:00:00+03:00  6149  Чемпионат Санкт-Петербурга. Первая лига   \n",
       "549  2019-11-21T14:00:00+03:00  5928                              Угрюмый Ёрш   \n",
       "375  2019-06-14T19:00:00+03:00  5684               Синхрон высшей лиги Москвы   \n",
       "650  2019-12-05T00:01:00+03:00  6101                       Воображаемый музей   \n",
       "43   2019-08-09T19:30:00+03:00  5159             Первенство правого полушария   \n",
       "26   2019-01-04T14:00:00+03:00  5083                        Ускользающая сова   \n",
       "288  2019-04-13T12:00:00+03:00  5587                         Записки охотника   \n",
       "383  2019-08-16T19:00:00+03:00  5693                         Знание – Сила VI   \n",
       "562  2019-09-07T17:00:00+03:00  5943          Чемпионат Мира. Этап 2 Группа С   \n",
       "226  2019-02-25T19:00:00+03:00  5515  Чемпионат Минска. Лига А. Тур четвёртый   \n",
       "551  2019-10-11T14:00:00+03:00  5930   Зеркало мемориала памяти Михаила Басса   \n",
       "13   2019-03-29T19:00:00+03:00  5025                            Кубок городов   \n",
       "130  2019-04-19T19:00:00+03:00  5412            Серия Premier. Седьмая печать   \n",
       "603  2019-11-07T19:00:00+03:00  5996                 Тихий Донец: омут первый   \n",
       "561  2019-09-07T17:00:00+03:00  5942         Чемпионат Мира. Этап 2. Группа В   \n",
       "138  2019-02-01T20:00:00+03:00  5421                     Львов зимой. Адвокат   \n",
       "49   2019-02-22T19:00:00+03:00  5186         VERSUS: Коробейников vs. Матвеев   \n",
       "569  2019-09-08T15:30:00+03:00  5950          Чемпионат Мира. Финал. Группа С   \n",
       "179  2019-05-18T12:00:00+03:00  5465                         Чемпионат России   \n",
       "566  2019-09-08T11:00:00+03:00  5947         Чемпионат Мира. Этап 3. Группа С   \n",
       "\n",
       "     questionQty  difficulty  \n",
       "674          180   12.762155  \n",
       "549           45    1.531286  \n",
       "375           36    1.298623  \n",
       "650           36    1.253255  \n",
       "43            36    1.226727  \n",
       "26            36    1.130865  \n",
       "288           36    1.125726  \n",
       "383           36    1.090563  \n",
       "562           30    1.068909  \n",
       "226           36    1.017050  \n",
       "551           36    1.014484  \n",
       "13            48    1.006638  \n",
       "130           36    0.968658  \n",
       "603           36    0.961653  \n",
       "561           30    0.935451  \n",
       "138           36    0.929830  \n",
       "49            36    0.922013  \n",
       "569           30    0.906196  \n",
       "179           90    0.895059  \n",
       "566           30    0.874738  "
      ]
     },
     "execution_count": 44,
     "metadata": {},
     "output_type": "execute_result"
    }
   ],
   "source": [
    "train_tournaments.sort_values('difficulty', ascending=False).head(20)"
   ]
  },
  {
   "cell_type": "markdown",
   "metadata": {},
   "source": [
    "#### Самые лёгкие:"
   ]
  },
  {
   "cell_type": "code",
   "execution_count": 45,
   "metadata": {},
   "outputs": [
    {
     "data": {
      "text/html": [
       "<div>\n",
       "<style scoped>\n",
       "    .dataframe tbody tr th:only-of-type {\n",
       "        vertical-align: middle;\n",
       "    }\n",
       "\n",
       "    .dataframe tbody tr th {\n",
       "        vertical-align: top;\n",
       "    }\n",
       "\n",
       "    .dataframe thead th {\n",
       "        text-align: right;\n",
       "    }\n",
       "</style>\n",
       "<table border=\"1\" class=\"dataframe\">\n",
       "  <thead>\n",
       "    <tr style=\"text-align: right;\">\n",
       "      <th></th>\n",
       "      <th>dateStart</th>\n",
       "      <th>id</th>\n",
       "      <th>name</th>\n",
       "      <th>questionQty</th>\n",
       "      <th>difficulty</th>\n",
       "    </tr>\n",
       "  </thead>\n",
       "  <tbody>\n",
       "    <tr>\n",
       "      <th>555</th>\n",
       "      <td>2019-10-04T19:00:00+03:00</td>\n",
       "      <td>5936</td>\n",
       "      <td>Школьная лига. I тур.</td>\n",
       "      <td>36</td>\n",
       "      <td>-3.024571</td>\n",
       "    </tr>\n",
       "    <tr>\n",
       "      <th>651</th>\n",
       "      <td>2019-11-15T00:00:00+03:00</td>\n",
       "      <td>6102</td>\n",
       "      <td>One ring - async</td>\n",
       "      <td>36</td>\n",
       "      <td>-3.006175</td>\n",
       "    </tr>\n",
       "    <tr>\n",
       "      <th>573</th>\n",
       "      <td>2019-12-06T19:00:00+03:00</td>\n",
       "      <td>5955</td>\n",
       "      <td>Школьная лига. III тур.</td>\n",
       "      <td>36</td>\n",
       "      <td>-2.986511</td>\n",
       "    </tr>\n",
       "    <tr>\n",
       "      <th>684</th>\n",
       "      <td>2019-10-04T19:00:00+03:00</td>\n",
       "      <td>6254</td>\n",
       "      <td>Школьная лига</td>\n",
       "      <td>216</td>\n",
       "      <td>-2.898304</td>\n",
       "    </tr>\n",
       "    <tr>\n",
       "      <th>572</th>\n",
       "      <td>2019-11-08T19:00:00+03:00</td>\n",
       "      <td>5954</td>\n",
       "      <td>Школьная лига. II тур.</td>\n",
       "      <td>36</td>\n",
       "      <td>-2.849718</td>\n",
       "    </tr>\n",
       "    <tr>\n",
       "      <th>10</th>\n",
       "      <td>2019-04-05T12:00:00+03:00</td>\n",
       "      <td>5012</td>\n",
       "      <td>Школьный Синхрон-lite. Выпуск 2.5</td>\n",
       "      <td>36</td>\n",
       "      <td>-2.800482</td>\n",
       "    </tr>\n",
       "    <tr>\n",
       "      <th>154</th>\n",
       "      <td>2019-02-02T00:55:00+03:00</td>\n",
       "      <td>5438</td>\n",
       "      <td>Синхрон Лиги Разума</td>\n",
       "      <td>36</td>\n",
       "      <td>-2.786644</td>\n",
       "    </tr>\n",
       "    <tr>\n",
       "      <th>385</th>\n",
       "      <td>2019-09-01T00:05:00+03:00</td>\n",
       "      <td>5697</td>\n",
       "      <td>Школьный Синхрон-lite. Выпуск 3.1</td>\n",
       "      <td>36</td>\n",
       "      <td>-2.775939</td>\n",
       "    </tr>\n",
       "    <tr>\n",
       "      <th>11</th>\n",
       "      <td>2019-04-05T12:00:00+03:00</td>\n",
       "      <td>5013</td>\n",
       "      <td>(а)Синхрон-lite. Лига старта. Эпизод V</td>\n",
       "      <td>36</td>\n",
       "      <td>-2.754029</td>\n",
       "    </tr>\n",
       "    <tr>\n",
       "      <th>389</th>\n",
       "      <td>2019-11-01T00:05:00+03:00</td>\n",
       "      <td>5701</td>\n",
       "      <td>Школьный Синхрон-lite. Выпуск 3.3</td>\n",
       "      <td>36</td>\n",
       "      <td>-2.684719</td>\n",
       "    </tr>\n",
       "    <tr>\n",
       "      <th>172</th>\n",
       "      <td>2019-02-16T14:00:00+03:00</td>\n",
       "      <td>5457</td>\n",
       "      <td>Студенческий чемпионат Калининградской области</td>\n",
       "      <td>45</td>\n",
       "      <td>-2.573801</td>\n",
       "    </tr>\n",
       "    <tr>\n",
       "      <th>597</th>\n",
       "      <td>2019-11-20T12:00:00+03:00</td>\n",
       "      <td>5990</td>\n",
       "      <td>Открытый кубок УМЭД</td>\n",
       "      <td>36</td>\n",
       "      <td>-2.561553</td>\n",
       "    </tr>\n",
       "    <tr>\n",
       "      <th>6</th>\n",
       "      <td>2019-01-25T14:00:00+03:00</td>\n",
       "      <td>5008</td>\n",
       "      <td>Школьный Синхрон-lite. Выпуск 2.3</td>\n",
       "      <td>36</td>\n",
       "      <td>-2.561144</td>\n",
       "    </tr>\n",
       "    <tr>\n",
       "      <th>589</th>\n",
       "      <td>2019-10-19T14:00:00+03:00</td>\n",
       "      <td>5980</td>\n",
       "      <td>Большая перемена</td>\n",
       "      <td>45</td>\n",
       "      <td>-2.558203</td>\n",
       "    </tr>\n",
       "    <tr>\n",
       "      <th>386</th>\n",
       "      <td>2019-09-01T00:05:00+03:00</td>\n",
       "      <td>5698</td>\n",
       "      <td>(а)Синхрон-lite. Лига старта. Эпизод VII</td>\n",
       "      <td>36</td>\n",
       "      <td>-2.532709</td>\n",
       "    </tr>\n",
       "    <tr>\n",
       "      <th>452</th>\n",
       "      <td>2019-12-21T12:30:00+03:00</td>\n",
       "      <td>5791</td>\n",
       "      <td>Кубок княгини Ольги среди школьников</td>\n",
       "      <td>60</td>\n",
       "      <td>-2.511845</td>\n",
       "    </tr>\n",
       "    <tr>\n",
       "      <th>541</th>\n",
       "      <td>2019-09-14T12:00:00+03:00</td>\n",
       "      <td>5912</td>\n",
       "      <td>Borisov Brain Cup</td>\n",
       "      <td>45</td>\n",
       "      <td>-2.498669</td>\n",
       "    </tr>\n",
       "    <tr>\n",
       "      <th>7</th>\n",
       "      <td>2019-01-25T14:00:00+03:00</td>\n",
       "      <td>5009</td>\n",
       "      <td>(а)Синхрон-lite. Лига старта. Эпизод III</td>\n",
       "      <td>36</td>\n",
       "      <td>-2.487218</td>\n",
       "    </tr>\n",
       "    <tr>\n",
       "      <th>610</th>\n",
       "      <td>2019-10-26T12:30:00+03:00</td>\n",
       "      <td>6008</td>\n",
       "      <td>Малый кубок Физтеха</td>\n",
       "      <td>72</td>\n",
       "      <td>-2.469096</td>\n",
       "    </tr>\n",
       "    <tr>\n",
       "      <th>391</th>\n",
       "      <td>2019-12-01T00:05:00+03:00</td>\n",
       "      <td>5703</td>\n",
       "      <td>Школьный Синхрон-lite. Выпуск 3.4</td>\n",
       "      <td>36</td>\n",
       "      <td>-2.453802</td>\n",
       "    </tr>\n",
       "  </tbody>\n",
       "</table>\n",
       "</div>"
      ],
      "text/plain": [
       "                     dateStart    id  \\\n",
       "555  2019-10-04T19:00:00+03:00  5936   \n",
       "651  2019-11-15T00:00:00+03:00  6102   \n",
       "573  2019-12-06T19:00:00+03:00  5955   \n",
       "684  2019-10-04T19:00:00+03:00  6254   \n",
       "572  2019-11-08T19:00:00+03:00  5954   \n",
       "10   2019-04-05T12:00:00+03:00  5012   \n",
       "154  2019-02-02T00:55:00+03:00  5438   \n",
       "385  2019-09-01T00:05:00+03:00  5697   \n",
       "11   2019-04-05T12:00:00+03:00  5013   \n",
       "389  2019-11-01T00:05:00+03:00  5701   \n",
       "172  2019-02-16T14:00:00+03:00  5457   \n",
       "597  2019-11-20T12:00:00+03:00  5990   \n",
       "6    2019-01-25T14:00:00+03:00  5008   \n",
       "589  2019-10-19T14:00:00+03:00  5980   \n",
       "386  2019-09-01T00:05:00+03:00  5698   \n",
       "452  2019-12-21T12:30:00+03:00  5791   \n",
       "541  2019-09-14T12:00:00+03:00  5912   \n",
       "7    2019-01-25T14:00:00+03:00  5009   \n",
       "610  2019-10-26T12:30:00+03:00  6008   \n",
       "391  2019-12-01T00:05:00+03:00  5703   \n",
       "\n",
       "                                               name  questionQty  difficulty  \n",
       "555                           Школьная лига. I тур.           36   -3.024571  \n",
       "651                                One ring - async           36   -3.006175  \n",
       "573                         Школьная лига. III тур.           36   -2.986511  \n",
       "684                                   Школьная лига          216   -2.898304  \n",
       "572                          Школьная лига. II тур.           36   -2.849718  \n",
       "10                Школьный Синхрон-lite. Выпуск 2.5           36   -2.800482  \n",
       "154                             Синхрон Лиги Разума           36   -2.786644  \n",
       "385               Школьный Синхрон-lite. Выпуск 3.1           36   -2.775939  \n",
       "11           (а)Синхрон-lite. Лига старта. Эпизод V           36   -2.754029  \n",
       "389               Школьный Синхрон-lite. Выпуск 3.3           36   -2.684719  \n",
       "172  Студенческий чемпионат Калининградской области           45   -2.573801  \n",
       "597                             Открытый кубок УМЭД           36   -2.561553  \n",
       "6                 Школьный Синхрон-lite. Выпуск 2.3           36   -2.561144  \n",
       "589                                Большая перемена           45   -2.558203  \n",
       "386        (а)Синхрон-lite. Лига старта. Эпизод VII           36   -2.532709  \n",
       "452            Кубок княгини Ольги среди школьников           60   -2.511845  \n",
       "541                               Borisov Brain Cup           45   -2.498669  \n",
       "7          (а)Синхрон-lite. Лига старта. Эпизод III           36   -2.487218  \n",
       "610                             Малый кубок Физтеха           72   -2.469096  \n",
       "391               Школьный Синхрон-lite. Выпуск 3.4           36   -2.453802  "
      ]
     },
     "execution_count": 45,
     "metadata": {},
     "output_type": "execute_result"
    }
   ],
   "source": [
    "train_tournaments.sort_values('difficulty', ascending=True).head(20)"
   ]
  },
  {
   "cell_type": "markdown",
   "metadata": {},
   "source": [
    "Выглядит вполне адекватно"
   ]
  },
  {
   "cell_type": "markdown",
   "metadata": {},
   "source": [
    "## Рейтинг игроков"
   ]
  },
  {
   "cell_type": "code",
   "execution_count": 46,
   "metadata": {},
   "outputs": [],
   "source": [
    "player_ratings = em_model.coef_[0, qt.max_token+1:]"
   ]
  },
  {
   "cell_type": "code",
   "execution_count": 47,
   "metadata": {},
   "outputs": [],
   "source": [
    "players = train_results[['player_id', 'player_name']].drop_duplicates('player_id').reset_index(drop=True).copy()\n",
    "players = players.merge(train_results.groupby('player_id')['mask_len'].sum().rename('total_questions'),\n",
    "              left_on='player_id', right_index=True)\n",
    "players['rating'] = player_ratings"
   ]
  },
  {
   "cell_type": "markdown",
   "metadata": {},
   "source": [
    "Рейтинг по весам модели без отсечки. Действительно, большинство игроков - ноунеймы с малым числом вопросов"
   ]
  },
  {
   "cell_type": "code",
   "execution_count": 48,
   "metadata": {},
   "outputs": [
    {
     "data": {
      "text/html": [
       "<div>\n",
       "<style scoped>\n",
       "    .dataframe tbody tr th:only-of-type {\n",
       "        vertical-align: middle;\n",
       "    }\n",
       "\n",
       "    .dataframe tbody tr th {\n",
       "        vertical-align: top;\n",
       "    }\n",
       "\n",
       "    .dataframe thead th {\n",
       "        text-align: right;\n",
       "    }\n",
       "</style>\n",
       "<table border=\"1\" class=\"dataframe\">\n",
       "  <thead>\n",
       "    <tr style=\"text-align: right;\">\n",
       "      <th></th>\n",
       "      <th>player_id</th>\n",
       "      <th>player_name</th>\n",
       "      <th>total_questions</th>\n",
       "      <th>rating</th>\n",
       "    </tr>\n",
       "  </thead>\n",
       "  <tbody>\n",
       "    <tr>\n",
       "      <th>0</th>\n",
       "      <td>214337</td>\n",
       "      <td>Заворотный Юрий Александрович</td>\n",
       "      <td>36</td>\n",
       "      <td>3.748598</td>\n",
       "    </tr>\n",
       "    <tr>\n",
       "      <th>1</th>\n",
       "      <td>24342</td>\n",
       "      <td>Пахомов Денис Владимирович</td>\n",
       "      <td>69</td>\n",
       "      <td>3.271390</td>\n",
       "    </tr>\n",
       "    <tr>\n",
       "      <th>2</th>\n",
       "      <td>199961</td>\n",
       "      <td>Смирнов Владимир Александрович</td>\n",
       "      <td>36</td>\n",
       "      <td>3.184392</td>\n",
       "    </tr>\n",
       "    <tr>\n",
       "      <th>3</th>\n",
       "      <td>707</td>\n",
       "      <td>Александрова Елена Андреевна</td>\n",
       "      <td>48</td>\n",
       "      <td>3.121824</td>\n",
       "    </tr>\n",
       "    <tr>\n",
       "      <th>4</th>\n",
       "      <td>197183</td>\n",
       "      <td>Берхман Евгений Юрьевич</td>\n",
       "      <td>36</td>\n",
       "      <td>3.118120</td>\n",
       "    </tr>\n",
       "    <tr>\n",
       "      <th>5</th>\n",
       "      <td>173433</td>\n",
       "      <td>Кольцов Кирилл Анатольевич</td>\n",
       "      <td>35</td>\n",
       "      <td>3.091249</td>\n",
       "    </tr>\n",
       "    <tr>\n",
       "      <th>6</th>\n",
       "      <td>219357</td>\n",
       "      <td>Шашин Степан Андреевич</td>\n",
       "      <td>36</td>\n",
       "      <td>3.026821</td>\n",
       "    </tr>\n",
       "    <tr>\n",
       "      <th>7</th>\n",
       "      <td>210958</td>\n",
       "      <td>Ипполитов Денис</td>\n",
       "      <td>36</td>\n",
       "      <td>2.933783</td>\n",
       "    </tr>\n",
       "    <tr>\n",
       "      <th>8</th>\n",
       "      <td>191331</td>\n",
       "      <td>Чигулина Екатерина</td>\n",
       "      <td>35</td>\n",
       "      <td>2.905864</td>\n",
       "    </tr>\n",
       "    <tr>\n",
       "      <th>9</th>\n",
       "      <td>28015</td>\n",
       "      <td>Сальников Алексей Алексеевич</td>\n",
       "      <td>39</td>\n",
       "      <td>2.875501</td>\n",
       "    </tr>\n",
       "    <tr>\n",
       "      <th>10</th>\n",
       "      <td>202410</td>\n",
       "      <td>Подюкова Валентина</td>\n",
       "      <td>36</td>\n",
       "      <td>2.863678</td>\n",
       "    </tr>\n",
       "    <tr>\n",
       "      <th>11</th>\n",
       "      <td>28751</td>\n",
       "      <td>Семушин Иван Николаевич</td>\n",
       "      <td>3774</td>\n",
       "      <td>2.847294</td>\n",
       "    </tr>\n",
       "    <tr>\n",
       "      <th>12</th>\n",
       "      <td>27403</td>\n",
       "      <td>Руссо Максим Михайлович</td>\n",
       "      <td>2178</td>\n",
       "      <td>2.842289</td>\n",
       "    </tr>\n",
       "    <tr>\n",
       "      <th>13</th>\n",
       "      <td>4270</td>\n",
       "      <td>Брутер Александра Владимировна</td>\n",
       "      <td>2692</td>\n",
       "      <td>2.823134</td>\n",
       "    </tr>\n",
       "    <tr>\n",
       "      <th>14</th>\n",
       "      <td>20691</td>\n",
       "      <td>Мереминский Станислав Григорьевич</td>\n",
       "      <td>1584</td>\n",
       "      <td>2.800493</td>\n",
       "    </tr>\n",
       "    <tr>\n",
       "      <th>15</th>\n",
       "      <td>27822</td>\n",
       "      <td>Савченков Михаил Владимирович</td>\n",
       "      <td>3215</td>\n",
       "      <td>2.785101</td>\n",
       "    </tr>\n",
       "    <tr>\n",
       "      <th>16</th>\n",
       "      <td>139511</td>\n",
       "      <td>Ганущак Михаил Сергеевич</td>\n",
       "      <td>24</td>\n",
       "      <td>2.782251</td>\n",
       "    </tr>\n",
       "    <tr>\n",
       "      <th>17</th>\n",
       "      <td>190420</td>\n",
       "      <td>Толстой Иван Михайлович</td>\n",
       "      <td>36</td>\n",
       "      <td>2.781925</td>\n",
       "    </tr>\n",
       "    <tr>\n",
       "      <th>18</th>\n",
       "      <td>201084</td>\n",
       "      <td>Юрченко Кирилл Сергеевич</td>\n",
       "      <td>44</td>\n",
       "      <td>2.781631</td>\n",
       "    </tr>\n",
       "    <tr>\n",
       "      <th>19</th>\n",
       "      <td>190096</td>\n",
       "      <td>Мартьянов Дмитрий Михайлович</td>\n",
       "      <td>24</td>\n",
       "      <td>2.779840</td>\n",
       "    </tr>\n",
       "  </tbody>\n",
       "</table>\n",
       "</div>"
      ],
      "text/plain": [
       "    player_id                        player_name  total_questions    rating\n",
       "0      214337      Заворотный Юрий Александрович               36  3.748598\n",
       "1       24342         Пахомов Денис Владимирович               69  3.271390\n",
       "2      199961     Смирнов Владимир Александрович               36  3.184392\n",
       "3         707       Александрова Елена Андреевна               48  3.121824\n",
       "4      197183            Берхман Евгений Юрьевич               36  3.118120\n",
       "5      173433         Кольцов Кирилл Анатольевич               35  3.091249\n",
       "6      219357             Шашин Степан Андреевич               36  3.026821\n",
       "7      210958                   Ипполитов Денис                36  2.933783\n",
       "8      191331                Чигулина Екатерина                35  2.905864\n",
       "9       28015       Сальников Алексей Алексеевич               39  2.875501\n",
       "10     202410                Подюкова Валентина                36  2.863678\n",
       "11      28751            Семушин Иван Николаевич             3774  2.847294\n",
       "12      27403            Руссо Максим Михайлович             2178  2.842289\n",
       "13       4270     Брутер Александра Владимировна             2692  2.823134\n",
       "14      20691  Мереминский Станислав Григорьевич             1584  2.800493\n",
       "15      27822      Савченков Михаил Владимирович             3215  2.785101\n",
       "16     139511           Ганущак Михаил Сергеевич               24  2.782251\n",
       "17     190420            Толстой Иван Михайлович               36  2.781925\n",
       "18     201084           Юрченко Кирилл Сергеевич               44  2.781631\n",
       "19     190096       Мартьянов Дмитрий Михайлович               24  2.779840"
      ]
     },
     "execution_count": 48,
     "metadata": {},
     "output_type": "execute_result"
    }
   ],
   "source": [
    "players.sort_values('rating', ascending=False).reset_index(drop=True).head(20)"
   ]
  },
  {
   "cell_type": "markdown",
   "metadata": {},
   "source": [
    "Рейтинг с грубой отсечкой по числу вопросов"
   ]
  },
  {
   "cell_type": "code",
   "execution_count": 49,
   "metadata": {},
   "outputs": [
    {
     "data": {
      "text/html": [
       "<div>\n",
       "<style scoped>\n",
       "    .dataframe tbody tr th:only-of-type {\n",
       "        vertical-align: middle;\n",
       "    }\n",
       "\n",
       "    .dataframe tbody tr th {\n",
       "        vertical-align: top;\n",
       "    }\n",
       "\n",
       "    .dataframe thead th {\n",
       "        text-align: right;\n",
       "    }\n",
       "</style>\n",
       "<table border=\"1\" class=\"dataframe\">\n",
       "  <thead>\n",
       "    <tr style=\"text-align: right;\">\n",
       "      <th></th>\n",
       "      <th>player_id</th>\n",
       "      <th>player_name</th>\n",
       "      <th>total_questions</th>\n",
       "      <th>rating</th>\n",
       "    </tr>\n",
       "  </thead>\n",
       "  <tbody>\n",
       "    <tr>\n",
       "      <th>0</th>\n",
       "      <td>28751</td>\n",
       "      <td>Семушин Иван Николаевич</td>\n",
       "      <td>3774</td>\n",
       "      <td>2.847294</td>\n",
       "    </tr>\n",
       "    <tr>\n",
       "      <th>1</th>\n",
       "      <td>27403</td>\n",
       "      <td>Руссо Максим Михайлович</td>\n",
       "      <td>2178</td>\n",
       "      <td>2.842289</td>\n",
       "    </tr>\n",
       "    <tr>\n",
       "      <th>2</th>\n",
       "      <td>4270</td>\n",
       "      <td>Брутер Александра Владимировна</td>\n",
       "      <td>2692</td>\n",
       "      <td>2.823134</td>\n",
       "    </tr>\n",
       "    <tr>\n",
       "      <th>3</th>\n",
       "      <td>20691</td>\n",
       "      <td>Мереминский Станислав Григорьевич</td>\n",
       "      <td>1584</td>\n",
       "      <td>2.800493</td>\n",
       "    </tr>\n",
       "    <tr>\n",
       "      <th>4</th>\n",
       "      <td>27822</td>\n",
       "      <td>Савченков Михаил Владимирович</td>\n",
       "      <td>3215</td>\n",
       "      <td>2.785101</td>\n",
       "    </tr>\n",
       "    <tr>\n",
       "      <th>5</th>\n",
       "      <td>30152</td>\n",
       "      <td>Сорожкин Артём Сергеевич</td>\n",
       "      <td>4849</td>\n",
       "      <td>2.772407</td>\n",
       "    </tr>\n",
       "    <tr>\n",
       "      <th>6</th>\n",
       "      <td>30270</td>\n",
       "      <td>Спешков Сергей Леонидович</td>\n",
       "      <td>3737</td>\n",
       "      <td>2.686959</td>\n",
       "    </tr>\n",
       "    <tr>\n",
       "      <th>7</th>\n",
       "      <td>22935</td>\n",
       "      <td>Новиков Илья Сергеевич</td>\n",
       "      <td>1589</td>\n",
       "      <td>2.659249</td>\n",
       "    </tr>\n",
       "    <tr>\n",
       "      <th>8</th>\n",
       "      <td>16332</td>\n",
       "      <td>Крапиль Николай Валерьевич</td>\n",
       "      <td>1652</td>\n",
       "      <td>2.636930</td>\n",
       "    </tr>\n",
       "    <tr>\n",
       "      <th>9</th>\n",
       "      <td>18332</td>\n",
       "      <td>Либер Александр Витальевич</td>\n",
       "      <td>3789</td>\n",
       "      <td>2.636742</td>\n",
       "    </tr>\n",
       "    <tr>\n",
       "      <th>10</th>\n",
       "      <td>22799</td>\n",
       "      <td>Николенко Сергей Игоревич</td>\n",
       "      <td>2221</td>\n",
       "      <td>2.606368</td>\n",
       "    </tr>\n",
       "    <tr>\n",
       "      <th>11</th>\n",
       "      <td>16837</td>\n",
       "      <td>Кудряшова Наталья Алексеевна</td>\n",
       "      <td>2627</td>\n",
       "      <td>2.589094</td>\n",
       "    </tr>\n",
       "    <tr>\n",
       "      <th>12</th>\n",
       "      <td>505</td>\n",
       "      <td>Айзятулова Иделия Мукадясовна</td>\n",
       "      <td>2174</td>\n",
       "      <td>2.588456</td>\n",
       "    </tr>\n",
       "    <tr>\n",
       "      <th>13</th>\n",
       "      <td>20207</td>\n",
       "      <td>Матвеев Михаил Леонидович</td>\n",
       "      <td>1025</td>\n",
       "      <td>2.583556</td>\n",
       "    </tr>\n",
       "    <tr>\n",
       "      <th>14</th>\n",
       "      <td>6212</td>\n",
       "      <td>Выменец Юрий Яковлевич</td>\n",
       "      <td>3308</td>\n",
       "      <td>2.574199</td>\n",
       "    </tr>\n",
       "    <tr>\n",
       "      <th>15</th>\n",
       "      <td>13689</td>\n",
       "      <td>Карякин Дмитрий Александрович</td>\n",
       "      <td>1304</td>\n",
       "      <td>2.559341</td>\n",
       "    </tr>\n",
       "    <tr>\n",
       "      <th>16</th>\n",
       "      <td>74382</td>\n",
       "      <td>Новосёлов Михаил Андреевич</td>\n",
       "      <td>2959</td>\n",
       "      <td>2.549676</td>\n",
       "    </tr>\n",
       "    <tr>\n",
       "      <th>17</th>\n",
       "      <td>21698</td>\n",
       "      <td>Мосягин Александр Владимирович</td>\n",
       "      <td>1112</td>\n",
       "      <td>2.546392</td>\n",
       "    </tr>\n",
       "    <tr>\n",
       "      <th>18</th>\n",
       "      <td>1585</td>\n",
       "      <td>Архангельская Юлия Сергеевна</td>\n",
       "      <td>1614</td>\n",
       "      <td>2.543711</td>\n",
       "    </tr>\n",
       "    <tr>\n",
       "      <th>19</th>\n",
       "      <td>20001</td>\n",
       "      <td>Мартынов Александр Ефимович</td>\n",
       "      <td>1512</td>\n",
       "      <td>2.540376</td>\n",
       "    </tr>\n",
       "  </tbody>\n",
       "</table>\n",
       "</div>"
      ],
      "text/plain": [
       "    player_id                        player_name  total_questions    rating\n",
       "0       28751            Семушин Иван Николаевич             3774  2.847294\n",
       "1       27403            Руссо Максим Михайлович             2178  2.842289\n",
       "2        4270     Брутер Александра Владимировна             2692  2.823134\n",
       "3       20691  Мереминский Станислав Григорьевич             1584  2.800493\n",
       "4       27822      Савченков Михаил Владимирович             3215  2.785101\n",
       "5       30152           Сорожкин Артём Сергеевич             4849  2.772407\n",
       "6       30270          Спешков Сергей Леонидович             3737  2.686959\n",
       "7       22935             Новиков Илья Сергеевич             1589  2.659249\n",
       "8       16332         Крапиль Николай Валерьевич             1652  2.636930\n",
       "9       18332         Либер Александр Витальевич             3789  2.636742\n",
       "10      22799          Николенко Сергей Игоревич             2221  2.606368\n",
       "11      16837       Кудряшова Наталья Алексеевна             2627  2.589094\n",
       "12        505      Айзятулова Иделия Мукадясовна             2174  2.588456\n",
       "13      20207          Матвеев Михаил Леонидович             1025  2.583556\n",
       "14       6212             Выменец Юрий Яковлевич             3308  2.574199\n",
       "15      13689      Карякин Дмитрий Александрович             1304  2.559341\n",
       "16      74382         Новосёлов Михаил Андреевич             2959  2.549676\n",
       "17      21698     Мосягин Александр Владимирович             1112  2.546392\n",
       "18       1585       Архангельская Юлия Сергеевна             1614  2.543711\n",
       "19      20001        Мартынов Александр Ефимович             1512  2.540376"
      ]
     },
     "execution_count": 49,
     "metadata": {},
     "output_type": "execute_result"
    }
   ],
   "source": [
    "players[players.total_questions > 750].sort_values('rating', ascending=False).reset_index(drop=True).head(20)"
   ]
  },
  {
   "cell_type": "markdown",
   "metadata": {},
   "source": [
    "В целом выглядит хорошо. Что ещё можно сделать?\n",
    "1. Выбросить игроков, которые мало играли, и переобучить модель. Не самый лучший вариант: так мы теряем информацию как о самих удалённых игроках (не сможем добавить их в рейтинг-лист или сравнить с кем-либо, корректно оценить силу команды, если такие игроки там будут), так и внесём смещения в выборку (ответы игроков зависят от ответов других членов команды)\n",
    "2. Вспомнить теорему Байеса. Текущая модель не содержит априорной информации и просто оценивает силы игроков по данным. Ответил на один вопрос из одного? У нас новый чемпион! На самом же деле у нас есть представление, что случайно взятый игрок *скорее всего* будет показывать средние результаты. Как внести это знание в нашу модель? Добавить регуляризацию. Можно просто добавить L2-регуляризатор на *силы игроков*. Тогда каждый игрок получит базовый штраф, пропорциональный оценке его силы, что играет роль априорного предположения. За каждый верный или ошибочный ответ этот параметр получает обновление. Если игрок лишь несколько раз хорошо себя показал, это внесёт небольшой вклад (немного сместит априорное распределение), но если игрок регулярно показывает хорошие результаты, параметр его силы получит много обновлений, и такие байесовские свидетельства перевесят априорное распределение."
   ]
  },
  {
   "cell_type": "code",
   "execution_count": 137,
   "metadata": {},
   "outputs": [],
   "source": [
    "class SoftLabelClassifier(object):\n",
    "    \"\"\"Классификатор, допускающий \"мягкие\" (из интервала [0,1]) целевые переменные.\n",
    "    Параметр reg_mask - маска регуляризации. Перед вычислением L2-нормы веса модели будут\n",
    "    домножены на эту маску.\n",
    "    Параметр alpha - коэффициент L2-регуляризации\"\"\"\n",
    "    \n",
    "    def __init__(self, coef_, intercept_, reg_mask, lr=1.5, alpha=0.0001, epochs=25):\n",
    "        n_features = coef_.shape[1]\n",
    "        self.model = LogisticModel(n_features)\n",
    "        self.model.linear.weight = torch.nn.parameter.Parameter(torch.as_tensor(model.coef_, dtype=torch.float32))\n",
    "        self.model.linear.bias.data.fill_(intercept_[0])\n",
    "        self.criterion = torch.nn.BCELoss()\n",
    "        self.optimizer = torch.optim.Adam(self.model.parameters(), lr=lr, amsgrad=True)\n",
    "        self.epochs = epochs\n",
    "        self.alpha = alpha\n",
    "        self.reg_mask = reg_mask\n",
    "    \n",
    "    def get_reg_loss(self):\n",
    "        return self.alpha * torch.norm(self.model.linear.weight * self.reg_mask, 2)\n",
    "    \n",
    "    def fit(self, X, y, with_tqdm=True):\n",
    "        X, y = to_tensors(X, y)\n",
    "        y = y.unsqueeze(1)\n",
    "        epochs = range(self.epochs)\n",
    "        if with_tqdm:\n",
    "            epochs = tqdm(epochs, leave=True, position=0, desc='Epoch')\n",
    "        for epoch in epochs:\n",
    "            self.model.train()\n",
    "            self.optimizer.zero_grad()\n",
    "            y_pred = self.model(X)\n",
    "            loss = self.criterion(y_pred, y) + self.get_reg_loss()\n",
    "            loss.backward()\n",
    "            self.optimizer.step()\n",
    "        return self\n",
    "    \n",
    "    def predict_proba(self, X):\n",
    "        X, _ = to_tensors(X, None)\n",
    "        self.model.eval()\n",
    "        with torch.no_grad():\n",
    "            return self.model(X).detach().numpy()\n",
    "    \n",
    "    def get_state(self):\n",
    "        return deepcopy(self.model.state_dict())\n",
    "    \n",
    "    def set_state(self, state):\n",
    "        self.model.load_state_dict(deepcopy(state))\n",
    "    \n",
    "    @property\n",
    "    def coef_(self): \n",
    "        return self.model.linear.weight.detach().numpy()\n",
    "    \n",
    "    @property\n",
    "    def intercept_(self): \n",
    "        return np.array([self.model.linear.bias.item()])"
   ]
  },
  {
   "cell_type": "code",
   "execution_count": 127,
   "metadata": {},
   "outputs": [],
   "source": [
    "reg_mask = np.zeros(train_X.shape[1], dtype=np.float32)\n",
    "reg_mask[-players.shape[0]:] = 1 # Будем считать L2-норму по силам игроков\n",
    "reg_mask = torch.as_tensor(reg_mask) = torch.as_tensor(reg_mask)"
   ]
  },
  {
   "cell_type": "code",
   "execution_count": 135,
   "metadata": {
    "scrolled": true
   },
   "outputs": [
    {
     "name": "stderr",
     "output_type": "stream",
     "text": [
      "\r",
      "EM iter:   0%|          | 0/2 [00:00<?, ?it/s]"
     ]
    },
    {
     "name": "stdout",
     "output_type": "stream",
     "text": [
      "Iteration #0\n",
      "E-step\n",
      "M-step\n"
     ]
    },
    {
     "name": "stderr",
     "output_type": "stream",
     "text": [
      "Epoch: 100%|██████████| 25/25 [00:49<00:00,  1.89s/it]\n"
     ]
    },
    {
     "name": "stdout",
     "output_type": "stream",
     "text": [
      "Evaluation\n"
     ]
    },
    {
     "name": "stderr",
     "output_type": "stream",
     "text": [
      "\r",
      "EM iter:  50%|█████     | 1/2 [01:20<01:20, 80.34s/it]"
     ]
    },
    {
     "name": "stdout",
     "output_type": "stream",
     "text": [
      "Spearman's R: 0.7412081368773528\tKendall's Tau: 0.5882812094686379\n",
      "\n",
      "\n",
      "Iteration #1\n",
      "E-step\n",
      "M-step\n"
     ]
    },
    {
     "name": "stderr",
     "output_type": "stream",
     "text": [
      "Epoch: 100%|██████████| 25/25 [00:47<00:00,  1.90s/it]\n"
     ]
    },
    {
     "name": "stdout",
     "output_type": "stream",
     "text": [
      "Evaluation\n"
     ]
    },
    {
     "name": "stderr",
     "output_type": "stream",
     "text": [
      "\r",
      "EM iter: 100%|██████████| 2/2 [02:39<00:00, 79.84s/it]"
     ]
    },
    {
     "name": "stdout",
     "output_type": "stream",
     "text": [
      "Spearman's R: 0.7180930831571098\tKendall's Tau: 0.5670585637374513\n",
      "\n",
      "\n"
     ]
    },
    {
     "name": "stderr",
     "output_type": "stream",
     "text": [
      "\n"
     ]
    }
   ],
   "source": [
    "reg_em_model, _ = em_algo(train_X, train_y, train_prediction_meta, test_results,\n",
    "                                   init_model=model, n_iter=2, reg_mask=reg_mask, alpha=0.0001)"
   ]
  },
  {
   "cell_type": "code",
   "execution_count": 136,
   "metadata": {},
   "outputs": [
    {
     "data": {
      "text/html": [
       "<div>\n",
       "<style scoped>\n",
       "    .dataframe tbody tr th:only-of-type {\n",
       "        vertical-align: middle;\n",
       "    }\n",
       "\n",
       "    .dataframe tbody tr th {\n",
       "        vertical-align: top;\n",
       "    }\n",
       "\n",
       "    .dataframe thead th {\n",
       "        text-align: right;\n",
       "    }\n",
       "</style>\n",
       "<table border=\"1\" class=\"dataframe\">\n",
       "  <thead>\n",
       "    <tr style=\"text-align: right;\">\n",
       "      <th></th>\n",
       "      <th>player_id</th>\n",
       "      <th>player_name</th>\n",
       "      <th>total_questions</th>\n",
       "      <th>rating</th>\n",
       "    </tr>\n",
       "  </thead>\n",
       "  <tbody>\n",
       "    <tr>\n",
       "      <th>0</th>\n",
       "      <td>27403</td>\n",
       "      <td>Руссо Максим Михайлович</td>\n",
       "      <td>2178</td>\n",
       "      <td>2.954044</td>\n",
       "    </tr>\n",
       "    <tr>\n",
       "      <th>1</th>\n",
       "      <td>4270</td>\n",
       "      <td>Брутер Александра Владимировна</td>\n",
       "      <td>2692</td>\n",
       "      <td>2.808640</td>\n",
       "    </tr>\n",
       "    <tr>\n",
       "      <th>2</th>\n",
       "      <td>28751</td>\n",
       "      <td>Семушин Иван Николаевич</td>\n",
       "      <td>3774</td>\n",
       "      <td>2.799256</td>\n",
       "    </tr>\n",
       "    <tr>\n",
       "      <th>3</th>\n",
       "      <td>20691</td>\n",
       "      <td>Мереминский Станислав Григорьевич</td>\n",
       "      <td>1584</td>\n",
       "      <td>2.759532</td>\n",
       "    </tr>\n",
       "    <tr>\n",
       "      <th>4</th>\n",
       "      <td>27822</td>\n",
       "      <td>Савченков Михаил Владимирович</td>\n",
       "      <td>3215</td>\n",
       "      <td>2.758814</td>\n",
       "    </tr>\n",
       "    <tr>\n",
       "      <th>5</th>\n",
       "      <td>30152</td>\n",
       "      <td>Сорожкин Артём Сергеевич</td>\n",
       "      <td>4849</td>\n",
       "      <td>2.715904</td>\n",
       "    </tr>\n",
       "    <tr>\n",
       "      <th>6</th>\n",
       "      <td>30270</td>\n",
       "      <td>Спешков Сергей Леонидович</td>\n",
       "      <td>3737</td>\n",
       "      <td>2.694834</td>\n",
       "    </tr>\n",
       "    <tr>\n",
       "      <th>7</th>\n",
       "      <td>22935</td>\n",
       "      <td>Новиков Илья Сергеевич</td>\n",
       "      <td>1589</td>\n",
       "      <td>2.653643</td>\n",
       "    </tr>\n",
       "    <tr>\n",
       "      <th>8</th>\n",
       "      <td>22799</td>\n",
       "      <td>Николенко Сергей Игоревич</td>\n",
       "      <td>2221</td>\n",
       "      <td>2.652526</td>\n",
       "    </tr>\n",
       "    <tr>\n",
       "      <th>9</th>\n",
       "      <td>34328</td>\n",
       "      <td>Царёв Михаил Сергеевич</td>\n",
       "      <td>501</td>\n",
       "      <td>2.639103</td>\n",
       "    </tr>\n",
       "    <tr>\n",
       "      <th>10</th>\n",
       "      <td>21698</td>\n",
       "      <td>Мосягин Александр Владимирович</td>\n",
       "      <td>1112</td>\n",
       "      <td>2.615668</td>\n",
       "    </tr>\n",
       "    <tr>\n",
       "      <th>11</th>\n",
       "      <td>16332</td>\n",
       "      <td>Крапиль Николай Валерьевич</td>\n",
       "      <td>1652</td>\n",
       "      <td>2.611556</td>\n",
       "    </tr>\n",
       "    <tr>\n",
       "      <th>12</th>\n",
       "      <td>18036</td>\n",
       "      <td>Левандовский Михаил Ильич</td>\n",
       "      <td>1457</td>\n",
       "      <td>2.602242</td>\n",
       "    </tr>\n",
       "    <tr>\n",
       "      <th>13</th>\n",
       "      <td>9061</td>\n",
       "      <td>Дёмин Евгений Васильевич</td>\n",
       "      <td>537</td>\n",
       "      <td>2.600425</td>\n",
       "    </tr>\n",
       "    <tr>\n",
       "      <th>14</th>\n",
       "      <td>20207</td>\n",
       "      <td>Матвеев Михаил Леонидович</td>\n",
       "      <td>1025</td>\n",
       "      <td>2.594572</td>\n",
       "    </tr>\n",
       "    <tr>\n",
       "      <th>15</th>\n",
       "      <td>13689</td>\n",
       "      <td>Карякин Дмитрий Александрович</td>\n",
       "      <td>1304</td>\n",
       "      <td>2.593552</td>\n",
       "    </tr>\n",
       "    <tr>\n",
       "      <th>16</th>\n",
       "      <td>1585</td>\n",
       "      <td>Архангельская Юлия Сергеевна</td>\n",
       "      <td>1614</td>\n",
       "      <td>2.584348</td>\n",
       "    </tr>\n",
       "    <tr>\n",
       "      <th>17</th>\n",
       "      <td>505</td>\n",
       "      <td>Айзятулова Иделия Мукадясовна</td>\n",
       "      <td>2174</td>\n",
       "      <td>2.565235</td>\n",
       "    </tr>\n",
       "    <tr>\n",
       "      <th>18</th>\n",
       "      <td>16837</td>\n",
       "      <td>Кудряшова Наталья Алексеевна</td>\n",
       "      <td>2627</td>\n",
       "      <td>2.563006</td>\n",
       "    </tr>\n",
       "    <tr>\n",
       "      <th>19</th>\n",
       "      <td>18194</td>\n",
       "      <td>Кленницкая Мария Владимировна</td>\n",
       "      <td>1172</td>\n",
       "      <td>2.560226</td>\n",
       "    </tr>\n",
       "  </tbody>\n",
       "</table>\n",
       "</div>"
      ],
      "text/plain": [
       "    player_id                        player_name  total_questions    rating\n",
       "0       27403            Руссо Максим Михайлович             2178  2.954044\n",
       "1        4270     Брутер Александра Владимировна             2692  2.808640\n",
       "2       28751            Семушин Иван Николаевич             3774  2.799256\n",
       "3       20691  Мереминский Станислав Григорьевич             1584  2.759532\n",
       "4       27822      Савченков Михаил Владимирович             3215  2.758814\n",
       "5       30152           Сорожкин Артём Сергеевич             4849  2.715904\n",
       "6       30270          Спешков Сергей Леонидович             3737  2.694834\n",
       "7       22935             Новиков Илья Сергеевич             1589  2.653643\n",
       "8       22799          Николенко Сергей Игоревич             2221  2.652526\n",
       "9       34328             Царёв Михаил Сергеевич              501  2.639103\n",
       "10      21698     Мосягин Александр Владимирович             1112  2.615668\n",
       "11      16332         Крапиль Николай Валерьевич             1652  2.611556\n",
       "12      18036          Левандовский Михаил Ильич             1457  2.602242\n",
       "13       9061           Дёмин Евгений Васильевич              537  2.600425\n",
       "14      20207          Матвеев Михаил Леонидович             1025  2.594572\n",
       "15      13689      Карякин Дмитрий Александрович             1304  2.593552\n",
       "16       1585       Архангельская Юлия Сергеевна             1614  2.584348\n",
       "17        505      Айзятулова Иделия Мукадясовна             2174  2.565235\n",
       "18      16837       Кудряшова Наталья Алексеевна             2627  2.563006\n",
       "19      18194      Кленницкая Мария Владимировна             1172  2.560226"
      ]
     },
     "execution_count": 136,
     "metadata": {},
     "output_type": "execute_result"
    }
   ],
   "source": [
    "reg_player_ratings = reg_em_model.coef_[0, qt.max_token+1:]\n",
    "reg_players = players.copy()\n",
    "reg_players['rating'] = reg_player_ratings\n",
    "reg_players.sort_values('rating', ascending=False).reset_index(drop=True).head(20)"
   ]
  },
  {
   "cell_type": "markdown",
   "metadata": {},
   "source": [
    "Качество модели на тестовой выборке немного просело, зато рейтинг-лист выглядит довольно неплохо безо всяких отсечек.  "
   ]
  },
  {
   "cell_type": "markdown",
   "metadata": {},
   "source": [
    "## Изменение рейтинга игроков со временем\n",
    "Первое, что приходит в голову - это добавить каждому обучающему примеру вес, убывающий по мере отдаления даты примера от текущего момента"
   ]
  }
 ],
 "metadata": {
  "hide_input": false,
  "kernelspec": {
   "display_name": "Python 3",
   "language": "python",
   "name": "python3"
  },
  "language_info": {
   "codemirror_mode": {
    "name": "ipython",
    "version": 3
   },
   "file_extension": ".py",
   "mimetype": "text/x-python",
   "name": "python",
   "nbconvert_exporter": "python",
   "pygments_lexer": "ipython3",
   "version": "3.6.8"
  },
  "varInspector": {
   "cols": {
    "lenName": 16,
    "lenType": 16,
    "lenVar": 40
   },
   "kernels_config": {
    "python": {
     "delete_cmd_postfix": "",
     "delete_cmd_prefix": "del ",
     "library": "var_list.py",
     "varRefreshCmd": "print(var_dic_list())"
    },
    "r": {
     "delete_cmd_postfix": ") ",
     "delete_cmd_prefix": "rm(",
     "library": "var_list.r",
     "varRefreshCmd": "cat(var_dic_list()) "
    }
   },
   "types_to_exclude": [
    "module",
    "function",
    "builtin_function_or_method",
    "instance",
    "_Feature"
   ],
   "window_display": false
  },
  "widgets": {
   "application/vnd.jupyter.widget-state+json": {
    "state": {},
    "version_major": 2,
    "version_minor": 0
   }
  }
 },
 "nbformat": 4,
 "nbformat_minor": 2
}
