{
 "cells": [
  {
   "cell_type": "markdown",
   "metadata": {},
   "source": [
    "# Четвёртое домашнее задание\n",
    "https://docs.google.com/document/d/1z35Z-xctrrYO8r6KD10w8daKCLEMkCBQW9iNk2nEskk"
   ]
  },
  {
   "cell_type": "code",
   "execution_count": 1,
   "metadata": {},
   "outputs": [],
   "source": [
    "import numpy as np\n",
    "import pandas as pd\n",
    "import re\n",
    "\n",
    "import matplotlib.pyplot as plt\n",
    "%matplotlib inline"
   ]
  },
  {
   "cell_type": "markdown",
   "metadata": {},
   "source": [
    "## Загружаем данные"
   ]
  },
  {
   "cell_type": "code",
   "execution_count": 2,
   "metadata": {},
   "outputs": [],
   "source": [
    "with open('data/AnnaKarenina.txt', 'r') as f:\n",
    "    karenina = f.read()\n",
    "    \n",
    "with open('data/WarAndPeace.txt', 'r') as f:\n",
    "    wap = f.read()\n",
    "    \n",
    "with open('data/WarAndPeaceEng.txt', 'r', encoding='utf-8-sig') as f:\n",
    "    wap_en = f.read()"
   ]
  },
  {
   "cell_type": "code",
   "execution_count": 3,
   "metadata": {},
   "outputs": [
    {
     "data": {
      "text/plain": [
       "(1813200, 'Annotation\\n\\n\\n«Анна Каренина», один из самых знамен')"
      ]
     },
     "execution_count": 3,
     "metadata": {},
     "output_type": "execute_result"
    }
   ],
   "source": [
    "len(karenina), karenina[:50]"
   ]
  },
  {
   "cell_type": "code",
   "execution_count": 4,
   "metadata": {},
   "outputs": [
    {
     "data": {
      "text/plain": [
       "(717873, 'Annotation\\n\\n\\n\\t\"Война и мир\" – самый известный рома')"
      ]
     },
     "execution_count": 4,
     "metadata": {},
     "output_type": "execute_result"
    }
   ],
   "source": [
    "len(wap), wap[:50]"
   ]
  },
  {
   "cell_type": "code",
   "execution_count": 5,
   "metadata": {},
   "outputs": [
    {
     "data": {
      "text/plain": [
       "(3226614, 'The Project Gutenberg EBook of War and Peace, by L')"
      ]
     },
     "execution_count": 5,
     "metadata": {},
     "output_type": "execute_result"
    }
   ],
   "source": [
    "len(wap_en), wap_en[:50]"
   ]
  },
  {
   "cell_type": "code",
   "execution_count": 6,
   "metadata": {},
   "outputs": [],
   "source": [
    "whitespaces = re.compile(r'\\s+')\n",
    "ru_deny = re.compile(r'[^а-яё ]')\n",
    "en_deny = re.compile(r'[^a-z ]')\n",
    "\n",
    "def cleanse(text, lang):\n",
    "    text = text.lower()\n",
    "    text = whitespaces.sub(' ', text)\n",
    "    if lang == 'ru':\n",
    "        text = ru_deny.sub(' ', text)\n",
    "    elif lang == 'en':\n",
    "        text = en_deny.sub(' ', text)\n",
    "    else:\n",
    "        raise ValueError(f'Language \"{lang}\" is not supported')\n",
    "    text = whitespaces.sub(' ', text)\n",
    "    return text"
   ]
  },
  {
   "cell_type": "code",
   "execution_count": 7,
   "metadata": {},
   "outputs": [
    {
     "data": {
      "text/plain": [
       "(1695003, ' анна каренина один из самых знаменитых романов ль')"
      ]
     },
     "execution_count": 7,
     "metadata": {},
     "output_type": "execute_result"
    }
   ],
   "source": [
    "karenina = cleanse(karenina, 'ru')\n",
    "len(karenina), karenina[:50]"
   ]
  },
  {
   "cell_type": "code",
   "execution_count": 8,
   "metadata": {},
   "outputs": [
    {
     "data": {
      "text/plain": [
       "(643550, ' война и мир самый известный роман льва николаевич')"
      ]
     },
     "execution_count": 8,
     "metadata": {},
     "output_type": "execute_result"
    }
   ],
   "source": [
    "wap = cleanse(wap, 'ru')\n",
    "len(wap), wap[:50]"
   ]
  },
  {
   "cell_type": "code",
   "execution_count": 9,
   "metadata": {},
   "outputs": [
    {
     "data": {
      "text/plain": [
       "(3108249, 'the project gutenberg ebook of war and peace by le')"
      ]
     },
     "execution_count": 9,
     "metadata": {},
     "output_type": "execute_result"
    }
   ],
   "source": [
    "wap_en = cleanse(wap_en, 'en')\n",
    "len(wap_en), wap_en[:50]"
   ]
  },
  {
   "cell_type": "markdown",
   "metadata": {},
   "source": [
    "## Подсчитываем статистики"
   ]
  },
  {
   "cell_type": "code",
   "execution_count": 10,
   "metadata": {},
   "outputs": [],
   "source": [
    "from collections.abc import Iterable\n",
    "from collections import Counter\n",
    "from nltk.util import ngrams\n",
    "import itertools\n",
    "\n",
    "class Statistics:\n",
    "    def __init__(self):\n",
    "        self.char_counter = Counter()\n",
    "        self.bigram_counter = Counter()\n",
    "        self.chars = []\n",
    "        self.bigrams = []\n",
    "        self.char_probas = []\n",
    "        self.bigram_probas = []\n",
    "        self.char_total_count = 0\n",
    "        self.bigram_total_count = 0\n",
    "    \n",
    "    def fit(self, corpora):\n",
    "        if isinstance(corpora, Iterable) and type(corpora) is not str:\n",
    "            corpora = ' '.join(corpora)\n",
    "        \n",
    "        self.char_counter.update(corpora)\n",
    "        self.chars, self.char_probas = zip(*self.char_counter.most_common())\n",
    "        self.char_probas = np.array(self.char_probas, dtype=np.float)\n",
    "        self.char_total_count = self.char_probas.sum()\n",
    "        self.char_probas /= self.char_total_count\n",
    "        \n",
    "        bigrams = ngrams(corpora, 2)\n",
    "        self.bigram_counter.update(bigrams)\n",
    "        self.bigrams, self.bigram_probas = zip(*self.bigram_counter.most_common())\n",
    "        self.bigram_probas = np.array(self.bigram_probas, dtype=np.float)\n",
    "        self.bigram_total_count = self.bigram_probas.sum()\n",
    "        self.bigram_probas /= self.bigram_total_count\n",
    "        \n",
    "        return self\n",
    "    \n",
    "    def print_chars(self, top=None):\n",
    "        for c, p in itertools.islice(zip(self.chars, self.char_probas), top):\n",
    "            print(f'\"{c}\" {p}')\n",
    "    \n",
    "    def print_bigrams(self, top=20):\n",
    "        for b, p in itertools.islice(zip(self.bigrams, self.bigram_probas), top):\n",
    "            print(f'\"{b}\" {p}')\n",
    "    \n",
    "    def get_char_proba(self, char):\n",
    "        return self.char_counter[char] / self.char_total_count\n",
    "    \n",
    "    def get_bigram_proba(self, bigram):\n",
    "        return self.bigram_counter[bigram] / self.bigram_total_count"
   ]
  },
  {
   "cell_type": "code",
   "execution_count": 11,
   "metadata": {},
   "outputs": [],
   "source": [
    "ru_stat = Statistics().fit([karenina, wap])"
   ]
  },
  {
   "cell_type": "code",
   "execution_count": 12,
   "metadata": {},
   "outputs": [
    {
     "name": "stdout",
     "output_type": "stream",
     "text": [
      "\" \" 0.1659072230104586\n",
      "\"о\" 0.09565355343515694\n",
      "\"е\" 0.07105630231330985\n",
      "\"а\" 0.06940742014082206\n",
      "\"н\" 0.05698307586653975\n",
      "\"и\" 0.05546675424215135\n",
      "\"т\" 0.04928601178334988\n",
      "\"с\" 0.04415207003986224\n",
      "\"л\" 0.041987912188472025\n",
      "\"в\" 0.039077994350354965\n",
      "\"р\" 0.03457649470570275\n",
      "\"к\" 0.028987143337293044\n",
      "\"д\" 0.02480977561347739\n",
      "\"м\" 0.024146117643637905\n",
      "\"у\" 0.022912876931642373\n",
      "\"п\" 0.02049984734156235\n",
      "\"я\" 0.01835364930636624\n",
      "\"ь\" 0.016399450258578592\n",
      "\"г\" 0.01576615293040058\n",
      "\"ы\" 0.015585271924445619\n",
      "\"б\" 0.014550872034599158\n",
      "\"з\" 0.013992834888567892\n",
      "\"ч\" 0.013344571046894791\n",
      "\"ж\" 0.009185163139273244\n",
      "\"й\" 0.009010696353387606\n",
      "\"ш\" 0.007337012529965098\n",
      "\"х\" 0.00666480226669985\n",
      "\"ю\" 0.005262653759545428\n",
      "\"э\" 0.0028427823347247916\n",
      "\"ц\" 0.002639237751191548\n",
      "\"щ\" 0.0023809584897333995\n",
      "\"ф\" 0.001278567867152095\n",
      "\"ъ\" 0.00029719219654538657\n",
      "\"ё\" 0.00019755797813520663\n"
     ]
    }
   ],
   "source": [
    "ru_stat.print_chars()"
   ]
  },
  {
   "cell_type": "code",
   "execution_count": 13,
   "metadata": {},
   "outputs": [
    {
     "name": "stdout",
     "output_type": "stream",
     "text": [
      "\"('о', ' ')\" 0.023191263999575808\n",
      "\"('а', ' ')\" 0.01808981878965326\n",
      "\"('и', ' ')\" 0.01798890168407558\n",
      "\"('е', ' ')\" 0.017958113414577304\n",
      "\"(' ', 'с')\" 0.015914542026629286\n",
      "\"(' ', 'н')\" 0.015911121107796147\n",
      "\"(' ', 'в')\" 0.014828400297106801\n",
      "\"(' ', 'п')\" 0.014375128551715527\n",
      "\"('т', 'о')\" 0.013959914528342955\n",
      "\"(' ', 'о')\" 0.013073041320850971\n",
      "\"('я', ' ')\" 0.011091474086753646\n",
      "\"(' ', 'и')\" 0.010936677509553985\n",
      "\"('н', 'а')\" 0.01067583244852693\n",
      "\"('с', 'т')\" 0.010400876097313168\n",
      "\"('ь', ' ')\" 0.010372225902085606\n",
      "\"(' ', 'к')\" 0.00957643465852602\n",
      "\"('н', 'е')\" 0.009460123418199204\n",
      "\"('а', 'л')\" 0.009320293360894537\n",
      "\"('н', 'о')\" 0.009260427281314557\n",
      "\"('г', 'о')\" 0.008465063652609113\n"
     ]
    }
   ],
   "source": [
    "ru_stat.print_bigrams()"
   ]
  },
  {
   "cell_type": "code",
   "execution_count": 14,
   "metadata": {},
   "outputs": [],
   "source": [
    "en_stat = Statistics().fit(wap_en)"
   ]
  },
  {
   "cell_type": "code",
   "execution_count": 15,
   "metadata": {},
   "outputs": [
    {
     "name": "stdout",
     "output_type": "stream",
     "text": [
      "\" \" 0.1853615974781943\n",
      "\"e\" 0.10141819397352014\n",
      "\"t\" 0.07284036767968075\n",
      "\"a\" 0.06621284202134385\n",
      "\"o\" 0.06205390880846419\n",
      "\"n\" 0.059252974906450546\n",
      "\"i\" 0.05607047569226275\n",
      "\"h\" 0.0538579759858364\n",
      "\"s\" 0.05240603310738618\n",
      "\"r\" 0.04775293099104994\n",
      "\"d\" 0.03805679660799376\n",
      "\"l\" 0.0310551053020527\n",
      "\"u\" 0.02105172397706876\n",
      "\"m\" 0.019833031394846424\n",
      "\"c\" 0.019825631730276436\n",
      "\"w\" 0.019048345225881197\n",
      "\"f\" 0.017661390705828266\n",
      "\"g\" 0.016512834074747552\n",
      "\"y\" 0.014884586144803714\n",
      "\"p\" 0.014649083776750189\n",
      "\"b\" 0.011150329333332046\n",
      "\"v\" 0.008714231067073456\n",
      "\"k\" 0.006573154209974812\n",
      "\"x\" 0.0014104404119489784\n",
      "\"j\" 0.0008281189827455908\n",
      "\"z\" 0.000768278217092646\n",
      "\"q\" 0.000749618193394416\n"
     ]
    }
   ],
   "source": [
    "en_stat.print_chars()"
   ]
  },
  {
   "cell_type": "code",
   "execution_count": 16,
   "metadata": {},
   "outputs": [
    {
     "name": "stdout",
     "output_type": "stream",
     "text": [
      "\"('e', ' ')\" 0.036247751144696305\n",
      "\"(' ', 't')\" 0.028703629826191474\n",
      "\"('d', ' ')\" 0.02457590256633319\n",
      "\"('h', 'e')\" 0.024208814740651324\n",
      "\"('t', 'h')\" 0.02372880156280966\n",
      "\"(' ', 'a')\" 0.022507856515953682\n",
      "\"('s', ' ')\" 0.020343614795215827\n",
      "\"('t', ' ')\" 0.019145190473861803\n",
      "\"(' ', 'h')\" 0.016088162849296452\n",
      "\"('i', 'n')\" 0.015580159626902358\n",
      "\"('a', 'n')\" 0.01470828582532668\n",
      "\"(' ', 's')\" 0.014616272575418693\n",
      "\"('e', 'r')\" 0.014214438487533813\n",
      "\"('n', ' ')\" 0.013736999106892371\n",
      "\"(' ', 'w')\" 0.013157894736842105\n",
      "\"('r', 'e')\" 0.01147430964324597\n",
      "\"('n', 'd')\" 0.01112234287611542\n",
      "\"(' ', 'o')\" 0.011017782364856343\n",
      "\"('r', ' ')\" 0.010461198720308032\n",
      "\"('y', ' ')\" 0.010281032916292393\n"
     ]
    }
   ],
   "source": [
    "en_stat.print_bigrams()"
   ]
  },
  {
   "cell_type": "markdown",
   "metadata": {},
   "source": [
    "## Шифруем тексты"
   ]
  },
  {
   "cell_type": "code",
   "execution_count": 17,
   "metadata": {},
   "outputs": [
    {
     "data": {
      "text/plain": [
       "' абвгдеёжзийклмнопрстуфхцчшщъыьэюя'"
      ]
     },
     "execution_count": 17,
     "metadata": {},
     "output_type": "execute_result"
    }
   ],
   "source": [
    "ru_alphabet = [' '] + list(map(chr, range(ord('а'), ord('я') + 1)))\n",
    "ru_alphabet.insert(7, 'ё')\n",
    "ru_alphabet = ''.join(ru_alphabet)\n",
    "ru_alphabet"
   ]
  },
  {
   "cell_type": "code",
   "execution_count": 18,
   "metadata": {},
   "outputs": [
    {
     "data": {
      "text/plain": [
       "' abcdefghijklmnopqrstuvwxyz'"
      ]
     },
     "execution_count": 18,
     "metadata": {},
     "output_type": "execute_result"
    }
   ],
   "source": [
    "en_alphabet = [' '] + list(map(chr, range(ord('a'), ord('z') + 1)))\n",
    "en_alphabet = ''.join(en_alphabet)\n",
    "en_alphabet"
   ]
  },
  {
   "cell_type": "code",
   "execution_count": 19,
   "metadata": {},
   "outputs": [],
   "source": [
    "class CaesarCipher:\n",
    "    def __init__(self, alphabet, k=4):\n",
    "        self.alphabet = alphabet\n",
    "        self.shifted_alphabet = alphabet[k:] + alphabet[:k]\n",
    "        self.translator = str.maketrans(self.alphabet, self.shifted_alphabet)\n",
    "        self.inverse_translator = str.maketrans(self.shifted_alphabet, self.alphabet)\n",
    "    \n",
    "    def encode(self, text):\n",
    "        return text.translate(self.translator)\n",
    "    \n",
    "    def decode(self, text):\n",
    "        return text.translate(self.inverse_translator)"
   ]
  },
  {
   "cell_type": "code",
   "execution_count": 20,
   "metadata": {},
   "outputs": [
    {
     "name": "stdout",
     "output_type": "stream",
     "text": [
      "гай юлий цезарь\n",
      "жднгбпмнгъилдф \n",
      "гай юлий цезарь\n"
     ]
    }
   ],
   "source": [
    "ru_cipher = CaesarCipher(ru_alphabet)\n",
    "ru_example = cleanse('Гай Юлий Цезарь', 'ru')\n",
    "print(ru_example)\n",
    "ru_example_encoded = ru_cipher.encode(ru_example)\n",
    "print(ru_example_encoded)\n",
    "ru_example_decoded = ru_cipher.decode(ru_example_encoded)\n",
    "print(ru_example_decoded)\n",
    "assert ru_example_decoded == ru_example"
   ]
  },
  {
   "cell_type": "code",
   "execution_count": 21,
   "metadata": {},
   "outputs": [
    {
     "name": "stdout",
     "output_type": "stream",
     "text": [
      "the quick brown fox jumps over the lazy dog\n",
      "xliduymgodfvs rdjsadnyqtwdszivdxlidpecbdhsk\n",
      "the quick brown fox jumps over the lazy dog\n"
     ]
    }
   ],
   "source": [
    "en_cipher = CaesarCipher(en_alphabet)\n",
    "en_example = cleanse('THE QUICK BROWN FOX JUMPS OVER THE LAZY DOG', 'en')\n",
    "print(en_example)\n",
    "en_example_encoded = en_cipher.encode(en_example)\n",
    "print(en_example_encoded)\n",
    "en_example_decoded = en_cipher.decode(en_example_encoded)\n",
    "print(en_example_decoded)\n",
    "assert en_example_decoded == en_example"
   ]
  },
  {
   "cell_type": "markdown",
   "metadata": {},
   "source": [
    "#### Зашифруем текст на русском\n",
    "Возьмём ту же \"Войну и мир\", да ещё и 100000 символов, потому что иначе совсем всё плохо"
   ]
  },
  {
   "cell_type": "code",
   "execution_count": 22,
   "metadata": {},
   "outputs": [
    {
     "data": {
      "text/plain": [
       "(100000, ' война и мир самый известный роман льва николаевич')"
      ]
     },
     "execution_count": 22,
     "metadata": {},
     "output_type": "execute_result"
    }
   ],
   "source": [
    "ru_text = cleanse(wap[:100000], 'ru')\n",
    "len(ru_text), ru_text[:50]"
   ]
  },
  {
   "cell_type": "code",
   "execution_count": 23,
   "metadata": {},
   "outputs": [
    {
     "data": {
      "text/plain": [
       "'гётнсдгмгрмфгхдрянгмлёихцсянгфтрдсгп ёдгсмотпдиёмы'"
      ]
     },
     "execution_count": 23,
     "metadata": {},
     "output_type": "execute_result"
    }
   ],
   "source": [
    "ru_text_encoded = ru_cipher.encode(ru_text)\n",
    "ru_text_encoded[:50]"
   ]
  },
  {
   "cell_type": "markdown",
   "metadata": {},
   "source": [
    "## Попробуем расшифровать, используя частоты букв"
   ]
  },
  {
   "cell_type": "code",
   "execution_count": 24,
   "metadata": {},
   "outputs": [],
   "source": [
    "class CharFrequencyDecoder:\n",
    "    def __init__(self, corpora_statistics):\n",
    "        self.corpora_statistics = corpora_statistics\n",
    "        \n",
    "        # Символы корпуса, отсортированные в порядке убывания частот\n",
    "        self.corpora_chars = ''.join(corpora_statistics.chars)\n",
    "    \n",
    "    def decode(self, text):\n",
    "        text_stat = Statistics().fit(text)\n",
    "        \n",
    "        # Символы текста, отсортированные в порядке убывания частот\n",
    "        text_chars = ''.join(text_stat.chars)\n",
    "        \n",
    "        min_len = min(len(text_chars), len(self.corpora_chars))\n",
    "        \n",
    "        translator = str.maketrans(text_chars[:min_len], self.corpora_chars[:min_len])\n",
    "        return text.translate(translator)"
   ]
  },
  {
   "cell_type": "code",
   "execution_count": 25,
   "metadata": {},
   "outputs": [],
   "source": [
    "def accuracy(text1, text2):\n",
    "    assert len(text1) == len(text2)\n",
    "    tp = sum(c1 == c2 for c1, c2 in zip(text1, text2))\n",
    "    return tp / len(text1)"
   ]
  },
  {
   "cell_type": "code",
   "execution_count": 26,
   "metadata": {},
   "outputs": [],
   "source": [
    "ru_char_decoder = CharFrequencyDecoder(ru_stat)"
   ]
  },
  {
   "cell_type": "code",
   "execution_count": 27,
   "metadata": {},
   "outputs": [
    {
     "name": "stdout",
     "output_type": "stream",
     "text": [
      "0.75077\n"
     ]
    },
    {
     "data": {
      "text/plain": [
       "' вожне и дир седыж извастныж роден лгве николеавиче толстоьо кек никекоа мруьоа произваманиа писеталя отрейеат ьлубину аьо дирооцуцания и философии щте книье из резряме вачных потоду что оне обо всад о йизни и сдарти о любви и части о дуйаства и ьароизда о слева и помвиьа о вожна и дира парвыж тод знекодит с высшид обцаствод россии ваке покезены взеидоотношания дайму ромиталяди и матгди в садга ростовых световство у болконских интриьи у базуховых вачаре в селона фражлины е п шарар белы в досква и патарбурьа лав николеавич толстожчестг парвея честг орея честг тратгя лав николеавич толстож вожне и дир тод честг парвея а подастгя дож варныж реб ну что князг ьануе и лукке стели на болгша кек подастгяди федилии бонеперта нат я вес прамупраймею асли вы дна на скейата что у нес вожне асли вы аца позволита саба зецицетг вса ьемости вса уйесы щтоьо ентихристе прево я варю что он ентихрист я вес болгша на знею вы уй на мруь дож вы уй на дож варныж реб кек вы ьоворита ну змревствужта змревствужта'"
      ]
     },
     "execution_count": 27,
     "metadata": {},
     "output_type": "execute_result"
    }
   ],
   "source": [
    "ru_text_decoded = ru_char_decoder.decode(ru_text_encoded)\n",
    "print(accuracy(ru_text_decoded, ru_text))\n",
    "ru_text_decoded[:1000]"
   ]
  },
  {
   "cell_type": "markdown",
   "metadata": {},
   "source": [
    "Не впечатляет, но при большом желании прочитать уже можно"
   ]
  },
  {
   "cell_type": "markdown",
   "metadata": {},
   "source": [
    "## Теперь попробуем расшифровать, используя частоты биграмм\n",
    "Реализуем жадный алгоритм, который перебирает пары биграмм из текста и из корпуса в порядке убывания их частот и связывает соответствующие символы, если нет противоречий"
   ]
  },
  {
   "cell_type": "code",
   "execution_count": 28,
   "metadata": {},
   "outputs": [],
   "source": [
    "class DumbBigramDecoder:\n",
    "    def __init__(self, corpora_statistics):\n",
    "        self.corpora_statistics = corpora_statistics\n",
    "        \n",
    "        # Символы корпуса, отсортированные в порядке убывания частот\n",
    "        self.corpora_chars = ''.join(corpora_statistics.chars)\n",
    "        \n",
    "        # Биграммы корпуса, отсортированные в порядке убывания частот\n",
    "        self.corpora_bigrams = corpora_statistics.bigrams\n",
    "    \n",
    "    def decode(self, text):\n",
    "        text_stat = Statistics().fit(text)\n",
    "        \n",
    "        # Символы текста, отсортированные в порядке убывания частот\n",
    "        text_chars = ''.join(text_stat.chars)\n",
    "        \n",
    "        # Биграммы текста, отсортированные в порядке убывания частот\n",
    "        text_bigrams = text_stat.bigrams\n",
    "        \n",
    "        tc_map = dict() # text chars -> corpora chars\n",
    "        ct_map = dict() # corpora chars -> text chars\n",
    "        \n",
    "        for tb in text_bigrams:\n",
    "            for cb in self.corpora_bigrams:\n",
    "                can_tie_first = tb[0] not in tc_map and cb[0] not in ct_map\n",
    "                can_tie_second = tb[1] not in tc_map and cb[1] not in ct_map\n",
    "                already_tied_first = tb[0] in tc_map and tc_map[tb[0]] == cb[0]\n",
    "                already_tied_second = tb[1] in tc_map and tc_map[tb[1]] == cb[1]\n",
    "                if can_tie_first and (can_tie_second or already_tied_second):\n",
    "                    tc_map[tb[0]] = cb[0]\n",
    "                    ct_map[cb[0]] = tb[0]\n",
    "                if can_tie_second and (can_tie_first or already_tied_first):\n",
    "                    tc_map[tb[1]] = cb[1]\n",
    "                    ct_map[cb[1]] = tb[1]            \n",
    "        if len(tc_map) < len(text_chars):\n",
    "            text_chars = [c for c in text_chars if c not in tc_map]\n",
    "            corpora_chars = [c for c in self.corpora_chars if c not in ct_map]\n",
    "            for tc, cc in zip(text_chars, corpora_chars):\n",
    "                tc_map[tc] = cc\n",
    "        text_chars, corpora_chars = zip(*tc_map.items())\n",
    "        translator = str.maketrans(''.join(text_chars), ''.join(corpora_chars))\n",
    "        return text.translate(translator)"
   ]
  },
  {
   "cell_type": "code",
   "execution_count": 29,
   "metadata": {},
   "outputs": [],
   "source": [
    "ru_bigram_decoder = DumbBigramDecoder(ru_stat)"
   ]
  },
  {
   "cell_type": "code",
   "execution_count": 30,
   "metadata": {},
   "outputs": [
    {
     "name": "stdout",
     "output_type": "stream",
     "text": [
      "0.65426\n"
     ]
    },
    {
     "data": {
      "text/plain": [
       "' сойпа е мер намый езсинтпый ромап льса пеколаисеча толнтого как пекакои бругои вроезсибипеи венатиля отрашаит глудепу иго мероофуфипея е ъелоноъее эта кпега ез разряба сичпых вотому что опа одо сним о шезпе е нмирте о людсе е чинте о мушинтси е гироезми о нласи е вобсеги о сойпи е мери вирсый том зпакомет н сынжем одфинтсом роннее сика воказапы сзаемоотпожипея мишбу робетиляме е битьме с нимьи ронтосых нсатоснтсо у долкопнкех ептреге у дизухосых сичира с налопи ърийлепы а в жирир далы с монкси е витирдурги лис пеколаисеч толнтойчанть вирсая чанть орая чанть тритья лис пеколаисеч толнтой сойпа е мер том чанть вирсая и воминтья мой сирпый рад пу что кпязь гипуа е лукка нтале пи дольжи как воминтьяме ъамелее допаварти пит я сан врибувришбаю инле сы мпи пи нкашити что у пан сойпа инле сы ифи возсолети ниди зафефать сни габонте сни ушаны этого аптехрента врасо я сирю что оп аптехрент я сан дольжи пи зпаю сы уш пи бруг мой сы уш пи мой сирпый рад как сы госорети пу збраснтсуйти збраснтсуйти'"
      ]
     },
     "execution_count": 30,
     "metadata": {},
     "output_type": "execute_result"
    }
   ],
   "source": [
    "ru_text_decoded = ru_bigram_decoder.decode(ru_text_encoded)\n",
    "print(accuracy(ru_text_decoded, ru_text))\n",
    "ru_text_decoded[:1000]"
   ]
  },
  {
   "cell_type": "markdown",
   "metadata": {},
   "source": [
    "Стало только хуже"
   ]
  },
  {
   "cell_type": "markdown",
   "metadata": {},
   "source": [
    "## MCMC на основе биграмм\n",
    "Зашифрованный текст получен с помощью некоторой перестановки символов алфавита. Хочется найти такую (обратную) перестановку, что при её применении получится наиболее вероятный (с точки зрения распределения биграмм) текст:  \n",
    "$$P(\\text{text}|\\text{permutation}) \\xrightarrow[\\text{permutation}]{} \\max$$\n",
    "Делов-то, просто переберём все $34! \\approx 2.95 \\cdot 10^{38}$ пере... Oh, wait.  \n",
    "Используем алгоритм Метрополиса-Гастингса для аппроксимации правдоподобия $P(\\text{text}|\\text{permutation})$. Наш семплер будет менять местами произвольную пару (различных) символов перестановки, пары будут выбираться равновероятно. Очевидно, такой семплер симметричен, а значит для принятия или отвержения предложенной перестановки достаточно посмотреть на отношение правдоподобий:  \n",
    "$$a = \\frac{P(\\text{text}|\\text{permutation}_{\\text{proposed}})}{P(\\text{text}|\\text{permutation}_{\\text{current}})}$$  \n",
    "Если $a \\geq 1, $ то принимаем предложенную перестановку, иначе принимаем её с вероятностью $a.$"
   ]
  },
  {
   "cell_type": "code",
   "execution_count": 31,
   "metadata": {},
   "outputs": [],
   "source": [
    "def get_random_permutation(alphabet):\n",
    "    return ''.join(np.random.permutation(list(alphabet)))"
   ]
  },
  {
   "cell_type": "code",
   "execution_count": 32,
   "metadata": {},
   "outputs": [],
   "source": [
    "def apply_permutation(text, alphabet, permutation):\n",
    "    translator = str.maketrans(alphabet, permutation)\n",
    "    return text.translate(translator)"
   ]
  },
  {
   "cell_type": "code",
   "execution_count": 33,
   "metadata": {},
   "outputs": [],
   "source": [
    "def propose(permutation):\n",
    "    permutation = list(permutation)\n",
    "    i, j = np.random.choice(len(permutation), replace=False, size=2)\n",
    "    permutation[i], permutation[j] = permutation[j], permutation[i]\n",
    "    return ''.join(permutation)"
   ]
  },
  {
   "cell_type": "code",
   "execution_count": 34,
   "metadata": {},
   "outputs": [],
   "source": [
    "def get_log_likelihood(text, corpus_stat):\n",
    "    assert len(text) > 0\n",
    "    char_epsilon = corpus_stat.char_probas[-1]\n",
    "    bigram_epsilon = corpus_stat.bigram_probas[-1]\n",
    "    log_likelihood = np.log(corpus_stat.get_char_proba(text[0]) or char_epsilon)\n",
    "    for bigram in ngrams(text, 2):\n",
    "        bigram_log_proba = np.log(corpus_stat.get_bigram_proba(bigram) or bigram_epsilon)\n",
    "        log_likelihood += bigram_log_proba\n",
    "    return log_likelihood"
   ]
  },
  {
   "cell_type": "code",
   "execution_count": 35,
   "metadata": {},
   "outputs": [],
   "source": [
    "def mcmc(text, corpus_stat, alphabet, n_iter=10000, early_stopping_rounds=1000, verbose=True):\n",
    "    permutation = get_random_permutation(alphabet)\n",
    "    best_permutation = permutation\n",
    "    permuted_text = apply_permutation(text, alphabet, permutation)\n",
    "    log_likelihood = get_log_likelihood(permuted_text, corpus_stat)\n",
    "    best_log_likelihood = log_likelihood\n",
    "    ll_history = [log_likelihood]\n",
    "    if verbose:\n",
    "        print(f'Initial permutation \"{permutation}\" with log-likelihood {log_likelihood:.5f}')\n",
    "    accepted = 0\n",
    "    last_accepted_iter = -1\n",
    "    for i in range(n_iter):\n",
    "        proposed_permutation = propose(permutation)\n",
    "        proposed_text = apply_permutation(text, alphabet, proposed_permutation)\n",
    "        proposed_log_likelihood = get_log_likelihood(proposed_text, corpus_stat)\n",
    "        if proposed_log_likelihood > log_likelihood:\n",
    "            last_accepted_iter = i\n",
    "            accepted += 1\n",
    "            log_likelihood = proposed_log_likelihood\n",
    "            ll_history.append(log_likelihood)\n",
    "            permutation = proposed_permutation\n",
    "            if log_likelihood > best_log_likelihood:\n",
    "                best_log_likelihood = log_likelihood\n",
    "                best_permutation = permutation\n",
    "                if verbose:\n",
    "                    print(f'{i}: found new best permutation \"{permutation}\" with log-likelihood {log_likelihood:.5f}')\n",
    "        else:\n",
    "            accept_log_proba = proposed_log_likelihood - log_likelihood\n",
    "            accept_proba = np.exp(accept_log_proba)\n",
    "            if np.random.rand() < accept_proba:\n",
    "                last_accepted_iter = i\n",
    "                accepted += 1\n",
    "                log_likelihood = proposed_log_likelihood\n",
    "                ll_history.append(log_likelihood)\n",
    "                permutation = proposed_permutation\n",
    "        if i - last_accepted_iter >= early_stopping_rounds:\n",
    "            print(f'Model converged')\n",
    "            break\n",
    "    print(f'Accepted: {accepted}/{n_iter} ({accepted/n_iter*100}%)')\n",
    "    return best_permutation, ll_history"
   ]
  },
  {
   "cell_type": "code",
   "execution_count": 36,
   "metadata": {
    "scrolled": true
   },
   "outputs": [
    {
     "name": "stdout",
     "output_type": "stream",
     "text": [
      "Initial permutation \"шнычьёрз втемпойафжщхкгцюбялъсдуиэ\" with log-likelihood -1159627.65532\n",
      "0: found new best permutation \"шнычьёрв зтемпойафжщхкгцюбялъсдуиэ\" with log-likelihood -1157274.21952\n",
      "1: found new best permutation \"шныжьёрв зтемпойафчщхкгцюбялъсдуиэ\" with log-likelihood -1153109.37229\n",
      "2: found new best permutation \"жнышьёрв зтемпойафчщхкгцюбялъсдуиэ\" with log-likelihood -1152515.54066\n",
      "7: found new best permutation \"жнышьёрв зтемпойафчщхягцюбклъсдуиэ\" with log-likelihood -1147578.30421\n",
      "12: found new best permutation \"жнышьёрв зтъмпойафчщхягцюбклесдуиэ\" with log-likelihood -1144400.86945\n",
      "15: found new best permutation \"жнышьёрв зтъмпойафчщхягбюцклесдуиэ\" with log-likelihood -1141194.86549\n",
      "17: found new best permutation \"жнышьюрв зтъмпойафчщхягбёцклесдуиэ\" with log-likelihood -1132780.24023\n",
      "18: found new best permutation \"жнырьюшв зтъмпойафчщхягбёцклесдуиэ\" with log-likelihood -1128356.48083\n",
      "22: found new best permutation \"жнырьюшв злъмпойафчщхягбёцктесдуиэ\" with log-likelihood -1124266.77936\n",
      "23: found new best permutation \"жнырьюшв злъмчойафпщхягбёцктесдуиэ\" with log-likelihood -1122132.41020\n",
      "24: found new best permutation \"жёырьюшв злъмчойафпщхягбнцктесдуиэ\" with log-likelihood -1080014.17044\n",
      "25: found new best permutation \"жёырьюшв злъмчойгфпщхяабнцктесдуиэ\" with log-likelihood -1077840.30114\n",
      "26: found new best permutation \"жёырьюшт злъмчойгфпщхяабнцквесдуиэ\" with log-likelihood -1072926.11584\n",
      "27: found new best permutation \"жёырьюшщ злъмчойгфптхяабнцквесдуиэ\" with log-likelihood -1055900.03830\n",
      "30: found new best permutation \"жёырьюшщ злъмчойсфптхяабнцквегдуиэ\" with log-likelihood -1039062.37381\n",
      "33: found new best permutation \"жёырьюшщ злъмчийсфптхяабнцквегдуоэ\" with log-likelihood -1037269.15202\n",
      "34: found new best permutation \"жёырьюшщтзлъмчийсфп хяабнцквегдуоэ\" with log-likelihood -1024828.92344\n",
      "35: found new best permutation \"жёырьюшщтзлъмчийсфп аяхбнцквегдуоэ\" with log-likelihood -975371.58408\n",
      "37: found new best permutation \"жёырь шщтзлъмчийсфпюаяхбнцквегдуоэ\" with log-likelihood -959494.80016\n",
      "39: found new best permutation \"жёырь шщтзлъмчийсфпюаяхбнцквэгдуое\" with log-likelihood -947831.25171\n",
      "44: found new best permutation \"жёырь шщтзлъмчийсфпюаякбнцхвэгдуое\" with log-likelihood -929289.39482\n",
      "46: found new best permutation \"жёырь шщтзнъмчийсфпюаякблцхвэгдуое\" with log-likelihood -927919.92392\n",
      "47: found new best permutation \"жёыру шщтзнъмчийсфпюаякблцхвэгдьое\" with log-likelihood -858981.44920\n",
      "48: found new best permutation \"жёыру шщтзнъмчийсфпюаякдлцхвэгбьое\" with log-likelihood -853382.69774\n",
      "50: found new best permutation \"жёыпу шщтзнъмчийсфрюаякдлцхвэгбьое\" with log-likelihood -853362.21582\n",
      "70: found new best permutation \"жёыпу шщтзнъмчихсфрюаякдлцйвэгбьое\" with log-likelihood -849537.89181\n",
      "71: found new best permutation \"жёыпу шщзтнъмчихсфрюаякдлцйвэгбьое\" with log-likelihood -848008.04901\n",
      "77: found new best permutation \"жёыпу шщзтнъвчихсфрюаякдлцймэгбьое\" with log-likelihood -847111.48889\n",
      "79: found new best permutation \"жёыпу шщзтнъвчихюфрсаякдлцймэгбьое\" with log-likelihood -832312.63651\n",
      "85: found new best permutation \"жёыпу шщзтнъвчихюфрсаякдлцймогбьэе\" with log-likelihood -829184.75862\n",
      "91: found new best permutation \"жйыпу шщзтнъвчихюфрсаякдлцёмогбьэе\" with log-likelihood -827506.81827\n",
      "92: found new best permutation \"жйыпу шщзтнъвчихюфрсагкдлцёмоябьэе\" with log-likelihood -820324.64051\n",
      "97: found new best permutation \"жйыпу шщзтнъвчихюцрсагкдлфёмоябьэе\" with log-likelihood -814331.11128\n",
      "100: found new best permutation \"жйыпу шщзцнъвчихютрсагкдлфёмоябьэе\" with log-likelihood -809540.60738\n",
      "107: found new best permutation \"жйыпу шщзцнъвчехютрсагкдлфёмоябьэи\" with log-likelihood -801736.84811\n",
      "116: found new best permutation \"жйыпу шюзцнъвчехщтрсагкдлфёмоябьэи\" with log-likelihood -801561.17535\n",
      "119: found new best permutation \"юйыпу шжзцнъвчехщтрсагкдлфёмоябьэи\" with log-likelihood -791549.74722\n",
      "126: found new best permutation \"вйыпу шжзцнъючехщтрсагкдлфёмоябьэи\" with log-likelihood -785068.54092\n",
      "145: found new best permutation \"вйыпу шжзцнъючемщтрсагкдлфёхоябьэи\" with log-likelihood -783774.57393\n",
      "150: found new best permutation \"щйыпу шжзцнъючемвтрсагкдлфёхоябьэи\" with log-likelihood -774890.31085\n",
      "158: found new best permutation \"рйыпу шжзцнъючемвтщсагкдлфёхоябьэи\" with log-likelihood -774631.95489\n",
      "166: found new best permutation \"чйыпу шжзцнъюремвтщсагкдлфёхоябьэи\" with log-likelihood -774112.83229\n",
      "172: found new best permutation \"чйыпу шжщцнъюремвтзсагкдлфёхоябьэи\" with log-likelihood -773139.25578\n",
      "175: found new best permutation \"чйыпу шжщцнъюремвтзсагкдлфёхбяоьэи\" with log-likelihood -771220.01835\n",
      "191: found new best permutation \"чйыпу шжщцнъюремвтздагкслфёхбяоьэи\" with log-likelihood -770330.44756\n",
      "219: found new best permutation \"чйыпу шжщцнъфремвтздагкслюёхбяоьэи\" with log-likelihood -767894.20053\n",
      "233: found new best permutation \"чйфпу шжщцнъыремвтздагкслюёхбяоьэи\" with log-likelihood -765855.97859\n",
      "240: found new best permutation \"чйфпу шжщонъыремвтздагкслюёхбяцьэи\" with log-likelihood -760382.56560\n",
      "242: found new best permutation \"чйбпу шжщонъыремвтздагкслюёхфяцьэи\" with log-likelihood -759439.39401\n",
      "250: found new best permutation \"чйбпу шжщонъыремвтздагкслюёцфяхьэи\" with log-likelihood -759246.83261\n",
      "252: found new best permutation \"чйцпу шжщонъыремвтздагкслюёбфяхьэи\" with log-likelihood -758881.42558\n",
      "264: found new best permutation \"чйцпу шжщрнъыоемвтздагкслюёбфяхьэи\" with log-likelihood -752564.62402\n",
      "270: found new best permutation \"гйцпу шжщрнъыоемвтздачкслюёбфяхьэи\" with log-likelihood -752358.30377\n",
      "274: found new best permutation \"гйцпу шжщреъыонмвтздачкслюёбфяхьэи\" with log-likelihood -750373.48054\n",
      "284: found new best permutation \"гйцпу шжбреъыонмвтздачкслюёщфяхьэи\" with log-likelihood -746498.76851\n",
      "296: found new best permutation \"гйцпу шжбреъыонмвтздачкслюэщфяхьёи\" with log-likelihood -745316.26578\n",
      "310: found new best permutation \"гйцпу шжбреъыонювтздачкслмэщфяхьёи\" with log-likelihood -745077.41654\n",
      "341: found new best permutation \"бйцпу шжгреъыонювтздачкслмэщфяхьёи\" with log-likelihood -743771.90975\n",
      "372: found new best permutation \"бйцпу шжгмеъыонювтздачкслрэщфяхьёи\" with log-likelihood -741148.81548\n",
      "376: found new best permutation \"бйцпу шжгмеёыонювтздачкслрэщфяхьъи\" with log-likelihood -740902.78640\n",
      "382: found new best permutation \"бйцпо шжгмеёыунювтздачкслрэщфяхьъи\" with log-likelihood -717365.15764\n",
      "385: found new best permutation \"пйцбо шжгмеёыунювтздачкслрэщфяхьъи\" with log-likelihood -716898.56476\n",
      "410: found new best permutation \"пйцбо шжгмеёыунфвтздачкслрэщюяхьъи\" with log-likelihood -715146.98936\n",
      "471: found new best permutation \"пйцбе шжгмоёыунфвтздачкслрэщюяхьъи\" with log-likelihood -707639.06216\n",
      "484: found new best permutation \"пйцбе шжчмоёыунфвтздагкслрэщюяхьъи\" with log-likelihood -705789.83747\n",
      "492: found new best permutation \"пйцбе швчмоёыунфжтздагкслрэщюяхьъи\" with log-likelihood -703552.67874\n",
      "567: found new best permutation \"пйцые швчмоёбунфжтздагкслрэщюяхьъи\" with log-likelihood -699596.42195\n",
      "595: found new best permutation \"пйцые швчмоёбрнфжтздагкслуэщюяхьъи\" with log-likelihood -697201.92409\n",
      "600: found new best permutation \"пйцые швчмоёбзнфжтрдагкслуэщюяхьъи\" with log-likelihood -694164.38177\n",
      "627: found new best permutation \"пйцые швчмоёбзнфжтдрагкслуэщюяхьъи\" with log-likelihood -692894.91585\n",
      "639: found new best permutation \"яйцые швчмоёбзнфжтдрагкслуэщюпхьъи\" with log-likelihood -691615.07688\n",
      "675: found new best permutation \"яйщые швчмоёбзнфжтдрагкслуэцюпхьъи\" with log-likelihood -690716.67355\n",
      "707: found new best permutation \"яйщые швчмоёбзрфжтднагкслуэцюпхьъи\" with log-likelihood -683280.13815\n",
      "713: found new best permutation \"яйфые швчмоёбзрщжтднагкслуэцюпхьъи\" with log-likelihood -682867.17092\n",
      "714: found new best permutation \"яйфые швчмоёжзрщбтднагкслуэцюпхьъи\" with log-likelihood -682314.19683\n",
      "740: found new best permutation \"яйжые швчмоёфзрщбтднагкслуэцюпхьъи\" with log-likelihood -681692.05693\n",
      "753: found new best permutation \"яйжые швчмоёфзрщбтднапкслуэцюгхьъи\" with log-likelihood -680383.65907\n",
      "761: found new best permutation \"яйжые швчмоёфзрщптднабкслуэцюгхьъи\" with log-likelihood -680151.38354\n",
      "812: found new best permutation \"яйжые швчбоёфзрщптднамкслуэцюгхьъи\" with log-likelihood -679833.34606\n"
     ]
    },
    {
     "name": "stdout",
     "output_type": "stream",
     "text": [
      "867: found new best permutation \"яйжые швчбоёюзрщптднамкслуэцфгхьъи\" with log-likelihood -679109.74589\n",
      "870: found new best permutation \"яйжые швчбоёюзрщптднамкслуэцьгхфъи\" with log-likelihood -678332.39575\n",
      "876: found new best permutation \"яйжие швчбоёюзрщптднамкслуэцьгхфъы\" with log-likelihood -676103.87080\n",
      "886: found new best permutation \"яйжие мвчбоёюзрщптднашкслуэцьгхфъы\" with log-likelihood -675284.13812\n",
      "977: found new best permutation \"яйжиеамвчбоёюзрщптдн шкслуэцьгхфъы\" with log-likelihood -670434.41447\n",
      "989: found new best permutation \"яйщиеамвчбоёюзржптдн шкслуэцьгхфъы\" with log-likelihood -668074.93749\n",
      "1035: found new best permutation \"ийщяеамвчбоёюзржптдн шкслуэцьгхфъы\" with log-likelihood -666220.43093\n",
      "1102: found new best permutation \"рйщяеамвчбоёюзижптдн шкслуэцьгхфъы\" with log-likelihood -665111.82773\n",
      "1111: found new best permutation \"чйщяеамврбоёюзижптдн шкслуэцьгхфъы\" with log-likelihood -664237.07395\n",
      "1113: found new best permutation \"чйщяеамврбоёюзижштдн пкслуэцьгхфъы\" with log-likelihood -663489.76409\n",
      "1155: found new best permutation \"чйщяеамвшбоёюзижртдн пкслуэцьгхфъы\" with log-likelihood -660917.79789\n",
      "1162: found new best permutation \"чйщяеамвшбоёюзижтрдн пкслуэцьгхфъы\" with log-likelihood -660731.15696\n",
      "1181: found new best permutation \"чйщяеашвмбоёюзижтрдн пкслуэцьгхфъы\" with log-likelihood -659855.66843\n",
      "1211: found new best permutation \"чйщяеашвмбоёюзижтрдн гкслуэцьпхфъы\" with log-likelihood -658108.26160\n",
      "1223: found new best permutation \"чйщяеашвмбоёфзижтрдн гкслуэцьпхюъы\" with log-likelihood -657840.85548\n",
      "1274: found new best permutation \"чйщяеашвдбоёфзижтрмн гкслуэцьпхюъы\" with log-likelihood -657544.10142\n",
      "1287: found new best permutation \"чйьяеашвдбоёфзижтрмн гкслуэцщпхюъы\" with log-likelihood -657322.61774\n",
      "1365: found new best permutation \"чйьдеашвябоёфзижтрмн гкслуэцщпхюъы\" with log-likelihood -657242.75647\n",
      "1427: found new best permutation \"чйьдеашвябоёфзижлрмн гкстуэцщпхюъы\" with log-likelihood -655489.06975\n",
      "1607: found new best permutation \"чйьдеашвябоёхзижлрмн гкстуэцщпфюъы\" with log-likelihood -654997.39340\n",
      "1611: found new best permutation \"чйьдеабвяшоёхзижлрмн гкстуэцщпфюъы\" with log-likelihood -653454.20234\n",
      "1651: found new best permutation \"чйьшеабвядоёхзижлрмн гкстуэцщпфюъы\" with log-likelihood -652836.65094\n",
      "1692: found new best permutation \"чйьшеабвядоёхзижкрмн глстуэцщпфюъы\" with log-likelihood -649411.71460\n",
      "1736: found new best permutation \"чйшьеабвядоёхзижкрмн глстуэцщпфюъы\" with log-likelihood -647623.34082\n",
      "1758: found new best permutation \"ьйшчеабвядоёхзижкрмн глстуэцщпфюъы\" with log-likelihood -640997.70220\n",
      "1799: found new best permutation \"ьйшч абвядоёхзижкрмнеглстуэцщпфюъы\" with log-likelihood -614858.73907\n",
      "1804: found new best permutation \"ьйжч абвядоёхзишкрмнеглстуэцщпфюъы\" with log-likelihood -614645.44240\n",
      "1853: found new best permutation \"ьйжч абвядоёхзишкрмнеглстуэщцпфюъы\" with log-likelihood -614595.53978\n",
      "1863: found new best permutation \"ьйюч абвядоёхзишкрмнеглстуэщцпфжъы\" with log-likelihood -611684.02150\n",
      "1898: found new best permutation \"ьйюч абвядоёхзижкрмнеглстуэщцпфшъы\" with log-likelihood -610806.40732\n",
      "1932: found new best permutation \"ьйюк абвядоёхзижчрмнеглстуэщцпфшъы\" with log-likelihood -609826.69839\n",
      "1939: found new best permutation \"ьэюк абвядоёхзижчрмнеглстуйщцпфшъы\" with log-likelihood -607616.99194\n",
      "1940: found new best permutation \"ьэюк абвждоёхзиячрмнеглстуйщцпфшъы\" with log-likelihood -600483.66641\n",
      "1944: found new best permutation \"ьэюк абвждоёхзиячрмнеглстуйшцпфщъы\" with log-likelihood -599028.40342\n",
      "2137: found new best permutation \"ьэюк абвждоёхзиячлмнегрстуйшцпфщъы\" with log-likelihood -593517.76518\n",
      "2151: found new best permutation \"ьэюк абвждеёхзиячлмногрстуйшцпфщъы\" with log-likelihood -593150.58287\n",
      "2266: found new best permutation \"ьэюк абвждеёшзиячлмногрстуйхцпфщъы\" with log-likelihood -589444.27400\n",
      "2286: found new best permutation \"ьэюя абвждеёшзикчлмногрстуйхцпфщъы\" with log-likelihood -585212.83356\n",
      "2310: found new best permutation \"ьэюя абвпдеёшзикчлмногрстуйхцжфщъы\" with log-likelihood -580872.47480\n",
      "2459: found new best permutation \"ьэюя абвпдеёшзийчлмногрстукхцжфщъы\" with log-likelihood -578587.38301\n",
      "2469: found new best permutation \"ьэюя абвпдеёшзийчлмногрстуфхцжкщъы\" with log-likelihood -574909.14258\n",
      "2497: found new best permutation \"ьэюя абвпдеёкзийчлмногрстуфхцжшщъы\" with log-likelihood -573787.22263\n",
      "2602: found new best permutation \"ьэюя абвгдеёкзийчлмнопрстуфхцжшщъы\" with log-likelihood -566797.07311\n",
      "2619: found new best permutation \"ьэюя абвгдеёжзийчлмнопрстуфхцкшщъы\" with log-likelihood -562954.64015\n",
      "Model converged\n",
      "Accepted: 123/10000 (1.23%)\n"
     ]
    }
   ],
   "source": [
    "best_permutation, ll_history = mcmc(ru_text_encoded, ru_stat, ru_alphabet)"
   ]
  },
  {
   "cell_type": "code",
   "execution_count": 37,
   "metadata": {},
   "outputs": [
    {
     "data": {
      "image/png": "[encoded data removed]",
      "text/plain": [
       "<Figure size 432x288 with 1 Axes>"
      ]
     },
     "metadata": {
      "needs_background": "light"
     },
     "output_type": "display_data"
    }
   ],
   "source": [
    "plt.plot(range(len(ll_history)), ll_history);"
   ]
  },
  {
   "cell_type": "code",
   "execution_count": 38,
   "metadata": {},
   "outputs": [],
   "source": [
    "decoded = apply_permutation(ru_text_encoded, ru_alphabet, best_permutation)"
   ]
  },
  {
   "cell_type": "code",
   "execution_count": 39,
   "metadata": {
    "scrolled": true
   },
   "outputs": [
    {
     "name": "stdout",
     "output_type": "stream",
     "text": [
      "0.95804\n"
     ]
    },
    {
     "data": {
      "text/plain": [
       "' война и мир самый известный роман льва ничолаевика толстого чач ничачое другое произведение писателя отражает глубину его мироощущения и философии эта чнига из разряда векных потому кто она обо всем о жизни и смерти о любви и кести о мужестве и героизме о славе и подвиге о войне и мире первый том значомит с высшим обществом россии веча почазаны взаимоотношения между родителями и детьми в семье ростовых сватовство у болчонсчих интриги у безуховых векера в салоне фрейлины а п шерер балы в мосчве и петербурге лев ничолаевик толстойкасть первая касть орая касть третья лев ничолаевик толстой война и мир том касть первая е поместья мой верный раб ну кто чнязь генуа и лучча стали не больше чач поместьями фамилии бонапарте нет я вас предупреждаю если вы мне не счажете кто у нас война если вы еще позволите себе защищать все гадости все ужасы этого антихриста право я верю кто он антихрист я вас больше не знаю вы уж не друг мой вы уж не мой верный раб чач вы говорите ну здравствуйте здравствуйте'"
      ]
     },
     "execution_count": 39,
     "metadata": {},
     "output_type": "execute_result"
    }
   ],
   "source": [
    "print(accuracy(decoded, ru_text))\n",
    "decoded[:1000]"
   ]
  },
  {
   "cell_type": "markdown",
   "metadata": {},
   "source": [
    "Получилось неплохо. Но это текст длиной 100k символов, да ещё он участвовал в подсчёте статистик. Попробуем что-нибудь посложнее"
   ]
  },
  {
   "cell_type": "code",
   "execution_count": 41,
   "metadata": {},
   "outputs": [
    {
     "data": {
      "text/plain": [
       "(952,\n",
       " ' верьте аль не верьте а жил на белом свете федот стрелец удалой молодец был федот ни красавец ни уро')"
      ]
     },
     "execution_count": 41,
     "metadata": {},
     "output_type": "execute_result"
    }
   ],
   "source": [
    "ru_text2 = \"\"\"\n",
    "Верьте аль не верьте,  а  жил  на  белом  свете  Федот-стрелец,  удалой\n",
    "молодец.  Был  Федот ни красавец, ни урод, ни румян, ни бледен, ни богат, ни\n",
    "беден, ни в парше, ни в парче, а так, вообче. Служба у Федота -- рыбалка  да\n",
    "охота.  Царю  --  дичь  да  рыба, Федоту -- спасибо. Гостей во дворце -- как\n",
    "семян в огурце. Один из Швеции, другой из Греции, третий с Гавай --  и  всем\n",
    "жрать подавай! Одному -- омаров, другому -- кальмаров, третьему -- сардин, а\n",
    "добытчик  один!  Как-то  раз  дают  ему  приказ: чуть свет поутру явиться ко\n",
    "двору. Царь на вид сморчок, башка с кулачок, а злобности в ем --  агромадный\n",
    "объем.  Смотрит  на  Федьку,  как  язвенник  на  редьку. На Федьке от страха\n",
    "намокла рубаха, в висках застучало, в пузе заурчало, тут, как  говорится,  и\n",
    "сказке начало...\n",
    "\n",
    "К нам на утренний рассол\n",
    "Прибыл аглицкий посол,\n",
    "А у нас в дому закуски --\n",
    "Полгорбушки да мосол.\n",
    "\n",
    "Снаряжайся, братец, в путь\n",
    "Да съестного нам добудь --\n",
    "Глухаря аль куропатку,\n",
    "Аль ишо кого-нибудь.\n",
    "\n",
    "Не смогешь -- кого винить? --\n",
    "Я должон тебя казнить.\n",
    "Государственное дело --\n",
    "Ты улавливаешь нить?..\"\"\"\n",
    "\n",
    "ru_text2 = cleanse(ru_text2, 'ru')\n",
    "len(ru_text2), ru_text2[:c]"
   ]
  },
  {
   "cell_type": "code",
   "execution_count": 43,
   "metadata": {},
   "outputs": [
    {
     "data": {
      "text/plain": [
       "'гёиф цигдп гсигёиф цигдгкмпгсдгеиптргхёицигшизтцгхцфипиъгчздптнгртптзиъгеяпгшизтцгсмгофдхдёиъгсмгчфт'"
      ]
     },
     "execution_count": 43,
     "metadata": {},
     "output_type": "execute_result"
    }
   ],
   "source": [
    "ru_text_encoded2 = ru_cipher.encode(ru_text2)\n",
    "ru_text_encoded2[:100]"
   ]
  },
  {
   "cell_type": "code",
   "execution_count": 61,
   "metadata": {
    "scrolled": true
   },
   "outputs": [
    {
     "name": "stdout",
     "output_type": "stream",
     "text": [
      "Initial permutation \"вй фщшзэуътюиыягечпдлжобькнёрхмацс\" with log-likelihood -10459.95537\n",
      "5: found new best permutation \"вй фошзэуътюиыягечпдлжщбькнёрхмацс\" with log-likelihood -9255.04551\n",
      "6: found new best permutation \"вй фошзэуътюиыягечпдлжщбьнкёрхмацс\" with log-likelihood -9109.46450\n",
      "7: found new best permutation \"вй фошзэуътюипягечыдлжщбьнкёрхмацс\" with log-likelihood -9028.62101\n",
      "9: found new best permutation \"ьй фошзэуътюипягечыдлжщбвнкёрхмацс\" with log-likelihood -8982.39726\n",
      "11: found new best permutation \"ьй фошзгуътюипяэечыдлжщбвнкёрхмацс\" with log-likelihood -8911.12360\n",
      "18: found new best permutation \"ьй фошзгуътюипяэечыдлжщбнвкёрхмацс\" with log-likelihood -8878.00085\n",
      "20: found new best permutation \"ьй фошзгуътюипяэлчыдежщбнвкёрхмацс\" with log-likelihood -8822.75590\n",
      "23: found new best permutation \"ьйтфошзгуъ юипяэлчыдежщбнвкёрхмацс\" with log-likelihood -8671.59209\n",
      "29: found new best permutation \"ьктфошзгуъ юипяэлчыдежщбнвйёрхмацс\" with log-likelihood -8664.68651\n",
      "31: found new best permutation \"ьктфошзгуъ юипяэлчывежщбндйёрхмацс\" with log-likelihood -8623.35423\n",
      "32: found new best permutation \"ьктфоязгуъ юипшэлчывежщбндйёрхмацс\" with log-likelihood -8490.66731\n",
      "35: found new best permutation \"ьктфоязгуп юиъшэлчывежщбндйёрхмацс\" with log-likelihood -8225.15997\n",
      "42: found new best permutation \"ьктфоязгуп юиъшэлчывежщсндйёрхмацб\" with log-likelihood -8153.59618\n",
      "49: found new best permutation \"ьктфоязгуп юиъшрлчывежщсндйёэхмацб\" with log-likelihood -8110.50414\n",
      "52: found new best permutation \"кьтфоязгуп юиъшрлчывежщсндйёэхмацб\" with log-likelihood -8028.53192\n",
      "53: found new best permutation \"кьбфоязгуп юиъшрлчывежщсндйёэхмацт\" with log-likelihood -8026.01808\n",
      "56: found new best permutation \"кьбфоязгуп юиъшщлчывежрсндйёэхмацт\" with log-likelihood -7811.07979\n",
      "61: found new best permutation \"кьбфоязгшп юиъущлчывежрсндйёэхмацт\" with log-likelihood -7718.63780\n",
      "71: found new best permutation \"кыбфоязгшп юиъущлчьвежрсндйёэхмацт\" with log-likelihood -7679.77171\n",
      "75: found new best permutation \"кыбфоязгшп юиъущлчьвежрсндйётхмацэ\" with log-likelihood -7625.82814\n",
      "83: found new best permutation \"кыбфоязгшп юиъущлчьвежрнсдйётхмацэ\" with log-likelihood -7606.20240\n",
      "84: found new best permutation \"кыбтоязгшп юиъущлчьвежрнсдйёфхмацэ\" with log-likelihood -7595.33178\n",
      "92: found new best permutation \"кыбтоязгшп аихущлчьвежрнсдйёфъмюцэ\" with log-likelihood -7537.36009\n",
      "93: found new best permutation \"кыбтоязгшп аихущлчьвежрнсдйёфъмэцю\" with log-likelihood -7489.02361\n",
      "98: found new best permutation \"кыбтоезгшп аихущлчьвяжрнсдйёфъмэцю\" with log-likelihood -7469.26107\n",
      "102: found new best permutation \"кыштоезгбп аихущлчьвяжрнсдйёфъмэцю\" with log-likelihood -7392.00241\n",
      "103: found new best permutation \"кыштоезгбп аихумлчьвяжрнсдйёфъщэцю\" with log-likelihood -7361.41584\n",
      "124: found new best permutation \"тышкоезгбп аихумлчьвяжрнсдйёфъщэцю\" with log-likelihood -7339.80823\n",
      "126: found new best permutation \"тёшкоезгбп аихумлчьвяжрнсдйыфъщэцю\" with log-likelihood -7308.49776\n",
      "131: found new best permutation \"тёшкоезгбп аъхумлчьвяжрнсдйыфищэцю\" with log-likelihood -7254.33815\n",
      "139: found new best permutation \"тёшкоезгбп аъхумлчьвяжрдснйыфищэцю\" with log-likelihood -7236.95829\n",
      "142: found new best permutation \"тёшк езгбпоаъхумлчьвяжрдснйыфищэцю\" with log-likelihood -6848.90496\n",
      "144: found new best permutation \"тёшк езгбпощъхумлчьвяжрдснйыфиаэцю\" with log-likelihood -6792.47646\n",
      "154: found new best permutation \"тёшк езгбпощъхумлчнвяжрдсьйыфиаэцю\" with log-likelihood -6742.21822\n",
      "162: found new best permutation \"тёшы езгбпощъхумлчнвяжрдсьйкфиаэцю\" with log-likelihood -6708.08910\n",
      "163: found new best permutation \"тёшы езгбпощъхумлчнвяфрдсьйкжиаэцю\" with log-likelihood -6690.16151\n",
      "166: found new best permutation \"тёйы езгбпощъхумлчнвяфрдсьшкжиаэцю\" with log-likelihood -6632.73036\n",
      "169: found new best permutation \"тёйы езгбпощъхимлчнвяфрдсьшкжуаэцю\" with log-likelihood -6569.92459\n",
      "170: found new best permutation \"тёйы езгбпощъхимлчнвякрдсьшфжуаэцю\" with log-likelihood -6569.39754\n",
      "206: found new best permutation \"тёйы езгбпощъхимлчвнякрдсьшфжуаэцю\" with log-likelihood -6550.29664\n",
      "215: found new best permutation \"тёйы езгбпощъхимлчвняьрдскшфжуаэцю\" with log-likelihood -6549.33995\n",
      "223: found new best permutation \"тёйы ебгзпощъхимлчвняьрдскшфжуаэцю\" with log-likelihood -6530.70522\n",
      "232: found new best permutation \"тёйы ечгзпощъхимлбвнуьрдскшфжяаэцю\" with log-likelihood -6446.83616\n",
      "238: found new best permutation \"тёйы еагзпощъхимлбвнуьрдскшфжячэцю\" with log-likelihood -6440.88597\n",
      "245: found new best permutation \"тёйы еагзпощъхимлбвнучрдскшфжяьэцю\" with log-likelihood -6368.65509\n",
      "269: found new best permutation \"кёйы еагзпощъхимлбвнучрдстшфжяьэцю\" with log-likelihood -6315.00166\n",
      "284: found new best permutation \"кёйы еагзпощъхиялбвнучрдстшфжмьэцю\" with log-likelihood -6280.78790\n",
      "286: found new best permutation \"кёйы еагзпощъмиялбвнучрдстшфжхьэцю\" with log-likelihood -6278.33540\n",
      "311: found new best permutation \"кёйы еагзпощъмиялбвнучрдстхфжшьэцю\" with log-likelihood -6245.60563\n",
      "315: found new best permutation \"кёйы еагзпощъмиялбвнучрдтсхфжшьэцю\" with log-likelihood -6210.24247\n",
      "359: found new best permutation \"яёйы еагзпощъмиклбвнучрдтсхфжшьэцю\" with log-likelihood -6191.79389\n",
      "384: found new best permutation \"яёйы еагзпощъмиклбвнучрдтсхфжшцэью\" with log-likelihood -6182.24864\n",
      "391: found new best permutation \"яёйы еагзпощъмиквблнучрдтсхфжшцэью\" with log-likelihood -6167.63868\n",
      "400: found new best permutation \"яёйы екгзпощъмиавблнучрдтсхфжшцэью\" with log-likelihood -6161.44916\n",
      "425: found new best permutation \"яёйы екгзпоэъбиавмлнучрдтсхфжшцщью\" with log-likelihood -6139.26366\n",
      "464: found new best permutation \"яёйы екгзпофъбиавмлнучрдтсхщжшцэью\" with log-likelihood -6121.37558\n",
      "509: found new best permutation \"яёаы екгзпофъбийвмлнучрдтсхщжшцэью\" with log-likelihood -6093.24079\n",
      "538: found new best permutation \"яёаы езгкпофъбийвмлнучрдтсхщжшцэью\" with log-likelihood -6067.57870\n",
      "559: found new best permutation \"яёаы езгкпоъфбийвмлнучрдтсхщжшцэью\" with log-likelihood -6034.89135\n",
      "607: found new best permutation \"яёфы езгкпоъабийвмлнучрдтсхщжшцэью\" with log-likelihood -6024.73758\n",
      "640: found new best permutation \"яёфы езгбпоъакийвмлнучрдтсхщжшцэью\" with log-likelihood -6024.43238\n",
      "683: found new best permutation \"яёфы екгбпоъазийвмлнучрдтсхщжшцэью\" with log-likelihood -6021.06314\n",
      "694: found new best permutation \"яёфы екгбпоъизайвмлнучрдтсхщжшцэью\" with log-likelihood -6018.38193\n",
      "721: found new best permutation \"яёфы екгбпоъизайвмлнучрдтсхщшжцэью\" with log-likelihood -6014.43538\n",
      "736: found new best permutation \"яёьы екгбпоъизайвмлнучрдтсхщшжцэфю\" with log-likelihood -6008.56450\n",
      "747: found new best permutation \"яёьы екгчпоъизайвмлнубрдтсхщшжцэфю\" with log-likelihood -6007.47885\n",
      "761: found new best permutation \"ыёья екгчпоъизайвмлнубрдтсхщшжцэфю\" with log-likelihood -5965.00332\n",
      "763: found new best permutation \"ыёья екгчпоъизуйвмлнабрдтсхщшжцэфю\" with log-likelihood -5945.25485\n",
      "785: found new best permutation \"иёья екгчпоъызуйвмлнабрдтсхщшжцэфю\" with log-likelihood -5911.35569\n",
      "871: found new best permutation \"иёья екгзпоъычуйвмлнабрдтсхщшжцэфю\" with log-likelihood -5901.06485\n",
      "905: found new best permutation \"иёья емгзпоъычуйвклнабрдтсхщшжцэфю\" with log-likelihood -5892.79807\n",
      "1002: found new best permutation \"уъья емгзпоёычийвклнабрдтсхщшжцэфю\" with log-likelihood -5830.31520\n",
      "1213: found new best permutation \"уёья емгзпоэючийвклнабрдтсхщшжцъфы\" with log-likelihood -5784.29468\n",
      "1271: found new best permutation \"уёюя емгзпоэьчийвклнабрдтсхщшжцъфы\" with log-likelihood -5780.93773\n",
      "1851: found new best permutation \"уъюя епгзмоэьчийвклнабрдтсхщшжцёфы\" with log-likelihood -5774.48531\n",
      "1944: found new best permutation \"уъюя езгпмоэьчийвклнабрдтсхщшжцёфы\" with log-likelihood -5769.11210\n",
      "2226: found new best permutation \"уъюь езгпмоэячийвклнабрдтсхщшжцёфы\" with log-likelihood -5766.96755\n",
      "2362: found new best permutation \"уъюь ебгзмоэячийвклнапрдтсхщшжцёфы\" with log-likelihood -5751.28841\n",
      "2575: found new best permutation \"уёюь ебгзмоэсчийвклнапрдтяхщшжцъфы\" with log-likelihood -5747.62114\n",
      "2635: found new best permutation \"уёюь ебгзмоэчсийвклнапрдтяхщшжцъфы\" with log-likelihood -5728.40688\n",
      "2774: found new best permutation \"уёюь ебгзмоэчдийвклнапрстяхщшжцъфы\" with log-likelihood -5678.73270\n"
     ]
    },
    {
     "name": "stdout",
     "output_type": "stream",
     "text": [
      "2894: found new best permutation \"уъюь ебгзмоэждийвклнапрстяхщшчцёфы\" with log-likelihood -5676.87251\n",
      "2922: found new best permutation \"уъюь ебкзмоэждийвглнапрстяхщшчцёфы\" with log-likelihood -5654.22879\n",
      "3001: found new best permutation \"уъюь ебкздоэжмийвглнапрстяхщшчцёфы\" with log-likelihood -5635.12149\n",
      "3124: found new best permutation \"уэюь ебкздоъчмийвглнапрстяхщшжцёфы\" with log-likelihood -5629.92983\n",
      "3159: found new best permutation \"уэюь ебкздоъчгийвмлнапрстяхщшжцёфы\" with log-likelihood -5583.11324\n",
      "3253: found new best permutation \"уэюь ебкздофчшийвмлнапрстяхщгжцёъы\" with log-likelihood -5581.63636\n",
      "3467: found new best permutation \"уэюь ебкздофшчийвмлнапрстяхщгжцёъы\" with log-likelihood -5576.43165\n",
      "3500: found new best permutation \"уфюь ебкздоэшчийвлмнапрстяхщгжцёъы\" with log-likelihood -5570.96397\n",
      "3547: found new best permutation \"уфюь ебкздоэцчийвлмнапрстяхщгжшёъы\" with log-likelihood -5570.14761\n",
      "3824: found new best permutation \"ьфюу ебкздоэцчийвлмнапрстяхщгжшёъы\" with log-likelihood -5547.49554\n",
      "3851: found new best permutation \"ьфюу ебкздоэцчийнлмвапрстяхщгжшёъы\" with log-likelihood -5539.44869\n",
      "4474: found new best permutation \"ьфюу ебкздоэщчийнлмвапрстяхцгжшёъы\" with log-likelihood -5534.93275\n",
      "4682: found new best permutation \"ьфюя ебкздоёщчийнлмвапрстухцгжшэъы\" with log-likelihood -5502.48416\n",
      "5141: found new best permutation \"ьъюя ебкздоэщчийнлмвапрстухцгжшёфы\" with log-likelihood -5497.97487\n",
      "5387: found new best permutation \"ьёюя ебкздоэщчийвлмнапрстухцгжшъфы\" with log-likelihood -5495.29396\n",
      "5599: found new best permutation \"ьъюя ебвздоэщчийклмнапрстухцгжшёфы\" with log-likelihood -5483.39016\n",
      "5604: found new best permutation \"ьъюя обвздеэщчийклмнапрстухцгжшёфы\" with log-likelihood -5481.03552\n",
      "5635: found new best permutation \"ьъюя обвздеэщгийклмнапрстухцчжшёфы\" with log-likelihood -5476.16178\n",
      "5637: found new best permutation \"ьъюя обвздеэщгийклмнапрстуфцчжшёхы\" with log-likelihood -5468.81047\n",
      "5689: found new best permutation \"ьъюя обвздеэхгийклмнапрстуфцчжшёщы\" with log-likelihood -5449.88854\n",
      "5808: found new best permutation \"ьъюя обвздеёхгийклмнапрстуфцжчшэщы\" with log-likelihood -5449.36071\n",
      "6078: found new best permutation \"ьъюя обвздеёхгийклмнапрстуцфжчшэщы\" with log-likelihood -5444.27136\n",
      "6214: found new best permutation \"ьъюя обвздеёхгийклмнапрстужфцчшэщы\" with log-likelihood -5440.04704\n",
      "6231: found new best permutation \"ьъюя обвздеёфгийклмнапрстужхцчшэщы\" with log-likelihood -5429.85048\n",
      "Accepted: 704/100000 (0.7040000000000001%)\n"
     ]
    }
   ],
   "source": [
    "best_permutation2, ll_history2 = mcmc(ru_text_encoded2, ru_stat, ru_alphabet, n_iter=int(1e5), early_stopping_rounds=int(1e4))"
   ]
  },
  {
   "cell_type": "code",
   "execution_count": 62,
   "metadata": {},
   "outputs": [
    {
     "data": {
      "image/png": "[encoded data removed]",
      "text/plain": [
       "<Figure size 432x288 with 1 Axes>"
      ]
     },
     "metadata": {
      "needs_background": "light"
     },
     "output_type": "display_data"
    }
   ],
   "source": [
    "plt.plot(range(len(ll_history2)), ll_history2);"
   ]
  },
  {
   "cell_type": "code",
   "execution_count": 63,
   "metadata": {},
   "outputs": [],
   "source": [
    "decoded2 = apply_permutation(ru_text_encoded2, ru_alphabet, best_permutation2)"
   ]
  },
  {
   "cell_type": "code",
   "execution_count": 65,
   "metadata": {
    "scrolled": true
   },
   "outputs": [
    {
     "name": "stdout",
     "output_type": "stream",
     "text": [
      "0.792016806722689\n"
     ]
    },
    {
     "data": {
      "text/plain": [
       "' верьте оль не верьте о фил но белам свете жедат стрелец удолай маладец был жедат ни кросовец ни урад ни румян ни бледен ни базот ни беден ни в порше ни в порче о ток ваабче слуфбо у жедато рыболко до ахато цорю дичь до рыбо жедату спосиба застей ва дварце кок семян в азурце адин иг швеции друзай иг зреции третий с зовой и всем фроть падовой аднаму аморав друзаму кольморав третьему сордин о дабытчик адин кок та рог доют ему приког чуть свет паутру явиться ка двару цорь но вид смарчак бошко с кулочак о глабнасти в ем озрамодный абщем сматрит но жедьку кок ягвенник но редьку но жедьке ат строхо номакло рубохо в вискох гостучола в пуге гоурчола тут кок заварится и скогке ночола к ном но утренний россал прибыл озлицкий пасал о у нос в даму гокуски палзарбушки до масал сноряфойся бротец в путь до сщестназа ном дабудь злухоря оль курапотку оль иша каза нибудь не смазешь каза винить я далфан тебя когнить засудорственнае дела ты уловливоешь нить '"
      ]
     },
     "execution_count": 65,
     "metadata": {},
     "output_type": "execute_result"
    }
   ],
   "source": [
    "print(accuracy(decoded2, ru_text2))\n",
    "decoded2"
   ]
  },
  {
   "cell_type": "markdown",
   "metadata": {},
   "source": [
    "Уже хуже, но в целом прочитать текст можно"
   ]
  },
  {
   "cell_type": "markdown",
   "metadata": {},
   "source": [
    "## Непляшущие стрелочки\n",
    "Попробуем расшифровать загадочное сообщение из стрелочек тем же самым алгоритмом. Чтобы его можно было применить, нужно перевести стрелочный алфавит в кириллицу (если, конечно, оригинальное сообщение на русском)"
   ]
  },
  {
   "cell_type": "code",
   "execution_count": 40,
   "metadata": {},
   "outputs": [],
   "source": [
    "message = \"\"\"←⇠⇒↟↹↷⇊↹↷↟↤↟↨←↹↝⇛⇯↳⇴⇒⇈↝⇊↾↹↟⇒↟↹⇷⇛⇞↨↟↹↝⇛⇯↳⇴⇒⇈↝⇊↾↹↨←⇌⇠↨↹⇙↹⇸↨⇛↙⇛↹⇠⇛⇛↲⇆←↝↟↞↹⇌⇛↨⇛⇯⇊↾↹⇒←↙⇌⇛↹⇷⇯⇛⇞↟↨⇴↨⇈↹⇠⇌⇛⇯←←↹↷⇠←↙⇛↹↷⇊↹↷⇠←↹⇠↤←⇒⇴⇒↟↹⇷⇯⇴↷↟⇒⇈↝⇛↹↟↹⇷⇛⇒⇙⇞↟↨←↹↳⇴⇌⇠↟↳⇴⇒⇈↝⇊↾↹↲⇴⇒⇒↹⇰⇴↹⇷⇛⇠⇒←↤↝←←↹⇞←↨↷←⇯↨⇛←↹⇰⇴↤⇴↝↟←↹⇌⇙⇯⇠⇴↹↘⇛↨↞↹⇌⇛↝←⇞↝⇛↹↞↹↝↟⇞←↙⇛↹↝←↹⇛↲←⇆⇴⇏\"\"\""
   ]
  },
  {
   "cell_type": "code",
   "execution_count": 41,
   "metadata": {},
   "outputs": [
    {
     "data": {
      "text/plain": [
       "28"
      ]
     },
     "execution_count": 41,
     "metadata": {},
     "output_type": "execute_result"
    }
   ],
   "source": [
    "message_alphabet = ''.join(sorted(set(message)))\n",
    "len(message_alphabet)"
   ]
  },
  {
   "cell_type": "code",
   "execution_count": 42,
   "metadata": {},
   "outputs": [
    {
     "data": {
      "text/plain": [
       "' фрдйинйидедё йвтхзчрмвнкйдрдйштуёдйвтхзчрмвнкйё офёйсйщётбтйфттжл вдгйотётхнкйр ботйшхтудёчёмйфотх  йиф бтйинйиф йфе рчрдйшхчидрмвтйдйштрсудё йзчофдзчрмвнкйжчррйцчйштфр ев  йу ёи хёт йцчечвд йосхфчйатёгйотв увтйгйвду бтйв йтж лчп'"
      ]
     },
     "execution_count": 42,
     "metadata": {},
     "output_type": "execute_result"
    }
   ],
   "source": [
    "ru_message = apply_permutation(message, message_alphabet, ru_alphabet[:len(message_alphabet)])\n",
    "ru_message"
   ]
  },
  {
   "cell_type": "code",
   "execution_count": 59,
   "metadata": {
    "scrolled": true
   },
   "outputs": [
    {
     "name": "stdout",
     "output_type": "stream",
     "text": [
      "Initial permutation \"зфйждъвбтгёхацщпср ыоянуэчекилшмюь\" with log-likelihood -2503.79450\n",
      "4: found new best permutation \"зфйждъвстгёхацщпбр ыоянуэчекилюмшь\" with log-likelihood -2491.63328\n",
      "5: found new best permutation \"зфйждмвстгёхацщпбр ыоянуэчекилюъшь\" with log-likelihood -2383.78131\n",
      "7: found new best permutation \"зшйждмвстгёхацщпбр ыоянуэчекилюъфь\" with log-likelihood -2379.86185\n",
      "9: found new best permutation \"зшйыдмвстгёхацщпбр жоянуэчекилюъфь\" with log-likelihood -2360.15266\n",
      "10: found new best permutation \"зшйыдувстгёхацщпбр жоянмэчекилюъфь\" with log-likelihood -2308.80576\n",
      "13: found new best permutation \"зшйыдувстгёлацщпбр жоянмэчекихюъфь\" with log-likelihood -2069.86164\n",
      "16: found new best permutation \"зшйыдувстгэлацщпбр жоянмёчекихюъфь\" with log-likelihood -2062.05210\n",
      "32: found new best permutation \"ашйыдувстгэлзцщпбр жоянмёчекихьъфю\" with log-likelihood -2037.40747\n",
      "47: found new best permutation \"ашйыдувстгзлэцщпбр жоянмёчекихьъфю\" with log-likelihood -2002.86750\n",
      "49: found new best permutation \"ажйыдувстгзлэцщпбр шоянмёчекихьъфю\" with log-likelihood -1999.80996\n",
      "50: found new best permutation \"ажйгдувстызлэцщпбр шоянмёчекихьъфю\" with log-likelihood -1922.53616\n",
      "52: found new best permutation \"ажйгдувстпзлэцщыбр шоянмёчекихьъфю\" with log-likelihood -1913.76103\n",
      "57: found new best permutation \"ажхгдувстпзлэцщыбр шоянмёчекийьъфю\" with log-likelihood -1897.84038\n",
      "59: found new best permutation \"ажхгдувстпзлэящыбр шоцнмёчекийьъфю\" with log-likelihood -1895.51017\n",
      "63: found new best permutation \"ажхндувстпзлэящыбр шоцгмёчекийьъфю\" with log-likelihood -1859.66408\n",
      "70: found new best permutation \"ажхндувстпзлэяюыбр шоцгмёчекийьъфщ\" with log-likelihood -1852.83290\n",
      "74: found new best permutation \"ажхндушстпзлэяюыбр воцгмёчекийьъфщ\" with log-likelihood -1849.70226\n",
      "75: found new best permutation \"ажхндушстпюлэязыбр воцгмёчекийьъфщ\" with log-likelihood -1831.97052\n",
      "79: found new best permutation \"ажхндушстпюлэязырб воцгмёчекийьъфщ\" with log-likelihood -1815.34152\n",
      "81: found new best permutation \"ажхндушстпюлзяэырб воцгмёчекийьъфщ\" with log-likelihood -1812.85801\n",
      "93: found new best permutation \"ажхндушстпюлвяэыцъ зоргмёчекийьбфщ\" with log-likelihood -1805.59319\n",
      "94: found new best permutation \"ажхндушстпюлчяэыцъ зоргмёвекийьбфщ\" with log-likelihood -1793.36355\n",
      "116: found new best permutation \"ажхндушстцюлчяэыпщ зоргмёвекийьбфъ\" with log-likelihood -1758.43911\n",
      "121: found new best permutation \"ажхнэушстцюлчядыпщ зоргмёвекийьбфъ\" with log-likelihood -1754.17873\n",
      "122: found new best permutation \"ажхнэушсцтюлчядыпщ зоргмёвекийьбфъ\" with log-likelihood -1752.96050\n",
      "128: found new best permutation \"ажхнэушсцтюлчщдыпя зоргмёвекфйьбиъ\" with log-likelihood -1751.79869\n",
      "129: found new best permutation \"ажхнэушсцтюлчщдыия зоргмёвекфйьбпъ\" with log-likelihood -1722.99149\n",
      "130: found new best permutation \"ажхнэушсцтелчщдыия зоргмёвюкфйьбпъ\" with log-likelihood -1712.85870\n",
      "131: found new best permutation \"ажхнэушгцтелчщдыия зорсмёвюкфйьбпъ\" with log-likelihood -1712.78852\n",
      "132: found new best permutation \"ажхнэушгцтлечщдыия зорсмёвюкфйьбпъ\" with log-likelihood -1694.71473\n",
      "144: found new best permutation \"ажхнэушгктлечщдыия зорсмёвюцфйбьпъ\" with log-likelihood -1682.41807\n",
      "150: found new best permutation \"ажхнэушгктлечщдыия зорсмёвпцюйбьфъ\" with log-likelihood -1654.47312\n",
      "156: found new best permutation \"ажхнэушгктлечщдыия зорсмювпцёйбьфъ\" with log-likelihood -1639.89390\n",
      "172: found new best permutation \"ацхнэушгктлечщдыия зорсмювпжёйбьфъ\" with log-likelihood -1637.53416\n",
      "212: found new best permutation \"ацхнэушгктлечщдыия зорсмювпбёйжьфъ\" with log-likelihood -1637.49355\n",
      "215: found new best permutation \"ацхнкушгэтлечщдыия зорсмювпбёйжьфъ\" with log-likelihood -1629.51589\n",
      "259: found new best permutation \"ацхнщушгэтлечкдыия зорсмювпбёъжьфй\" with log-likelihood -1617.86584\n",
      "261: found new best permutation \"ацхнщушгэилечкдытя зорсмювпбёъжьфй\" with log-likelihood -1595.34107\n",
      "262: found new best permutation \"ацхнщушгэилечкдытя зорсбювпмёъжьфй\" with log-likelihood -1592.28552\n",
      "264: found new best permutation \"аэхнщушгцилечкдытя зорсбювпмёъжьфй\" with log-likelihood -1585.33081\n",
      "281: found new best permutation \"аёхнщушгцилечкдытя зорсбювмпэъжьфй\" with log-likelihood -1584.45449\n",
      "297: found new best permutation \"афхнщушгцилечкдытя зорсбювмпёъжьэй\" with log-likelihood -1575.85535\n",
      "316: found new best permutation \"афхнщушгцвлечкдытя зорсбюимпёъжьэй\" with log-likelihood -1545.54723\n",
      "343: found new best permutation \"аюхнщушгцвлечкдытя зорсбфимпёьжъэй\" with log-likelihood -1542.06235\n",
      "347: found new best permutation \"аюхнщушгцвлечкдытп зорсбфимяёьжъэй\" with log-likelihood -1541.37186\n",
      "364: found new best permutation \"аюхнщушгпвлечкдытц зорсбфимяёьжъэй\" with log-likelihood -1531.18726\n",
      "367: found new best permutation \"аюхнщушгпвлечкдытц зорсбжимяёьфъэй\" with log-likelihood -1520.20797\n",
      "374: found new best permutation \"аюхнщушгпвлечкдытц яорсбжимзёьфъэй\" with log-likelihood -1519.47137\n",
      "377: found new best permutation \"аюхнщушгпблечкдытц яорсвжимзёьфъэй\" with log-likelihood -1516.95325\n",
      "410: found new best permutation \"аюхнщушгпчлебкдытц яорсвжимзёьфъэй\" with log-likelihood -1509.50925\n",
      "414: found new best permutation \"аюхнщукгпчлебшдытц яорсвжимзйьфъэё\" with log-likelihood -1502.28474\n",
      "429: found new best permutation \"аюхнщукгпчлебшдытц яовсржимзйьёъэф\" with log-likelihood -1502.04279\n",
      "468: found new best permutation \"аюхнщукгмчлебшдытц яовсржипзйьёъэф\" with log-likelihood -1490.72350\n",
      "483: found new best permutation \"аюхнщукгмчлебшдытй яовсржипзцьёъэф\" with log-likelihood -1490.39923\n",
      "517: found new best permutation \"аюхнщукмгчлебждытй яовсршипзцьёъэф\" with log-likelihood -1489.60226\n",
      "586: found new best permutation \"аюхнщукмгшлебждытц яовсрчипзьэёйъф\" with log-likelihood -1487.28980\n",
      "598: found new best permutation \"ацхнщукмгшлебждытю яовсрчипзьэёйъф\" with log-likelihood -1482.72706\n",
      "637: found new best permutation \"ацхнщукмгжлебшдытю яовсрчипйъёзэьф\" with log-likelihood -1480.84373\n",
      "727: found new best permutation \"ацхнщукмгжлебшдытю зовсрчипйёъфэья\" with log-likelihood -1480.50230\n",
      "746: found new best permutation \"ацхнчукмгжлебшдытю зовсрщипйёъфэья\" with log-likelihood -1476.24027\n",
      "759: found new best permutation \"ацхнчукдгжлебшмытю зовсрщипйёъяэьф\" with log-likelihood -1467.93558\n",
      "943: found new best permutation \"ацхнчукдгжлебшмытя зовсрщипйюьфёэъ\" with log-likelihood -1466.06378\n",
      "981: found new best permutation \"ацхнчукдгжл бшмытяезовсрщипйюьфёэъ\" with log-likelihood -1427.59841\n",
      "1007: found new best permutation \"ацхнчукдгжл бшмытйзеовсрщипяюьфёэъ\" with log-likelihood -1422.12270\n",
      "1010: found new best permutation \"ацхнчукдгжл бшмытйзеовсрфипяюьэёщъ\" with log-likelihood -1419.38580\n",
      "1029: found new best permutation \"ацхнчукдгжл бшмывйзеотсрфипяюьъёщэ\" with log-likelihood -1417.72521\n",
      "1034: found new best permutation \"ацхнчукдгжл бшьывйзеотсрфипяюмъёщэ\" with log-likelihood -1413.70069\n",
      "1066: found new best permutation \"ацхнчукдгжз бшьывйлеотсрфипяюмъёщэ\" with log-likelihood -1387.70935\n",
      "1071: found new best permutation \"ацхнчукдгжт бшьывйлеозсрфипяюмъёщэ\" with log-likelihood -1376.00755\n",
      "1098: found new best permutation \"ацхнчукдгжб тшьывйлеозсрфипяюмъёщэ\" with log-likelihood -1374.89782\n",
      "1114: found new best permutation \"ацхнчукдгжм тшьывйлеозсрфипяюбъёщэ\" with log-likelihood -1372.37214\n",
      "1148: found new best permutation \"ацхнчукдгжм тшьывйлиозсрфепяюбщэъё\" with log-likelihood -1368.66873\n",
      "1159: found new best permutation \"ацхнчукдгжм тшьывйлиозсрщепяюбфэъё\" with log-likelihood -1367.78670\n",
      "1174: found new best permutation \"ацхнчикдгжм тшьывйлуозсрщепяюбфэъё\" with log-likelihood -1352.43919\n",
      "1205: found new best permutation \"ацхняикдгжм тшьывйлуозсрщепчюбъэёф\" with log-likelihood -1348.16253\n",
      "1207: found new best permutation \"ацхняикдгжм тшьывйлуозсрчепщюбъэёф\" with log-likelihood -1342.13774\n",
      "1229: found new best permutation \"ацхняикдгжм тшьывйлуозсрчепбющъэёф\" with log-likelihood -1333.70202\n",
      "1239: found new best permutation \"ацхняикдгжт мшьывщлуозсрчепбюйъэёф\" with log-likelihood -1321.40305\n",
      "1324: found new best permutation \"ацхняикдгжт мшьывйлуозсрчепбющъфёэ\" with log-likelihood -1320.02852\n",
      "1585: found new best permutation \"ецхняикдгжл мшьывйтуозсрчапбюэъщфё\" with log-likelihood -1312.55905\n",
      "1616: found new best permutation \"ебхняикдгжв мшьылщтуозсрчапцюэёйъф\" with log-likelihood -1310.83761\n",
      "1632: found new best permutation \"ебхняилдгжв мшьыкщтуозсрчапцъэёйюф\" with log-likelihood -1310.09296\n",
      "1670: found new best permutation \"езхняилдгжв мшьыкщтуобсрчапцюэёйъф\" with log-likelihood -1309.37482\n",
      "1679: found new best permutation \"езхняилдгжв мшьыкщтуобсрчапюцэёйъф\" with log-likelihood -1304.70310\n"
     ]
    },
    {
     "name": "stdout",
     "output_type": "stream",
     "text": [
      "2265: found new best permutation \"ефхняишдгкв мчьылжтуобсрзапэъёцйщю\" with log-likelihood -1303.91099\n",
      "2274: found new best permutation \"ефхняишдгкв йчьылжтуобсрзапэъёюмщц\" with log-likelihood -1303.65893\n",
      "2350: found new best permutation \"ефмняишдгкв йчьылжтуобсрзапэёхюцщъ\" with log-likelihood -1295.34135\n",
      "2354: found new best permutation \"ефгняишдмкв йчьылжтуобсрзапэёхюцщъ\" with log-likelihood -1286.91530\n",
      "2472: found new best permutation \"ефгняимтжкв йчьылшдуобсрзапэцхюёщъ\" with log-likelihood -1280.59144\n",
      "2589: found new best permutation \"ешгняимтжкв йчьылфдуобсрзапэъёщцхю\" with log-likelihood -1279.93909\n",
      "2654: found new best permutation \"ешгняимджкв йчьылфтуобсрзапэёъхцщю\" with log-likelihood -1278.79303\n",
      "2772: found new best permutation \"ешгняимджкв йчьытюлуобсрзапхцёъщэф\" with log-likelihood -1278.13688\n",
      "2827: found new best permutation \"ешгняимджкв йчьытюлуобсрхапзщёцъэф\" with log-likelihood -1275.42939\n",
      "3090: found new best permutation \"ехгняимджкв йчьытюлуобсршапзёщцфэъ\" with log-likelihood -1273.62906\n",
      "3285: found new best permutation \"ехгняимтжкв йчьыдфлуобсршапзёюэщъц\" with log-likelihood -1268.18660\n",
      "3308: found new best permutation \"ехгняимтжкв йчьыдфлуобсршапэюёзщъц\" with log-likelihood -1263.23487\n",
      "3339: found new best permutation \"ехгняимтжкв йчьыдюлуобсршапэфцзщъё\" with log-likelihood -1262.30828\n",
      "3434: found new best permutation \"ехгняимтбкв йшьыдюлуожсрчапэфцщзъё\" with log-likelihood -1259.32805\n",
      "3456: found new best permutation \"ехгняимтчкв йшьыдюлуожсрбапэфъщзцё\" with log-likelihood -1258.18342\n",
      "3479: found new best permutation \"ехгняимтчкв йшьыдцлуожсрзапэфъщбюё\" with log-likelihood -1257.66651\n",
      "3564: found new best permutation \"ехгняимтчкв йшьыдцлуобсрзапэъфюжщё\" with log-likelihood -1256.76077\n",
      "3602: found new best permutation \"ехгняимтчкв йшьыдфлуожсрзапэъцюбщё\" with log-likelihood -1256.59153\n",
      "3634: found new best permutation \"ехгняимтчдв йшьыкфлуожсрзапэбщюъцё\" with log-likelihood -1253.82592\n",
      "3644: found new best permutation \"ебгняимтчдв йшьыкфлуожсрзапэхёюъцщ\" with log-likelihood -1252.34461\n",
      "4023: found new best permutation \"ебгняимтчдв йшьыкхлуожсрзапэцщъюфё\" with log-likelihood -1251.35092\n",
      "4095: found new best permutation \"ебгняижтчдв йшьыкхлуомсрзапэцщфюёъ\" with log-likelihood -1249.63167\n",
      "4180: found new best permutation \"ебгняидтчжв йшьыкюлуомсрзапэцхфщёъ\" with log-likelihood -1249.08899\n",
      "4359: found new best permutation \"ебгняимтчжв йшьыкюлуодсрзапэъхёцщф\" with log-likelihood -1245.39204\n",
      "5734: found new best permutation \"ебгняимтчжв йшьыкхлуодсрзапэцщюфёъ\" with log-likelihood -1245.32494\n",
      "10011: found new best permutation \"ехгняимтбдв йщьыкюлуочсрзапэжёъшфц\" with log-likelihood -1244.62254\n",
      "10754: found new best permutation \"ехгняимтбдв йщьыкжлуочсрзапэфюъшцё\" with log-likelihood -1244.29240\n",
      "Accepted: 798/20000 (3.9899999999999998%)\n"
     ]
    }
   ],
   "source": [
    "best_permutation, ll_history = mcmc(ru_message, ru_stat, ru_alphabet, n_iter=20000)"
   ]
  },
  {
   "cell_type": "code",
   "execution_count": 60,
   "metadata": {},
   "outputs": [
    {
     "data": {
      "image/png": "[encoded data removed]",
      "text/plain": [
       "<Figure size 432x288 with 1 Axes>"
      ]
     },
     "metadata": {
      "needs_background": "light"
     },
     "output_type": "display_data"
    }
   ],
   "source": [
    "plt.plot(range(len(ll_history)), ll_history);"
   ]
  },
  {
   "cell_type": "code",
   "execution_count": 61,
   "metadata": {},
   "outputs": [],
   "source": [
    "decoded_message = apply_permutation(ru_message, ru_alphabet, best_permutation)"
   ]
  },
  {
   "cell_type": "code",
   "execution_count": 62,
   "metadata": {},
   "outputs": [
    {
     "data": {
      "text/plain": [
       "'если вы вимите нордальный или почти нордальный текст у этого сообщения который легко прочитать скорее всего вы все смелали правильно и получите даксидальный балл за послемнее четвертое замание курса хотя конечно я ничего не обещаж'"
      ]
     },
     "execution_count": 62,
     "metadata": {},
     "output_type": "execute_result"
    }
   ],
   "source": [
    "decoded_message"
   ]
  }
 ],
 "metadata": {
  "hide_input": false,
  "kernelspec": {
   "display_name": "Python 3",
   "language": "python",
   "name": "python3"
  },
  "language_info": {
   "codemirror_mode": {
    "name": "ipython",
    "version": 3
   },
   "file_extension": ".py",
   "mimetype": "text/x-python",
   "name": "python",
   "nbconvert_exporter": "python",
   "pygments_lexer": "ipython3",
   "version": "3.6.8"
  },
  "varInspector": {
   "cols": {
    "lenName": 16,
    "lenType": 16,
    "lenVar": 40
   },
   "kernels_config": {
    "python": {
     "delete_cmd_postfix": "",
     "delete_cmd_prefix": "del ",
     "library": "var_list.py",
     "varRefreshCmd": "print(var_dic_list())"
    },
    "r": {
     "delete_cmd_postfix": ") ",
     "delete_cmd_prefix": "rm(",
     "library": "var_list.r",
     "varRefreshCmd": "cat(var_dic_list()) "
    }
   },
   "types_to_exclude": [
    "module",
    "function",
    "builtin_function_or_method",
    "instance",
    "_Feature"
   ],
   "window_display": false
  },
  "widgets": {
   "application/vnd.jupyter.widget-state+json": {
    "state": {},
    "version_major": 2,
    "version_minor": 0
   }
  }
 },
 "nbformat": 4,
 "nbformat_minor": 2
}
